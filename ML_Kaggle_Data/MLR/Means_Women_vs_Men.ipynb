{
 "cells": [
  {
   "cell_type": "code",
   "execution_count": 2,
   "metadata": {},
   "outputs": [],
   "source": [
    "import warnings\n",
    "warnings.filterwarnings('ignore')\n",
    "import pandas as pd\n",
    "import numpy as np\n",
    "import seaborn as sns \n",
    "import matplotlib.pyplot as plt"
   ]
  },
  {
   "cell_type": "code",
   "execution_count": 3,
   "metadata": {},
   "outputs": [
    {
     "data": {
      "text/html": [
       "<div>\n",
       "<style scoped>\n",
       "    .dataframe tbody tr th:only-of-type {\n",
       "        vertical-align: middle;\n",
       "    }\n",
       "\n",
       "    .dataframe tbody tr th {\n",
       "        vertical-align: top;\n",
       "    }\n",
       "\n",
       "    .dataframe thead th {\n",
       "        text-align: right;\n",
       "    }\n",
       "</style>\n",
       "<table border=\"1\" class=\"dataframe\">\n",
       "  <thead>\n",
       "    <tr style=\"text-align: right;\">\n",
       "      <th></th>\n",
       "      <th>Gender</th>\n",
       "      <th>Formal_Education</th>\n",
       "      <th>Years_Coding</th>\n",
       "      <th>Salary</th>\n",
       "      <th>Age</th>\n",
       "    </tr>\n",
       "  </thead>\n",
       "  <tbody>\n",
       "    <tr>\n",
       "      <th>0</th>\n",
       "      <td>1</td>\n",
       "      <td>0.900000</td>\n",
       "      <td>3.600000</td>\n",
       "      <td>84749.500000</td>\n",
       "      <td>19.5</td>\n",
       "    </tr>\n",
       "    <tr>\n",
       "      <th>1</th>\n",
       "      <td>1</td>\n",
       "      <td>1.340426</td>\n",
       "      <td>4.276596</td>\n",
       "      <td>72265.457447</td>\n",
       "      <td>23.0</td>\n",
       "    </tr>\n",
       "    <tr>\n",
       "      <th>2</th>\n",
       "      <td>1</td>\n",
       "      <td>2.231527</td>\n",
       "      <td>6.162562</td>\n",
       "      <td>102780.293103</td>\n",
       "      <td>27.0</td>\n",
       "    </tr>\n",
       "    <tr>\n",
       "      <th>3</th>\n",
       "      <td>1</td>\n",
       "      <td>2.018182</td>\n",
       "      <td>7.981818</td>\n",
       "      <td>103727.909091</td>\n",
       "      <td>32.0</td>\n",
       "    </tr>\n",
       "    <tr>\n",
       "      <th>4</th>\n",
       "      <td>1</td>\n",
       "      <td>2.196721</td>\n",
       "      <td>9.893443</td>\n",
       "      <td>124011.819672</td>\n",
       "      <td>37.0</td>\n",
       "    </tr>\n",
       "    <tr>\n",
       "      <th>5</th>\n",
       "      <td>1</td>\n",
       "      <td>1.871560</td>\n",
       "      <td>11.605505</td>\n",
       "      <td>108215.096330</td>\n",
       "      <td>42.0</td>\n",
       "    </tr>\n",
       "    <tr>\n",
       "      <th>6</th>\n",
       "      <td>1</td>\n",
       "      <td>2.314286</td>\n",
       "      <td>13.371429</td>\n",
       "      <td>125678.071429</td>\n",
       "      <td>47.0</td>\n",
       "    </tr>\n",
       "    <tr>\n",
       "      <th>7</th>\n",
       "      <td>1</td>\n",
       "      <td>2.481481</td>\n",
       "      <td>11.722222</td>\n",
       "      <td>110471.722222</td>\n",
       "      <td>52.0</td>\n",
       "    </tr>\n",
       "    <tr>\n",
       "      <th>8</th>\n",
       "      <td>1</td>\n",
       "      <td>1.769231</td>\n",
       "      <td>12.384615</td>\n",
       "      <td>147018.730769</td>\n",
       "      <td>57.0</td>\n",
       "    </tr>\n",
       "    <tr>\n",
       "      <th>9</th>\n",
       "      <td>1</td>\n",
       "      <td>2.125000</td>\n",
       "      <td>15.083333</td>\n",
       "      <td>129791.208333</td>\n",
       "      <td>64.5</td>\n",
       "    </tr>\n",
       "  </tbody>\n",
       "</table>\n",
       "</div>"
      ],
      "text/plain": [
       "   Gender  Formal_Education  Years_Coding         Salary   Age\n",
       "0       1          0.900000      3.600000   84749.500000  19.5\n",
       "1       1          1.340426      4.276596   72265.457447  23.0\n",
       "2       1          2.231527      6.162562  102780.293103  27.0\n",
       "3       1          2.018182      7.981818  103727.909091  32.0\n",
       "4       1          2.196721      9.893443  124011.819672  37.0\n",
       "5       1          1.871560     11.605505  108215.096330  42.0\n",
       "6       1          2.314286     13.371429  125678.071429  47.0\n",
       "7       1          2.481481     11.722222  110471.722222  52.0\n",
       "8       1          1.769231     12.384615  147018.730769  57.0\n",
       "9       1          2.125000     15.083333  129791.208333  64.5"
      ]
     },
     "execution_count": 3,
     "metadata": {},
     "output_type": "execute_result"
    }
   ],
   "source": [
    "#Import Women Means Data\n",
    "Women_df = pd.read_csv('Women_Means_Dataset.csv')\n",
    "Women_df"
   ]
  },
  {
   "cell_type": "code",
   "execution_count": 4,
   "metadata": {},
   "outputs": [
    {
     "data": {
      "text/html": [
       "<div>\n",
       "<style scoped>\n",
       "    .dataframe tbody tr th:only-of-type {\n",
       "        vertical-align: middle;\n",
       "    }\n",
       "\n",
       "    .dataframe tbody tr th {\n",
       "        vertical-align: top;\n",
       "    }\n",
       "\n",
       "    .dataframe thead th {\n",
       "        text-align: right;\n",
       "    }\n",
       "</style>\n",
       "<table border=\"1\" class=\"dataframe\">\n",
       "  <thead>\n",
       "    <tr style=\"text-align: right;\">\n",
       "      <th></th>\n",
       "      <th>Gender</th>\n",
       "      <th>Formal_Education</th>\n",
       "      <th>Years_Coding</th>\n",
       "      <th>Salary</th>\n",
       "      <th>Age</th>\n",
       "    </tr>\n",
       "  </thead>\n",
       "  <tbody>\n",
       "    <tr>\n",
       "      <th>0</th>\n",
       "      <td>0</td>\n",
       "      <td>2.250000</td>\n",
       "      <td>6.687500</td>\n",
       "      <td>63569.828125</td>\n",
       "      <td>19.5</td>\n",
       "    </tr>\n",
       "    <tr>\n",
       "      <th>1</th>\n",
       "      <td>0</td>\n",
       "      <td>1.468085</td>\n",
       "      <td>3.961702</td>\n",
       "      <td>81898.436170</td>\n",
       "      <td>23.0</td>\n",
       "    </tr>\n",
       "    <tr>\n",
       "      <th>2</th>\n",
       "      <td>0</td>\n",
       "      <td>1.894661</td>\n",
       "      <td>5.763348</td>\n",
       "      <td>101665.448052</td>\n",
       "      <td>27.0</td>\n",
       "    </tr>\n",
       "    <tr>\n",
       "      <th>3</th>\n",
       "      <td>0</td>\n",
       "      <td>2.011208</td>\n",
       "      <td>8.782067</td>\n",
       "      <td>130376.534247</td>\n",
       "      <td>32.0</td>\n",
       "    </tr>\n",
       "    <tr>\n",
       "      <th>4</th>\n",
       "      <td>0</td>\n",
       "      <td>2.024390</td>\n",
       "      <td>11.356098</td>\n",
       "      <td>139484.879675</td>\n",
       "      <td>37.0</td>\n",
       "    </tr>\n",
       "    <tr>\n",
       "      <th>5</th>\n",
       "      <td>0</td>\n",
       "      <td>2.257683</td>\n",
       "      <td>12.756501</td>\n",
       "      <td>154881.319149</td>\n",
       "      <td>42.0</td>\n",
       "    </tr>\n",
       "    <tr>\n",
       "      <th>6</th>\n",
       "      <td>0</td>\n",
       "      <td>2.071429</td>\n",
       "      <td>13.398810</td>\n",
       "      <td>155624.520833</td>\n",
       "      <td>47.0</td>\n",
       "    </tr>\n",
       "    <tr>\n",
       "      <th>7</th>\n",
       "      <td>0</td>\n",
       "      <td>2.079470</td>\n",
       "      <td>13.523179</td>\n",
       "      <td>149678.322848</td>\n",
       "      <td>52.0</td>\n",
       "    </tr>\n",
       "    <tr>\n",
       "      <th>8</th>\n",
       "      <td>0</td>\n",
       "      <td>1.973568</td>\n",
       "      <td>15.374449</td>\n",
       "      <td>158121.781938</td>\n",
       "      <td>57.0</td>\n",
       "    </tr>\n",
       "    <tr>\n",
       "      <th>9</th>\n",
       "      <td>0</td>\n",
       "      <td>2.075949</td>\n",
       "      <td>15.004219</td>\n",
       "      <td>147873.997890</td>\n",
       "      <td>64.5</td>\n",
       "    </tr>\n",
       "  </tbody>\n",
       "</table>\n",
       "</div>"
      ],
      "text/plain": [
       "   Gender  Formal_Education  Years_Coding         Salary   Age\n",
       "0       0          2.250000      6.687500   63569.828125  19.5\n",
       "1       0          1.468085      3.961702   81898.436170  23.0\n",
       "2       0          1.894661      5.763348  101665.448052  27.0\n",
       "3       0          2.011208      8.782067  130376.534247  32.0\n",
       "4       0          2.024390     11.356098  139484.879675  37.0\n",
       "5       0          2.257683     12.756501  154881.319149  42.0\n",
       "6       0          2.071429     13.398810  155624.520833  47.0\n",
       "7       0          2.079470     13.523179  149678.322848  52.0\n",
       "8       0          1.973568     15.374449  158121.781938  57.0\n",
       "9       0          2.075949     15.004219  147873.997890  64.5"
      ]
     },
     "execution_count": 4,
     "metadata": {},
     "output_type": "execute_result"
    }
   ],
   "source": [
    "#Import Men Means Data\n",
    "Men_df = pd.read_csv('Men_Means_Dataset.csv')\n",
    "Men_df"
   ]
  },
  {
   "cell_type": "code",
   "execution_count": 5,
   "metadata": {},
   "outputs": [
    {
     "data": {
      "text/html": [
       "<div>\n",
       "<style scoped>\n",
       "    .dataframe tbody tr th:only-of-type {\n",
       "        vertical-align: middle;\n",
       "    }\n",
       "\n",
       "    .dataframe tbody tr th {\n",
       "        vertical-align: top;\n",
       "    }\n",
       "\n",
       "    .dataframe thead th {\n",
       "        text-align: right;\n",
       "    }\n",
       "</style>\n",
       "<table border=\"1\" class=\"dataframe\">\n",
       "  <thead>\n",
       "    <tr style=\"text-align: right;\">\n",
       "      <th></th>\n",
       "      <th>Age</th>\n",
       "      <th>Years_Coding</th>\n",
       "      <th>Formal_Education</th>\n",
       "    </tr>\n",
       "  </thead>\n",
       "  <tbody>\n",
       "    <tr>\n",
       "      <th>0</th>\n",
       "      <td>19.5</td>\n",
       "      <td>3.600000</td>\n",
       "      <td>0.900000</td>\n",
       "    </tr>\n",
       "    <tr>\n",
       "      <th>1</th>\n",
       "      <td>23.0</td>\n",
       "      <td>4.276596</td>\n",
       "      <td>1.340426</td>\n",
       "    </tr>\n",
       "    <tr>\n",
       "      <th>2</th>\n",
       "      <td>27.0</td>\n",
       "      <td>6.162562</td>\n",
       "      <td>2.231527</td>\n",
       "    </tr>\n",
       "    <tr>\n",
       "      <th>3</th>\n",
       "      <td>32.0</td>\n",
       "      <td>7.981818</td>\n",
       "      <td>2.018182</td>\n",
       "    </tr>\n",
       "    <tr>\n",
       "      <th>4</th>\n",
       "      <td>37.0</td>\n",
       "      <td>9.893443</td>\n",
       "      <td>2.196721</td>\n",
       "    </tr>\n",
       "    <tr>\n",
       "      <th>5</th>\n",
       "      <td>42.0</td>\n",
       "      <td>11.605505</td>\n",
       "      <td>1.871560</td>\n",
       "    </tr>\n",
       "    <tr>\n",
       "      <th>6</th>\n",
       "      <td>47.0</td>\n",
       "      <td>13.371429</td>\n",
       "      <td>2.314286</td>\n",
       "    </tr>\n",
       "    <tr>\n",
       "      <th>7</th>\n",
       "      <td>52.0</td>\n",
       "      <td>11.722222</td>\n",
       "      <td>2.481481</td>\n",
       "    </tr>\n",
       "    <tr>\n",
       "      <th>8</th>\n",
       "      <td>57.0</td>\n",
       "      <td>12.384615</td>\n",
       "      <td>1.769231</td>\n",
       "    </tr>\n",
       "    <tr>\n",
       "      <th>9</th>\n",
       "      <td>64.5</td>\n",
       "      <td>15.083333</td>\n",
       "      <td>2.125000</td>\n",
       "    </tr>\n",
       "  </tbody>\n",
       "</table>\n",
       "</div>"
      ],
      "text/plain": [
       "    Age  Years_Coding  Formal_Education\n",
       "0  19.5      3.600000          0.900000\n",
       "1  23.0      4.276596          1.340426\n",
       "2  27.0      6.162562          2.231527\n",
       "3  32.0      7.981818          2.018182\n",
       "4  37.0      9.893443          2.196721\n",
       "5  42.0     11.605505          1.871560\n",
       "6  47.0     13.371429          2.314286\n",
       "7  52.0     11.722222          2.481481\n",
       "8  57.0     12.384615          1.769231\n",
       "9  64.5     15.083333          2.125000"
      ]
     },
     "execution_count": 5,
     "metadata": {},
     "output_type": "execute_result"
    }
   ],
   "source": [
    "Women_X = Women_df[['Age','Years_Coding','Formal_Education']]\n",
    "Women_X"
   ]
  },
  {
   "cell_type": "code",
   "execution_count": 6,
   "metadata": {},
   "outputs": [
    {
     "data": {
      "text/html": [
       "<div>\n",
       "<style scoped>\n",
       "    .dataframe tbody tr th:only-of-type {\n",
       "        vertical-align: middle;\n",
       "    }\n",
       "\n",
       "    .dataframe tbody tr th {\n",
       "        vertical-align: top;\n",
       "    }\n",
       "\n",
       "    .dataframe thead th {\n",
       "        text-align: right;\n",
       "    }\n",
       "</style>\n",
       "<table border=\"1\" class=\"dataframe\">\n",
       "  <thead>\n",
       "    <tr style=\"text-align: right;\">\n",
       "      <th></th>\n",
       "      <th>Age</th>\n",
       "      <th>Years_Coding</th>\n",
       "      <th>Formal_Education</th>\n",
       "    </tr>\n",
       "  </thead>\n",
       "  <tbody>\n",
       "    <tr>\n",
       "      <th>0</th>\n",
       "      <td>19.5</td>\n",
       "      <td>6.687500</td>\n",
       "      <td>2.250000</td>\n",
       "    </tr>\n",
       "    <tr>\n",
       "      <th>1</th>\n",
       "      <td>23.0</td>\n",
       "      <td>3.961702</td>\n",
       "      <td>1.468085</td>\n",
       "    </tr>\n",
       "    <tr>\n",
       "      <th>2</th>\n",
       "      <td>27.0</td>\n",
       "      <td>5.763348</td>\n",
       "      <td>1.894661</td>\n",
       "    </tr>\n",
       "    <tr>\n",
       "      <th>3</th>\n",
       "      <td>32.0</td>\n",
       "      <td>8.782067</td>\n",
       "      <td>2.011208</td>\n",
       "    </tr>\n",
       "    <tr>\n",
       "      <th>4</th>\n",
       "      <td>37.0</td>\n",
       "      <td>11.356098</td>\n",
       "      <td>2.024390</td>\n",
       "    </tr>\n",
       "    <tr>\n",
       "      <th>5</th>\n",
       "      <td>42.0</td>\n",
       "      <td>12.756501</td>\n",
       "      <td>2.257683</td>\n",
       "    </tr>\n",
       "    <tr>\n",
       "      <th>6</th>\n",
       "      <td>47.0</td>\n",
       "      <td>13.398810</td>\n",
       "      <td>2.071429</td>\n",
       "    </tr>\n",
       "    <tr>\n",
       "      <th>7</th>\n",
       "      <td>52.0</td>\n",
       "      <td>13.523179</td>\n",
       "      <td>2.079470</td>\n",
       "    </tr>\n",
       "    <tr>\n",
       "      <th>8</th>\n",
       "      <td>57.0</td>\n",
       "      <td>15.374449</td>\n",
       "      <td>1.973568</td>\n",
       "    </tr>\n",
       "    <tr>\n",
       "      <th>9</th>\n",
       "      <td>64.5</td>\n",
       "      <td>15.004219</td>\n",
       "      <td>2.075949</td>\n",
       "    </tr>\n",
       "  </tbody>\n",
       "</table>\n",
       "</div>"
      ],
      "text/plain": [
       "    Age  Years_Coding  Formal_Education\n",
       "0  19.5      6.687500          2.250000\n",
       "1  23.0      3.961702          1.468085\n",
       "2  27.0      5.763348          1.894661\n",
       "3  32.0      8.782067          2.011208\n",
       "4  37.0     11.356098          2.024390\n",
       "5  42.0     12.756501          2.257683\n",
       "6  47.0     13.398810          2.071429\n",
       "7  52.0     13.523179          2.079470\n",
       "8  57.0     15.374449          1.973568\n",
       "9  64.5     15.004219          2.075949"
      ]
     },
     "execution_count": 6,
     "metadata": {},
     "output_type": "execute_result"
    }
   ],
   "source": [
    "Men_X = Men_df[['Age', 'Years_Coding','Formal_Education']]\n",
    "Men_X"
   ]
  },
  {
   "cell_type": "code",
   "execution_count": 7,
   "metadata": {},
   "outputs": [],
   "source": [
    "Women_Y = Women_df['Salary']\n",
    "Men_Y = Men_df['Salary']"
   ]
  },
  {
   "cell_type": "code",
   "execution_count": 8,
   "metadata": {},
   "outputs": [
    {
     "name": "stdout",
     "output_type": "stream",
     "text": [
      "(7, 3)\n",
      "(3, 3)\n",
      "(7,)\n",
      "(3,)\n"
     ]
    }
   ],
   "source": [
    "from sklearn.model_selection import train_test_split\n",
    "Women_X_train, Women_X_test, Women_y_train, Women_y_test = train_test_split(Women_X, Women_Y, test_size=0.25, random_state=101)\n",
    "print(Women_X_train.shape)\n",
    "print(Women_X_test.shape)\n",
    "print(Women_y_train.shape)\n",
    "print(Women_y_test.shape)"
   ]
  },
  {
   "cell_type": "code",
   "execution_count": 9,
   "metadata": {},
   "outputs": [
    {
     "name": "stdout",
     "output_type": "stream",
     "text": [
      "(7, 3)\n",
      "(3, 3)\n",
      "(7,)\n",
      "(3,)\n"
     ]
    }
   ],
   "source": [
    "from sklearn.model_selection import train_test_split\n",
    "Men_X_train, Men_X_test, Men_y_train, Men_y_test = train_test_split(Men_X, Men_Y, test_size=0.25, random_state=101)\n",
    "print(Men_X_train.shape)\n",
    "print(Men_X_test.shape)\n",
    "print(Men_y_train.shape)\n",
    "print(Men_y_test.shape)"
   ]
  },
  {
   "cell_type": "code",
   "execution_count": 10,
   "metadata": {},
   "outputs": [
    {
     "data": {
      "text/plain": [
       "LinearRegression()"
      ]
     },
     "execution_count": 10,
     "metadata": {},
     "output_type": "execute_result"
    }
   ],
   "source": [
    "from sklearn.linear_model import LinearRegression\n",
    "Women_model = LinearRegression()\n",
    "Women_model.fit(Women_X_train,Women_y_train)"
   ]
  },
  {
   "cell_type": "code",
   "execution_count": 11,
   "metadata": {},
   "outputs": [
    {
     "data": {
      "text/plain": [
       "LinearRegression()"
      ]
     },
     "execution_count": 11,
     "metadata": {},
     "output_type": "execute_result"
    }
   ],
   "source": [
    "from sklearn.linear_model import LinearRegression\n",
    "Men_model = LinearRegression()\n",
    "Men_model.fit(Men_X_train,Men_y_train)"
   ]
  },
  {
   "cell_type": "code",
   "execution_count": 12,
   "metadata": {},
   "outputs": [
    {
     "name": "stdout",
     "output_type": "stream",
     "text": [
      "24914.386604816726\n"
     ]
    }
   ],
   "source": [
    "# print the intercept\n",
    "print(Men_model.intercept_)"
   ]
  },
  {
   "cell_type": "code",
   "execution_count": 13,
   "metadata": {},
   "outputs": [
    {
     "name": "stdout",
     "output_type": "stream",
     "text": [
      "41478.04947619648\n"
     ]
    }
   ],
   "source": [
    "print(Women_model.intercept_)"
   ]
  },
  {
   "cell_type": "code",
   "execution_count": 14,
   "metadata": {},
   "outputs": [
    {
     "name": "stdout",
     "output_type": "stream",
     "text": [
      "[ -747.16501973  6238.01977099 17068.47674283]\n"
     ]
    }
   ],
   "source": [
    "print(Women_model.coef_)"
   ]
  },
  {
   "cell_type": "code",
   "execution_count": 15,
   "metadata": {},
   "outputs": [
    {
     "name": "stdout",
     "output_type": "stream",
     "text": [
      "[ -800.86951961  7308.19059767 32021.09182509]\n"
     ]
    }
   ],
   "source": [
    "print(Men_model.coef_)"
   ]
  },
  {
   "cell_type": "code",
   "execution_count": 16,
   "metadata": {},
   "outputs": [
    {
     "data": {
      "text/plain": [
       "array([106343.19321416,  97835.54319473,  64726.83183555])"
      ]
     },
     "execution_count": 16,
     "metadata": {},
     "output_type": "execute_result"
    }
   ],
   "source": [
    "Women_predictions = Women_model.predict(Women_X_test)\n",
    "Women_predictions"
   ]
  },
  {
   "cell_type": "code",
   "execution_count": 17,
   "metadata": {},
   "outputs": [
    {
     "data": {
      "text/plain": [
       "array([154820.04127142, 106079.66399598, 130218.41220086])"
      ]
     },
     "execution_count": 17,
     "metadata": {},
     "output_type": "execute_result"
    }
   ],
   "source": [
    "Men_predictions = Men_model.predict(Men_X_test)\n",
    "Men_predictions"
   ]
  },
  {
   "cell_type": "code",
   "execution_count": 18,
   "metadata": {},
   "outputs": [
    {
     "data": {
      "text/plain": [
       "<AxesSubplot:xlabel='Salary'>"
      ]
     },
     "execution_count": 18,
     "metadata": {},
     "output_type": "execute_result"
    },
    {
     "data": {
      "image/png": "[encoded data removed]",
      "text/plain": [
       "<Figure size 432x288 with 1 Axes>"
      ]
     },
     "metadata": {
      "needs_background": "light"
     },
     "output_type": "display_data"
    }
   ],
   "source": [
    "sns.regplot(Women_y_test,Women_predictions)"
   ]
  },
  {
   "cell_type": "code",
   "execution_count": 19,
   "metadata": {},
   "outputs": [
    {
     "data": {
      "text/plain": [
       "<AxesSubplot:xlabel='Salary'>"
      ]
     },
     "execution_count": 19,
     "metadata": {},
     "output_type": "execute_result"
    },
    {
     "data": {
      "image/png": "[encoded data removed]",
      "text/plain": [
       "<Figure size 432x288 with 1 Axes>"
      ]
     },
     "metadata": {
      "needs_background": "light"
     },
     "output_type": "display_data"
    }
   ],
   "source": [
    "sns.regplot(Men_y_test,Men_predictions)"
   ]
  },
  {
   "cell_type": "code",
   "execution_count": 20,
   "metadata": {},
   "outputs": [
    {
     "name": "stdout",
     "output_type": "stream",
     "text": [
      "                            OLS Regression Results                            \n",
      "==============================================================================\n",
      "Dep. Variable:                 Salary   R-squared:                       0.881\n",
      "Model:                            OLS   Adj. R-squared:                  0.761\n",
      "Method:                 Least Squares   F-statistic:                     7.382\n",
      "Date:                Tue, 27 Jul 2021   Prob (F-statistic):             0.0674\n",
      "Time:                        17:42:32   Log-Likelihood:                -71.124\n",
      "No. Observations:                   7   AIC:                             150.2\n",
      "Df Residuals:                       3   BIC:                             150.0\n",
      "Df Model:                           3                                         \n",
      "Covariance Type:            nonrobust                                         \n",
      "====================================================================================\n",
      "                       coef    std err          t      P>|t|      [0.025      0.975]\n",
      "------------------------------------------------------------------------------------\n",
      "const             4.148e+04   2.35e+04      1.767      0.175   -3.32e+04    1.16e+05\n",
      "Age               -747.1650    835.380     -0.894      0.437   -3405.716    1911.386\n",
      "Years_Coding      6238.0198   3444.685      1.811      0.168   -4724.505    1.72e+04\n",
      "Formal_Education  1.707e+04   1.56e+04      1.097      0.353   -3.25e+04    6.66e+04\n",
      "==============================================================================\n",
      "Omnibus:                          nan   Durbin-Watson:                   0.473\n",
      "Prob(Omnibus):                    nan   Jarque-Bera (JB):                0.588\n",
      "Skew:                           0.480   Prob(JB):                        0.745\n",
      "Kurtosis:                       1.954   Cond. No.                         345.\n",
      "==============================================================================\n",
      "\n",
      "Notes:\n",
      "[1] Standard Errors assume that the covariance matrix of the errors is correctly specified.\n"
     ]
    },
    {
     "name": "stderr",
     "output_type": "stream",
     "text": [
      "C:\\Users\\snkty\\anaconda3\\envs\\PythonData\\lib\\site-packages\\statsmodels\\stats\\stattools.py:75: ValueWarning: omni_normtest is not valid with less than 8 observations; 7 samples were given.\n",
      "  \"samples were given.\" % int(n), ValueWarning)\n"
     ]
    }
   ],
   "source": [
    "import statsmodels.api as sm\n",
    "Woemn_X_train_Sm= sm.add_constant(Women_X_train)\n",
    "Women_X_train_Sm= sm.add_constant(Women_X_train)\n",
    "ls=sm.OLS(Women_y_train,Women_X_train_Sm).fit()\n",
    "print(ls.summary())"
   ]
  },
  {
   "cell_type": "code",
   "execution_count": 21,
   "metadata": {},
   "outputs": [
    {
     "name": "stdout",
     "output_type": "stream",
     "text": [
      "                            OLS Regression Results                            \n",
      "==============================================================================\n",
      "Dep. Variable:                 Salary   R-squared:                       0.989\n",
      "Model:                            OLS   Adj. R-squared:                  0.978\n",
      "Method:                 Least Squares   F-statistic:                     91.86\n",
      "Date:                Tue, 27 Jul 2021   Prob (F-statistic):            0.00189\n",
      "Time:                        17:42:32   Log-Likelihood:                -64.674\n",
      "No. Observations:                   7   AIC:                             137.3\n",
      "Df Residuals:                       3   BIC:                             137.1\n",
      "Df Model:                           3                                         \n",
      "Covariance Type:            nonrobust                                         \n",
      "====================================================================================\n",
      "                       coef    std err          t      P>|t|      [0.025      0.975]\n",
      "------------------------------------------------------------------------------------\n",
      "const             2.491e+04   2.92e+04      0.852      0.457   -6.81e+04    1.18e+05\n",
      "Age               -800.8695    429.731     -1.864      0.159   -2168.465     566.726\n",
      "Years_Coding      7308.1906   2429.701      3.008      0.057    -424.203     1.5e+04\n",
      "Formal_Education  3.202e+04   1.99e+04      1.613      0.205   -3.12e+04    9.52e+04\n",
      "==============================================================================\n",
      "Omnibus:                          nan   Durbin-Watson:                   1.842\n",
      "Prob(Omnibus):                    nan   Jarque-Bera (JB):                0.428\n",
      "Skew:                           0.258   Prob(JB):                        0.807\n",
      "Kurtosis:                       1.903   Cond. No.                     1.13e+03\n",
      "==============================================================================\n",
      "\n",
      "Notes:\n",
      "[1] Standard Errors assume that the covariance matrix of the errors is correctly specified.\n",
      "[2] The condition number is large, 1.13e+03. This might indicate that there are\n",
      "strong multicollinearity or other numerical problems.\n"
     ]
    },
    {
     "name": "stderr",
     "output_type": "stream",
     "text": [
      "C:\\Users\\snkty\\anaconda3\\envs\\PythonData\\lib\\site-packages\\statsmodels\\stats\\stattools.py:75: ValueWarning: omni_normtest is not valid with less than 8 observations; 7 samples were given.\n",
      "  \"samples were given.\" % int(n), ValueWarning)\n"
     ]
    }
   ],
   "source": [
    "import statsmodels.api as sm\n",
    "Men_X_train_Sm= sm.add_constant(Men_X_train)\n",
    "Men_X_train_Sm= sm.add_constant(Men_X_train)\n",
    "ls=sm.OLS(Men_y_train,Men_X_train_Sm).fit()\n",
    "print(ls.summary())"
   ]
  },
  {
   "cell_type": "code",
   "execution_count": 22,
   "metadata": {},
   "outputs": [
    {
     "name": "stdout",
     "output_type": "stream",
     "text": [
      "60894.82406067031\n",
      "Coefficients: \n",
      " [ 489.21607157 2804.26520408 1774.06069439]\n"
     ]
    }
   ],
   "source": [
    "import pandas as pd\n",
    "from sklearn import linear_model\n",
    "import tkinter as tk \n",
    "import matplotlib.pyplot as plt\n",
    "from matplotlib.backends.backend_tkagg import FigureCanvasTkAgg\n",
    "\n",
    "\n",
    "# X = df[['Interest_Rate','Unemployment_Rate']].astype(float) # here we have 2 input variables for multiple regression. If you just want to use one variable for simple linear regression, then use X = df['Interest_Rate'] for example.Alternatively, you may add additional variables within the brackets\n",
    "# Y = df['Stock_Index_Price'].astype(float) # output variable (what we are trying to predict)\n",
    "\n",
    "# with sklearn\n",
    "regr = linear_model.LinearRegression()\n",
    "regr.fit(Women_X, Women_Y)\n",
    "\n",
    "print(regr.intercept_)\n",
    "print('Coefficients: \\n', regr.coef_)\n",
    "\n",
    "# tkinter GUI\n",
    "root= tk.Tk()\n",
    "\n",
    "canvas1 = tk.Canvas(root, width = 500, height = 300)\n",
    "canvas1.pack()\n",
    "\n",
    "# with sklearn\n",
    "Intercept_result = ('Intercept: ', regr.intercept_)\n",
    "label_Intercept = tk.Label(root, text=Intercept_result, justify = 'center')\n",
    "canvas1.create_window(260, 220, window=label_Intercept)\n",
    "\n",
    "# with sklearn\n",
    "Coefficients_result  = ('Coefficients: ', regr.coef_)\n",
    "label_Coefficients = tk.Label(root, text=Coefficients_result, justify = 'center')\n",
    "canvas1.create_window(260, 240, window=label_Coefficients)\n",
    "\n",
    "# Age label and input box\n",
    "label1 = tk.Label(root, text=' Age: ')\n",
    "canvas1.create_window(100, 80, window=label1)\n",
    "\n",
    "entry1 = tk.Entry (root) # create 1st entry box\n",
    "canvas1.create_window(270, 80, window=entry1)\n",
    "\n",
    "# Formal Education label and input box\n",
    "label2 = tk.Label(root, text=' Formal Education: ')\n",
    "canvas1.create_window(120, 100, window=label2)\n",
    "\n",
    "entry2 = tk.Entry (root) # create 3rd entry box\n",
    "canvas1.create_window(270, 100, window=entry2)\n",
    "\n",
    "# Years Coding label and input box\n",
    "label3 = tk.Label(root, text=' Years Coding: ')\n",
    "canvas1.create_window(140, 120, window=label3)\n",
    "\n",
    "entry3 = tk.Entry (root) # create 2nd entry box\n",
    "canvas1.create_window(270, 120, window=entry3)\n",
    "\n",
    "Women_model = LinearRegression()\n",
    "Women_model.fit(Women_X, Women_Y)\n",
    "\n",
    "\n",
    "def values(): \n",
    "    global Age #our 1st input variable\n",
    "    Age = float(entry1.get()) \n",
    "    \n",
    "    global Formal_Education #our 2nd input variable\n",
    "    Formal_Education = float(entry2.get()) \n",
    "    \n",
    "    global Years_Coding #our 3rd input variable\n",
    "    Years_Coding = float(entry3.get()) \n",
    "    \n",
    "    Prediction_result  = ('Predicted Womens Salary: ', Women_model.predict(np.array([[Age, Formal_Education, Years_Coding]])))\n",
    "    label_Prediction = tk.Label(root, text = Prediction_result, bg='yellow')\n",
    "    canvas1.create_window(260, 280, window=label_Prediction)\n",
    "    \n",
    "button1 = tk.Button (root, text='Predict Womens Salary',command=values, bg='orange') # button to call the 'values' command above \n",
    "canvas1.create_window(270, 150, window=button1)\n",
    " \n",
    "#plot 1st scatter \n",
    "figure3 = plt.Figure(figsize=(4,3), dpi=100)\n",
    "ax3 = figure3.add_subplot(111)\n",
    "ax3.scatter(Women_df['Age'].astype(float),Women_df['Salary'].astype(float), color = 'r')\n",
    "scatter3 = FigureCanvasTkAgg(figure3, root) \n",
    "scatter3.get_tk_widget().pack(side=tk.RIGHT, fill=tk.BOTH)\n",
    "ax3.legend(['Salary']) \n",
    "ax3.set_xlabel('Age')\n",
    "ax3.set_title('Age Vs. Salary')\n",
    "\n",
    "#plot 2nd scatter \n",
    "figure4 = plt.Figure(figsize=(4,3), dpi=100)\n",
    "ax4 = figure4.add_subplot(111)\n",
    "ax4.scatter(Women_df['Formal_Education'].astype(float),Women_df['Salary'].astype(float), color = 'g')\n",
    "scatter4 = FigureCanvasTkAgg(figure4, root) \n",
    "scatter4.get_tk_widget().pack(side=tk.RIGHT, fill=tk.BOTH)\n",
    "ax4.legend(['Salary']) \n",
    "ax4.set_xlabel('Formal Education')\n",
    "ax4.set_title('Formal Education Vs. Salary')\n",
    "\n",
    "#plot 2nd scatter \n",
    "figure5 = plt.Figure(figsize=(4,3), dpi=100)\n",
    "ax5 = figure5.add_subplot(111)\n",
    "ax5.scatter(Women_df['Years_Coding'].astype(float),Women_df['Salary'].astype(float), color = 'b')\n",
    "scatter5 = FigureCanvasTkAgg(figure5, root) \n",
    "scatter5.get_tk_widget().pack(side=tk.RIGHT, fill=tk.BOTH)\n",
    "ax5.legend(['Salary']) \n",
    "ax5.set_xlabel('Years Coding')\n",
    "ax5.set_title('Years Coding Vs. Salary')\n",
    "\n",
    "root.mainloop()"
   ]
  },
  {
   "cell_type": "code",
   "execution_count": null,
   "metadata": {},
   "outputs": [],
   "source": []
  },
  {
   "cell_type": "code",
   "execution_count": null,
   "metadata": {},
   "outputs": [],
   "source": []
  }
 ],
 "metadata": {
  "kernelspec": {
   "display_name": "Python 3",
   "language": "python",
   "name": "python3"
  },
  "language_info": {
   "codemirror_mode": {
    "name": "ipython",
    "version": 3
   },
   "file_extension": ".py",
   "mimetype": "text/x-python",
   "name": "python",
   "nbconvert_exporter": "python",
   "pygments_lexer": "ipython3",
   "version": "3.7.9"
  }
 },
 "nbformat": 4,
 "nbformat_minor": 4
}
