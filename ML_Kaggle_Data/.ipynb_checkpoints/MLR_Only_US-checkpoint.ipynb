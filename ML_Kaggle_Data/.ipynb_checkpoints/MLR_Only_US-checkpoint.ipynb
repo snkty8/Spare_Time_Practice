{
 "cells": [
  {
   "cell_type": "code",
   "execution_count": 311,
   "metadata": {},
   "outputs": [],
   "source": [
    "import warnings\n",
    "warnings.filterwarnings('ignore')\n",
    "import pandas as pd\n",
    "import numpy as np\n",
    "import seaborn as sns \n",
    "import matplotlib.pyplot as plt"
   ]
  },
  {
   "cell_type": "code",
   "execution_count": 312,
   "metadata": {},
   "outputs": [
    {
     "data": {
      "text/html": [
       "<div>\n",
       "<style scoped>\n",
       "    .dataframe tbody tr th:only-of-type {\n",
       "        vertical-align: middle;\n",
       "    }\n",
       "\n",
       "    .dataframe tbody tr th {\n",
       "        vertical-align: top;\n",
       "    }\n",
       "\n",
       "    .dataframe thead th {\n",
       "        text-align: right;\n",
       "    }\n",
       "</style>\n",
       "<table border=\"1\" class=\"dataframe\">\n",
       "  <thead>\n",
       "    <tr style=\"text-align: right;\">\n",
       "      <th></th>\n",
       "      <th>Age</th>\n",
       "      <th>Gender</th>\n",
       "      <th>Country</th>\n",
       "      <th>Formal_Education</th>\n",
       "      <th>Position</th>\n",
       "      <th>Years_Coding</th>\n",
       "      <th>Salary</th>\n",
       "    </tr>\n",
       "  </thead>\n",
       "  <tbody>\n",
       "    <tr>\n",
       "      <th>0</th>\n",
       "      <td>23.0</td>\n",
       "      <td>Male</td>\n",
       "      <td>France</td>\n",
       "      <td>Master’s degree</td>\n",
       "      <td>Software Engineer</td>\n",
       "      <td>2.0</td>\n",
       "      <td>34999.5</td>\n",
       "    </tr>\n",
       "    <tr>\n",
       "      <th>1</th>\n",
       "      <td>42.0</td>\n",
       "      <td>Male</td>\n",
       "      <td>India</td>\n",
       "      <td>Professional degree</td>\n",
       "      <td>Software Engineer</td>\n",
       "      <td>0.0</td>\n",
       "      <td>6249.5</td>\n",
       "    </tr>\n",
       "    <tr>\n",
       "      <th>2</th>\n",
       "      <td>42.0</td>\n",
       "      <td>Male</td>\n",
       "      <td>Australia</td>\n",
       "      <td>Master’s degree</td>\n",
       "      <td>Other</td>\n",
       "      <td>2.0</td>\n",
       "      <td>274999.5</td>\n",
       "    </tr>\n",
       "    <tr>\n",
       "      <th>3</th>\n",
       "      <td>52.0</td>\n",
       "      <td>Male</td>\n",
       "      <td>France</td>\n",
       "      <td>Master’s degree</td>\n",
       "      <td>Data Scientist</td>\n",
       "      <td>20.0</td>\n",
       "      <td>64999.5</td>\n",
       "    </tr>\n",
       "    <tr>\n",
       "      <th>4</th>\n",
       "      <td>23.0</td>\n",
       "      <td>Male</td>\n",
       "      <td>India</td>\n",
       "      <td>Master’s degree</td>\n",
       "      <td>Data Scientist</td>\n",
       "      <td>5.0</td>\n",
       "      <td>12499.5</td>\n",
       "    </tr>\n",
       "  </tbody>\n",
       "</table>\n",
       "</div>"
      ],
      "text/plain": [
       "    Age Gender    Country     Formal_Education           Position  \\\n",
       "0  23.0   Male     France      Master’s degree  Software Engineer   \n",
       "1  42.0   Male      India  Professional degree  Software Engineer   \n",
       "2  42.0   Male  Australia      Master’s degree              Other   \n",
       "3  52.0   Male     France      Master’s degree     Data Scientist   \n",
       "4  23.0   Male      India      Master’s degree     Data Scientist   \n",
       "\n",
       "   Years_Coding    Salary  \n",
       "0           2.0   34999.5  \n",
       "1           0.0    6249.5  \n",
       "2           2.0  274999.5  \n",
       "3          20.0   64999.5  \n",
       "4           5.0   12499.5  "
      ]
     },
     "execution_count": 312,
     "metadata": {},
     "output_type": "execute_result"
    }
   ],
   "source": [
    "#Import Combined Cleaned Kaggle Data\n",
    "df = pd.read_csv('Cleaned_Combined_Kaggle_Data.csv')\n",
    "df.head()"
   ]
  },
  {
   "cell_type": "code",
   "execution_count": 313,
   "metadata": {},
   "outputs": [
    {
     "data": {
      "text/html": [
       "<div>\n",
       "<style scoped>\n",
       "    .dataframe tbody tr th:only-of-type {\n",
       "        vertical-align: middle;\n",
       "    }\n",
       "\n",
       "    .dataframe tbody tr th {\n",
       "        vertical-align: top;\n",
       "    }\n",
       "\n",
       "    .dataframe thead th {\n",
       "        text-align: right;\n",
       "    }\n",
       "</style>\n",
       "<table border=\"1\" class=\"dataframe\">\n",
       "  <thead>\n",
       "    <tr style=\"text-align: right;\">\n",
       "      <th></th>\n",
       "      <th>Age</th>\n",
       "      <th>Gender</th>\n",
       "      <th>Country</th>\n",
       "      <th>Formal_Education</th>\n",
       "      <th>Position</th>\n",
       "      <th>Years_Coding</th>\n",
       "      <th>Salary</th>\n",
       "    </tr>\n",
       "  </thead>\n",
       "  <tbody>\n",
       "    <tr>\n",
       "      <th>5</th>\n",
       "      <td>23.0</td>\n",
       "      <td>Female</td>\n",
       "      <td>United States of America</td>\n",
       "      <td>Bachelor’s degree</td>\n",
       "      <td>Data Scientist</td>\n",
       "      <td>5.0</td>\n",
       "      <td>84999.5</td>\n",
       "    </tr>\n",
       "    <tr>\n",
       "      <th>8</th>\n",
       "      <td>32.0</td>\n",
       "      <td>Male</td>\n",
       "      <td>United States of America</td>\n",
       "      <td>Master’s degree</td>\n",
       "      <td>Product/Project Manager</td>\n",
       "      <td>5.0</td>\n",
       "      <td>94999.5</td>\n",
       "    </tr>\n",
       "    <tr>\n",
       "      <th>9</th>\n",
       "      <td>52.0</td>\n",
       "      <td>Female</td>\n",
       "      <td>United States of America</td>\n",
       "      <td>Master’s degree</td>\n",
       "      <td>Data Analyst</td>\n",
       "      <td>20.0</td>\n",
       "      <td>137499.5</td>\n",
       "    </tr>\n",
       "    <tr>\n",
       "      <th>12</th>\n",
       "      <td>37.0</td>\n",
       "      <td>Male</td>\n",
       "      <td>United States of America</td>\n",
       "      <td>Bachelor’s degree</td>\n",
       "      <td>Other</td>\n",
       "      <td>10.0</td>\n",
       "      <td>137499.5</td>\n",
       "    </tr>\n",
       "    <tr>\n",
       "      <th>19</th>\n",
       "      <td>32.0</td>\n",
       "      <td>Female</td>\n",
       "      <td>United States of America</td>\n",
       "      <td>Master’s degree</td>\n",
       "      <td>Research Scientist</td>\n",
       "      <td>10.0</td>\n",
       "      <td>174999.5</td>\n",
       "    </tr>\n",
       "    <tr>\n",
       "      <th>...</th>\n",
       "      <td>...</td>\n",
       "      <td>...</td>\n",
       "      <td>...</td>\n",
       "      <td>...</td>\n",
       "      <td>...</td>\n",
       "      <td>...</td>\n",
       "      <td>...</td>\n",
       "    </tr>\n",
       "    <tr>\n",
       "      <th>26115</th>\n",
       "      <td>32.0</td>\n",
       "      <td>Male</td>\n",
       "      <td>United States of America</td>\n",
       "      <td>Some college/university study without earning ...</td>\n",
       "      <td>Other</td>\n",
       "      <td>5.0</td>\n",
       "      <td>137499.5</td>\n",
       "    </tr>\n",
       "    <tr>\n",
       "      <th>26127</th>\n",
       "      <td>37.0</td>\n",
       "      <td>Woman</td>\n",
       "      <td>United States of America</td>\n",
       "      <td>Master’s degree</td>\n",
       "      <td>Data Analyst</td>\n",
       "      <td>2.0</td>\n",
       "      <td>84999.5</td>\n",
       "    </tr>\n",
       "    <tr>\n",
       "      <th>26131</th>\n",
       "      <td>57.0</td>\n",
       "      <td>Male</td>\n",
       "      <td>United States of America</td>\n",
       "      <td>Doctoral degree</td>\n",
       "      <td>Data Scientist</td>\n",
       "      <td>5.0</td>\n",
       "      <td>400000.0</td>\n",
       "    </tr>\n",
       "    <tr>\n",
       "      <th>26135</th>\n",
       "      <td>52.0</td>\n",
       "      <td>Woman</td>\n",
       "      <td>United States of America</td>\n",
       "      <td>Master’s degree</td>\n",
       "      <td>Software Engineer</td>\n",
       "      <td>20.0</td>\n",
       "      <td>174999.5</td>\n",
       "    </tr>\n",
       "    <tr>\n",
       "      <th>26155</th>\n",
       "      <td>47.0</td>\n",
       "      <td>Male</td>\n",
       "      <td>United States of America</td>\n",
       "      <td>Bachelor’s degree</td>\n",
       "      <td>Software Engineer</td>\n",
       "      <td>20.0</td>\n",
       "      <td>174999.5</td>\n",
       "    </tr>\n",
       "  </tbody>\n",
       "</table>\n",
       "<p>4887 rows × 7 columns</p>\n",
       "</div>"
      ],
      "text/plain": [
       "        Age  Gender                   Country  \\\n",
       "5      23.0  Female  United States of America   \n",
       "8      32.0    Male  United States of America   \n",
       "9      52.0  Female  United States of America   \n",
       "12     37.0    Male  United States of America   \n",
       "19     32.0  Female  United States of America   \n",
       "...     ...     ...                       ...   \n",
       "26115  32.0    Male  United States of America   \n",
       "26127  37.0   Woman  United States of America   \n",
       "26131  57.0    Male  United States of America   \n",
       "26135  52.0   Woman  United States of America   \n",
       "26155  47.0    Male  United States of America   \n",
       "\n",
       "                                        Formal_Education  \\\n",
       "5                                      Bachelor’s degree   \n",
       "8                                        Master’s degree   \n",
       "9                                        Master’s degree   \n",
       "12                                     Bachelor’s degree   \n",
       "19                                       Master’s degree   \n",
       "...                                                  ...   \n",
       "26115  Some college/university study without earning ...   \n",
       "26127                                    Master’s degree   \n",
       "26131                                    Doctoral degree   \n",
       "26135                                    Master’s degree   \n",
       "26155                                  Bachelor’s degree   \n",
       "\n",
       "                      Position  Years_Coding    Salary  \n",
       "5               Data Scientist           5.0   84999.5  \n",
       "8      Product/Project Manager           5.0   94999.5  \n",
       "9                 Data Analyst          20.0  137499.5  \n",
       "12                       Other          10.0  137499.5  \n",
       "19          Research Scientist          10.0  174999.5  \n",
       "...                        ...           ...       ...  \n",
       "26115                    Other           5.0  137499.5  \n",
       "26127             Data Analyst           2.0   84999.5  \n",
       "26131           Data Scientist           5.0  400000.0  \n",
       "26135        Software Engineer          20.0  174999.5  \n",
       "26155        Software Engineer          20.0  174999.5  \n",
       "\n",
       "[4887 rows x 7 columns]"
      ]
     },
     "execution_count": 313,
     "metadata": {},
     "output_type": "execute_result"
    }
   ],
   "source": [
    "# Using on US data \n",
    "US_df = df[df['Country'] == 'United States of America']\n",
    "US_df"
   ]
  },
  {
   "cell_type": "code",
   "execution_count": 318,
   "metadata": {},
   "outputs": [],
   "source": [
    "space = []\n",
    "for x in US_df['Formal_Education']:\n",
    "    space.append(x.replace('’',''))\n",
    "US_df['Formal_Education'] = space\n",
    "\n",
    "no_education = []\n",
    "for x in US_df['Formal_Education']:\n",
    "    no_education.append(x.replace('No formal education past high school','0'))\n",
    "US_df['Formal_Education'] = no_education\n",
    "\n",
    "some = []\n",
    "for x in US_df['Formal_Education']:\n",
    "    some.append(x.replace('Some college/university study without earning a bachelor degree','1'))\n",
    "US_df['Formal_Education'] = some\n",
    "\n",
    "PD = []\n",
    "for x in US_df['Formal_Education']:\n",
    "    PD.append(x.replace('Professional degree','2'))\n",
    "US_df['Formal_Education'] = PD\n",
    "\n",
    "BD = []\n",
    "for x in US_df['Formal_Education']:\n",
    "    BD.append(x.replace('Bachelors degree','3'))\n",
    "US_df['Formal_Education'] = BD\n",
    "\n",
    "MD = []\n",
    "for x in US_df['Formal_Education']:\n",
    "    MD.append(x.replace('Masters degree','4'))\n",
    "US_df['Formal_Education'] = MD\n",
    "\n",
    "DD = []\n",
    "for x in US_df['Formal_Education']:\n",
    "    DD.append(x.replace('Doctoral degree','4'))\n",
    "US_df['Formal_Education'] = DD\n"
   ]
  },
  {
   "cell_type": "code",
   "execution_count": 319,
   "metadata": {},
   "outputs": [
    {
     "data": {
      "text/html": [
       "<div>\n",
       "<style scoped>\n",
       "    .dataframe tbody tr th:only-of-type {\n",
       "        vertical-align: middle;\n",
       "    }\n",
       "\n",
       "    .dataframe tbody tr th {\n",
       "        vertical-align: top;\n",
       "    }\n",
       "\n",
       "    .dataframe thead th {\n",
       "        text-align: right;\n",
       "    }\n",
       "</style>\n",
       "<table border=\"1\" class=\"dataframe\">\n",
       "  <thead>\n",
       "    <tr style=\"text-align: right;\">\n",
       "      <th></th>\n",
       "      <th>Age</th>\n",
       "      <th>Gender</th>\n",
       "      <th>Country</th>\n",
       "      <th>Formal_Education</th>\n",
       "      <th>Position</th>\n",
       "      <th>Years_Coding</th>\n",
       "      <th>Salary</th>\n",
       "    </tr>\n",
       "  </thead>\n",
       "  <tbody>\n",
       "    <tr>\n",
       "      <th>5</th>\n",
       "      <td>23.0</td>\n",
       "      <td>Female</td>\n",
       "      <td>United States of America</td>\n",
       "      <td>3</td>\n",
       "      <td>Data Scientist</td>\n",
       "      <td>5.0</td>\n",
       "      <td>84999.5</td>\n",
       "    </tr>\n",
       "    <tr>\n",
       "      <th>8</th>\n",
       "      <td>32.0</td>\n",
       "      <td>Male</td>\n",
       "      <td>United States of America</td>\n",
       "      <td>4</td>\n",
       "      <td>Product/Project Manager</td>\n",
       "      <td>5.0</td>\n",
       "      <td>94999.5</td>\n",
       "    </tr>\n",
       "    <tr>\n",
       "      <th>9</th>\n",
       "      <td>52.0</td>\n",
       "      <td>Female</td>\n",
       "      <td>United States of America</td>\n",
       "      <td>4</td>\n",
       "      <td>Data Analyst</td>\n",
       "      <td>20.0</td>\n",
       "      <td>137499.5</td>\n",
       "    </tr>\n",
       "    <tr>\n",
       "      <th>12</th>\n",
       "      <td>37.0</td>\n",
       "      <td>Male</td>\n",
       "      <td>United States of America</td>\n",
       "      <td>3</td>\n",
       "      <td>Other</td>\n",
       "      <td>10.0</td>\n",
       "      <td>137499.5</td>\n",
       "    </tr>\n",
       "    <tr>\n",
       "      <th>19</th>\n",
       "      <td>32.0</td>\n",
       "      <td>Female</td>\n",
       "      <td>United States of America</td>\n",
       "      <td>4</td>\n",
       "      <td>Research Scientist</td>\n",
       "      <td>10.0</td>\n",
       "      <td>174999.5</td>\n",
       "    </tr>\n",
       "    <tr>\n",
       "      <th>...</th>\n",
       "      <td>...</td>\n",
       "      <td>...</td>\n",
       "      <td>...</td>\n",
       "      <td>...</td>\n",
       "      <td>...</td>\n",
       "      <td>...</td>\n",
       "      <td>...</td>\n",
       "    </tr>\n",
       "    <tr>\n",
       "      <th>26115</th>\n",
       "      <td>32.0</td>\n",
       "      <td>Male</td>\n",
       "      <td>United States of America</td>\n",
       "      <td>Some college/university study without earning ...</td>\n",
       "      <td>Other</td>\n",
       "      <td>5.0</td>\n",
       "      <td>137499.5</td>\n",
       "    </tr>\n",
       "    <tr>\n",
       "      <th>26127</th>\n",
       "      <td>37.0</td>\n",
       "      <td>Woman</td>\n",
       "      <td>United States of America</td>\n",
       "      <td>4</td>\n",
       "      <td>Data Analyst</td>\n",
       "      <td>2.0</td>\n",
       "      <td>84999.5</td>\n",
       "    </tr>\n",
       "    <tr>\n",
       "      <th>26131</th>\n",
       "      <td>57.0</td>\n",
       "      <td>Male</td>\n",
       "      <td>United States of America</td>\n",
       "      <td>4</td>\n",
       "      <td>Data Scientist</td>\n",
       "      <td>5.0</td>\n",
       "      <td>400000.0</td>\n",
       "    </tr>\n",
       "    <tr>\n",
       "      <th>26135</th>\n",
       "      <td>52.0</td>\n",
       "      <td>Woman</td>\n",
       "      <td>United States of America</td>\n",
       "      <td>4</td>\n",
       "      <td>Software Engineer</td>\n",
       "      <td>20.0</td>\n",
       "      <td>174999.5</td>\n",
       "    </tr>\n",
       "    <tr>\n",
       "      <th>26155</th>\n",
       "      <td>47.0</td>\n",
       "      <td>Male</td>\n",
       "      <td>United States of America</td>\n",
       "      <td>3</td>\n",
       "      <td>Software Engineer</td>\n",
       "      <td>20.0</td>\n",
       "      <td>174999.5</td>\n",
       "    </tr>\n",
       "  </tbody>\n",
       "</table>\n",
       "<p>4887 rows × 7 columns</p>\n",
       "</div>"
      ],
      "text/plain": [
       "        Age  Gender                   Country  \\\n",
       "5      23.0  Female  United States of America   \n",
       "8      32.0    Male  United States of America   \n",
       "9      52.0  Female  United States of America   \n",
       "12     37.0    Male  United States of America   \n",
       "19     32.0  Female  United States of America   \n",
       "...     ...     ...                       ...   \n",
       "26115  32.0    Male  United States of America   \n",
       "26127  37.0   Woman  United States of America   \n",
       "26131  57.0    Male  United States of America   \n",
       "26135  52.0   Woman  United States of America   \n",
       "26155  47.0    Male  United States of America   \n",
       "\n",
       "                                        Formal_Education  \\\n",
       "5                                                      3   \n",
       "8                                                      4   \n",
       "9                                                      4   \n",
       "12                                                     3   \n",
       "19                                                     4   \n",
       "...                                                  ...   \n",
       "26115  Some college/university study without earning ...   \n",
       "26127                                                  4   \n",
       "26131                                                  4   \n",
       "26135                                                  4   \n",
       "26155                                                  3   \n",
       "\n",
       "                      Position  Years_Coding    Salary  \n",
       "5               Data Scientist           5.0   84999.5  \n",
       "8      Product/Project Manager           5.0   94999.5  \n",
       "9                 Data Analyst          20.0  137499.5  \n",
       "12                       Other          10.0  137499.5  \n",
       "19          Research Scientist          10.0  174999.5  \n",
       "...                        ...           ...       ...  \n",
       "26115                    Other           5.0  137499.5  \n",
       "26127             Data Analyst           2.0   84999.5  \n",
       "26131           Data Scientist           5.0  400000.0  \n",
       "26135        Software Engineer          20.0  174999.5  \n",
       "26155        Software Engineer          20.0  174999.5  \n",
       "\n",
       "[4887 rows x 7 columns]"
      ]
     },
     "execution_count": 319,
     "metadata": {},
     "output_type": "execute_result"
    }
   ],
   "source": [
    "US_df"
   ]
  },
  {
   "cell_type": "code",
   "execution_count": 340,
   "metadata": {},
   "outputs": [
    {
     "data": {
      "text/html": [
       "<div>\n",
       "<style scoped>\n",
       "    .dataframe tbody tr th:only-of-type {\n",
       "        vertical-align: middle;\n",
       "    }\n",
       "\n",
       "    .dataframe tbody tr th {\n",
       "        vertical-align: top;\n",
       "    }\n",
       "\n",
       "    .dataframe thead th {\n",
       "        text-align: right;\n",
       "    }\n",
       "</style>\n",
       "<table border=\"1\" class=\"dataframe\">\n",
       "  <thead>\n",
       "    <tr style=\"text-align: right;\">\n",
       "      <th></th>\n",
       "      <th>Age</th>\n",
       "      <th>Gender</th>\n",
       "      <th>Country</th>\n",
       "      <th>Formal_Education</th>\n",
       "      <th>Position</th>\n",
       "      <th>Years_Coding</th>\n",
       "      <th>Salary</th>\n",
       "    </tr>\n",
       "  </thead>\n",
       "  <tbody>\n",
       "    <tr>\n",
       "      <th>5</th>\n",
       "      <td>23.0</td>\n",
       "      <td>Female</td>\n",
       "      <td>United States of America</td>\n",
       "      <td>3</td>\n",
       "      <td>Data Scientist</td>\n",
       "      <td>5.0</td>\n",
       "      <td>84999.5</td>\n",
       "    </tr>\n",
       "    <tr>\n",
       "      <th>9</th>\n",
       "      <td>52.0</td>\n",
       "      <td>Female</td>\n",
       "      <td>United States of America</td>\n",
       "      <td>4</td>\n",
       "      <td>Data Analyst</td>\n",
       "      <td>20.0</td>\n",
       "      <td>137499.5</td>\n",
       "    </tr>\n",
       "    <tr>\n",
       "      <th>19</th>\n",
       "      <td>32.0</td>\n",
       "      <td>Female</td>\n",
       "      <td>United States of America</td>\n",
       "      <td>4</td>\n",
       "      <td>Research Scientist</td>\n",
       "      <td>10.0</td>\n",
       "      <td>174999.5</td>\n",
       "    </tr>\n",
       "    <tr>\n",
       "      <th>24</th>\n",
       "      <td>32.0</td>\n",
       "      <td>Female</td>\n",
       "      <td>United States of America</td>\n",
       "      <td>4</td>\n",
       "      <td>Product/Project Manager</td>\n",
       "      <td>20.0</td>\n",
       "      <td>94999.5</td>\n",
       "    </tr>\n",
       "    <tr>\n",
       "      <th>54</th>\n",
       "      <td>32.0</td>\n",
       "      <td>Female</td>\n",
       "      <td>United States of America</td>\n",
       "      <td>4</td>\n",
       "      <td>Data Engineer</td>\n",
       "      <td>5.0</td>\n",
       "      <td>137499.5</td>\n",
       "    </tr>\n",
       "    <tr>\n",
       "      <th>...</th>\n",
       "      <td>...</td>\n",
       "      <td>...</td>\n",
       "      <td>...</td>\n",
       "      <td>...</td>\n",
       "      <td>...</td>\n",
       "      <td>...</td>\n",
       "      <td>...</td>\n",
       "    </tr>\n",
       "    <tr>\n",
       "      <th>18143</th>\n",
       "      <td>27.0</td>\n",
       "      <td>Female</td>\n",
       "      <td>United States of America</td>\n",
       "      <td>4</td>\n",
       "      <td>Data Scientist</td>\n",
       "      <td>2.0</td>\n",
       "      <td>112499.5</td>\n",
       "    </tr>\n",
       "    <tr>\n",
       "      <th>18157</th>\n",
       "      <td>27.0</td>\n",
       "      <td>Female</td>\n",
       "      <td>United States of America</td>\n",
       "      <td>4</td>\n",
       "      <td>Data Scientist</td>\n",
       "      <td>2.0</td>\n",
       "      <td>74999.5</td>\n",
       "    </tr>\n",
       "    <tr>\n",
       "      <th>18167</th>\n",
       "      <td>32.0</td>\n",
       "      <td>Female</td>\n",
       "      <td>United States of America</td>\n",
       "      <td>4</td>\n",
       "      <td>Data Scientist</td>\n",
       "      <td>10.0</td>\n",
       "      <td>137499.5</td>\n",
       "    </tr>\n",
       "    <tr>\n",
       "      <th>18302</th>\n",
       "      <td>47.0</td>\n",
       "      <td>Female</td>\n",
       "      <td>United States of America</td>\n",
       "      <td>4</td>\n",
       "      <td>Data Analyst</td>\n",
       "      <td>20.0</td>\n",
       "      <td>8749.5</td>\n",
       "    </tr>\n",
       "    <tr>\n",
       "      <th>18319</th>\n",
       "      <td>27.0</td>\n",
       "      <td>Female</td>\n",
       "      <td>United States of America</td>\n",
       "      <td>4</td>\n",
       "      <td>Research Scientist</td>\n",
       "      <td>5.0</td>\n",
       "      <td>94999.5</td>\n",
       "    </tr>\n",
       "  </tbody>\n",
       "</table>\n",
       "<p>642 rows × 7 columns</p>\n",
       "</div>"
      ],
      "text/plain": [
       "        Age  Gender                   Country Formal_Education  \\\n",
       "5      23.0  Female  United States of America                3   \n",
       "9      52.0  Female  United States of America                4   \n",
       "19     32.0  Female  United States of America                4   \n",
       "24     32.0  Female  United States of America                4   \n",
       "54     32.0  Female  United States of America                4   \n",
       "...     ...     ...                       ...              ...   \n",
       "18143  27.0  Female  United States of America                4   \n",
       "18157  27.0  Female  United States of America                4   \n",
       "18167  32.0  Female  United States of America                4   \n",
       "18302  47.0  Female  United States of America                4   \n",
       "18319  27.0  Female  United States of America                4   \n",
       "\n",
       "                      Position  Years_Coding    Salary  \n",
       "5               Data Scientist           5.0   84999.5  \n",
       "9                 Data Analyst          20.0  137499.5  \n",
       "19          Research Scientist          10.0  174999.5  \n",
       "24     Product/Project Manager          20.0   94999.5  \n",
       "54               Data Engineer           5.0  137499.5  \n",
       "...                        ...           ...       ...  \n",
       "18143           Data Scientist           2.0  112499.5  \n",
       "18157           Data Scientist           2.0   74999.5  \n",
       "18167           Data Scientist          10.0  137499.5  \n",
       "18302             Data Analyst          20.0    8749.5  \n",
       "18319       Research Scientist           5.0   94999.5  \n",
       "\n",
       "[642 rows x 7 columns]"
      ]
     },
     "execution_count": 340,
     "metadata": {},
     "output_type": "execute_result"
    }
   ],
   "source": [
    "# Women data of US\n",
    "Women_df = US_df[US_df['Gender'] == 'Female']\n",
    "Women_df"
   ]
  },
  {
   "cell_type": "code",
   "execution_count": 332,
   "metadata": {},
   "outputs": [],
   "source": [
    "# Men data of US\n",
    "Men_df = US_df[US_df['Gender'] == 'Male']"
   ]
  },
  {
   "cell_type": "code",
   "execution_count": 333,
   "metadata": {},
   "outputs": [],
   "source": [
    "Women_Count = len(Women_df)"
   ]
  },
  {
   "cell_type": "code",
   "execution_count": 334,
   "metadata": {},
   "outputs": [],
   "source": [
    "Men_Count = len(Men_df)"
   ]
  },
  {
   "cell_type": "code",
   "execution_count": 335,
   "metadata": {},
   "outputs": [
    {
     "data": {
      "text/plain": [
       "14.125412541254127"
      ]
     },
     "execution_count": 335,
     "metadata": {},
     "output_type": "execute_result"
    }
   ],
   "source": [
    "#Find percentage of Women in the survery\n",
    "women_percentage = (Women_Count/(Women_Count + Men_Count))*100\n",
    "women_percentage"
   ]
  },
  {
   "cell_type": "code",
   "execution_count": 336,
   "metadata": {},
   "outputs": [
    {
     "data": {
      "text/plain": [
       "85.87458745874588"
      ]
     },
     "execution_count": 336,
     "metadata": {},
     "output_type": "execute_result"
    }
   ],
   "source": [
    "# Find percentage of Men in the Survey\n",
    "men_percentage = (Men_Count/(Women_Count + Men_Count))*100\n",
    "men_percentage"
   ]
  },
  {
   "cell_type": "code",
   "execution_count": 173,
   "metadata": {},
   "outputs": [
    {
     "data": {
      "text/html": [
       "<div>\n",
       "<style scoped>\n",
       "    .dataframe tbody tr th:only-of-type {\n",
       "        vertical-align: middle;\n",
       "    }\n",
       "\n",
       "    .dataframe tbody tr th {\n",
       "        vertical-align: top;\n",
       "    }\n",
       "\n",
       "    .dataframe thead th {\n",
       "        text-align: right;\n",
       "    }\n",
       "</style>\n",
       "<table border=\"1\" class=\"dataframe\">\n",
       "  <thead>\n",
       "    <tr style=\"text-align: right;\">\n",
       "      <th></th>\n",
       "      <th>Age</th>\n",
       "      <th>Years_Coding</th>\n",
       "      <th>Salary</th>\n",
       "    </tr>\n",
       "  </thead>\n",
       "  <tbody>\n",
       "    <tr>\n",
       "      <th>count</th>\n",
       "      <td>642.000000</td>\n",
       "      <td>642.00000</td>\n",
       "      <td>642.000000</td>\n",
       "    </tr>\n",
       "    <tr>\n",
       "      <th>mean</th>\n",
       "      <td>35.531153</td>\n",
       "      <td>8.88785</td>\n",
       "      <td>109752.621495</td>\n",
       "    </tr>\n",
       "    <tr>\n",
       "      <th>std</th>\n",
       "      <td>9.628787</td>\n",
       "      <td>6.85667</td>\n",
       "      <td>59640.170905</td>\n",
       "    </tr>\n",
       "    <tr>\n",
       "      <th>min</th>\n",
       "      <td>19.500000</td>\n",
       "      <td>0.00000</td>\n",
       "      <td>1499.500000</td>\n",
       "    </tr>\n",
       "    <tr>\n",
       "      <th>25%</th>\n",
       "      <td>27.000000</td>\n",
       "      <td>5.00000</td>\n",
       "      <td>74999.500000</td>\n",
       "    </tr>\n",
       "    <tr>\n",
       "      <th>50%</th>\n",
       "      <td>32.000000</td>\n",
       "      <td>5.00000</td>\n",
       "      <td>112499.500000</td>\n",
       "    </tr>\n",
       "    <tr>\n",
       "      <th>75%</th>\n",
       "      <td>42.000000</td>\n",
       "      <td>10.00000</td>\n",
       "      <td>137499.500000</td>\n",
       "    </tr>\n",
       "    <tr>\n",
       "      <th>max</th>\n",
       "      <td>64.500000</td>\n",
       "      <td>20.00000</td>\n",
       "      <td>400000.000000</td>\n",
       "    </tr>\n",
       "  </tbody>\n",
       "</table>\n",
       "</div>"
      ],
      "text/plain": [
       "              Age  Years_Coding         Salary\n",
       "count  642.000000     642.00000     642.000000\n",
       "mean    35.531153       8.88785  109752.621495\n",
       "std      9.628787       6.85667   59640.170905\n",
       "min     19.500000       0.00000    1499.500000\n",
       "25%     27.000000       5.00000   74999.500000\n",
       "50%     32.000000       5.00000  112499.500000\n",
       "75%     42.000000      10.00000  137499.500000\n",
       "max     64.500000      20.00000  400000.000000"
      ]
     },
     "execution_count": 173,
     "metadata": {},
     "output_type": "execute_result"
    }
   ],
   "source": [
    "Women_df.shape\n",
    "Women_df.describe()"
   ]
  },
  {
   "cell_type": "code",
   "execution_count": 174,
   "metadata": {},
   "outputs": [
    {
     "data": {
      "text/html": [
       "<div>\n",
       "<style scoped>\n",
       "    .dataframe tbody tr th:only-of-type {\n",
       "        vertical-align: middle;\n",
       "    }\n",
       "\n",
       "    .dataframe tbody tr th {\n",
       "        vertical-align: top;\n",
       "    }\n",
       "\n",
       "    .dataframe thead th {\n",
       "        text-align: right;\n",
       "    }\n",
       "</style>\n",
       "<table border=\"1\" class=\"dataframe\">\n",
       "  <thead>\n",
       "    <tr style=\"text-align: right;\">\n",
       "      <th></th>\n",
       "      <th>Age</th>\n",
       "      <th>Years_Coding</th>\n",
       "      <th>Salary</th>\n",
       "    </tr>\n",
       "  </thead>\n",
       "  <tbody>\n",
       "    <tr>\n",
       "      <th>count</th>\n",
       "      <td>3903.000000</td>\n",
       "      <td>3903.000000</td>\n",
       "      <td>3903.000000</td>\n",
       "    </tr>\n",
       "    <tr>\n",
       "      <th>mean</th>\n",
       "      <td>38.605816</td>\n",
       "      <td>10.300538</td>\n",
       "      <td>132246.311299</td>\n",
       "    </tr>\n",
       "    <tr>\n",
       "      <th>std</th>\n",
       "      <td>11.514335</td>\n",
       "      <td>7.205351</td>\n",
       "      <td>71846.775353</td>\n",
       "    </tr>\n",
       "    <tr>\n",
       "      <th>min</th>\n",
       "      <td>19.500000</td>\n",
       "      <td>0.000000</td>\n",
       "      <td>1499.500000</td>\n",
       "    </tr>\n",
       "    <tr>\n",
       "      <th>25%</th>\n",
       "      <td>32.000000</td>\n",
       "      <td>5.000000</td>\n",
       "      <td>84999.500000</td>\n",
       "    </tr>\n",
       "    <tr>\n",
       "      <th>50%</th>\n",
       "      <td>37.000000</td>\n",
       "      <td>10.000000</td>\n",
       "      <td>112499.500000</td>\n",
       "    </tr>\n",
       "    <tr>\n",
       "      <th>75%</th>\n",
       "      <td>47.000000</td>\n",
       "      <td>20.000000</td>\n",
       "      <td>174999.500000</td>\n",
       "    </tr>\n",
       "    <tr>\n",
       "      <th>max</th>\n",
       "      <td>64.500000</td>\n",
       "      <td>20.000000</td>\n",
       "      <td>400000.000000</td>\n",
       "    </tr>\n",
       "  </tbody>\n",
       "</table>\n",
       "</div>"
      ],
      "text/plain": [
       "               Age  Years_Coding         Salary\n",
       "count  3903.000000   3903.000000    3903.000000\n",
       "mean     38.605816     10.300538  132246.311299\n",
       "std      11.514335      7.205351   71846.775353\n",
       "min      19.500000      0.000000    1499.500000\n",
       "25%      32.000000      5.000000   84999.500000\n",
       "50%      37.000000     10.000000  112499.500000\n",
       "75%      47.000000     20.000000  174999.500000\n",
       "max      64.500000     20.000000  400000.000000"
      ]
     },
     "execution_count": 174,
     "metadata": {},
     "output_type": "execute_result"
    }
   ],
   "source": [
    "Men_df.shape\n",
    "Men_df.describe()"
   ]
  },
  {
   "cell_type": "code",
   "execution_count": 175,
   "metadata": {},
   "outputs": [
    {
     "data": {
      "text/plain": [
       "<seaborn.axisgrid.PairGrid at 0x21ae8b6f548>"
      ]
     },
     "execution_count": 175,
     "metadata": {},
     "output_type": "execute_result"
    },
    {
     "data": {
      "image/png": "[encoded data removed]",
      "text/plain": [
       "<Figure size 685.5x540 with 12 Axes>"
      ]
     },
     "metadata": {
      "needs_background": "light"
     },
     "output_type": "display_data"
    }
   ],
   "source": [
    "sns.pairplot(US_df,hue='Gender')"
   ]
  },
  {
   "cell_type": "code",
   "execution_count": 176,
   "metadata": {},
   "outputs": [
    {
     "data": {
      "text/html": [
       "<div>\n",
       "<style scoped>\n",
       "    .dataframe tbody tr th:only-of-type {\n",
       "        vertical-align: middle;\n",
       "    }\n",
       "\n",
       "    .dataframe tbody tr th {\n",
       "        vertical-align: top;\n",
       "    }\n",
       "\n",
       "    .dataframe thead th {\n",
       "        text-align: right;\n",
       "    }\n",
       "</style>\n",
       "<table border=\"1\" class=\"dataframe\">\n",
       "  <thead>\n",
       "    <tr style=\"text-align: right;\">\n",
       "      <th></th>\n",
       "      <th>Age</th>\n",
       "      <th>Years_Coding</th>\n",
       "      <th>Salary</th>\n",
       "    </tr>\n",
       "  </thead>\n",
       "  <tbody>\n",
       "    <tr>\n",
       "      <th>Age</th>\n",
       "      <td>1.000000</td>\n",
       "      <td>0.380939</td>\n",
       "      <td>0.227314</td>\n",
       "    </tr>\n",
       "    <tr>\n",
       "      <th>Years_Coding</th>\n",
       "      <td>0.380939</td>\n",
       "      <td>1.000000</td>\n",
       "      <td>0.428751</td>\n",
       "    </tr>\n",
       "    <tr>\n",
       "      <th>Salary</th>\n",
       "      <td>0.227314</td>\n",
       "      <td>0.428751</td>\n",
       "      <td>1.000000</td>\n",
       "    </tr>\n",
       "  </tbody>\n",
       "</table>\n",
       "</div>"
      ],
      "text/plain": [
       "                   Age  Years_Coding    Salary\n",
       "Age           1.000000      0.380939  0.227314\n",
       "Years_Coding  0.380939      1.000000  0.428751\n",
       "Salary        0.227314      0.428751  1.000000"
      ]
     },
     "execution_count": 176,
     "metadata": {},
     "output_type": "execute_result"
    }
   ],
   "source": [
    "Women_df.corr()"
   ]
  },
  {
   "cell_type": "code",
   "execution_count": 177,
   "metadata": {},
   "outputs": [
    {
     "data": {
      "text/html": [
       "<div>\n",
       "<style scoped>\n",
       "    .dataframe tbody tr th:only-of-type {\n",
       "        vertical-align: middle;\n",
       "    }\n",
       "\n",
       "    .dataframe tbody tr th {\n",
       "        vertical-align: top;\n",
       "    }\n",
       "\n",
       "    .dataframe thead th {\n",
       "        text-align: right;\n",
       "    }\n",
       "</style>\n",
       "<table border=\"1\" class=\"dataframe\">\n",
       "  <thead>\n",
       "    <tr style=\"text-align: right;\">\n",
       "      <th></th>\n",
       "      <th>Age</th>\n",
       "      <th>Years_Coding</th>\n",
       "      <th>Salary</th>\n",
       "    </tr>\n",
       "  </thead>\n",
       "  <tbody>\n",
       "    <tr>\n",
       "      <th>Age</th>\n",
       "      <td>1.000000</td>\n",
       "      <td>0.445782</td>\n",
       "      <td>0.262780</td>\n",
       "    </tr>\n",
       "    <tr>\n",
       "      <th>Years_Coding</th>\n",
       "      <td>0.445782</td>\n",
       "      <td>1.000000</td>\n",
       "      <td>0.352834</td>\n",
       "    </tr>\n",
       "    <tr>\n",
       "      <th>Salary</th>\n",
       "      <td>0.262780</td>\n",
       "      <td>0.352834</td>\n",
       "      <td>1.000000</td>\n",
       "    </tr>\n",
       "  </tbody>\n",
       "</table>\n",
       "</div>"
      ],
      "text/plain": [
       "                   Age  Years_Coding    Salary\n",
       "Age           1.000000      0.445782  0.262780\n",
       "Years_Coding  0.445782      1.000000  0.352834\n",
       "Salary        0.262780      0.352834  1.000000"
      ]
     },
     "execution_count": 177,
     "metadata": {},
     "output_type": "execute_result"
    }
   ],
   "source": [
    "Men_df.corr()"
   ]
  },
  {
   "cell_type": "code",
   "execution_count": 178,
   "metadata": {},
   "outputs": [
    {
     "data": {
      "text/plain": [
       "<AxesSubplot:xlabel='Years_Coding', ylabel='Age'>"
      ]
     },
     "execution_count": 178,
     "metadata": {},
     "output_type": "execute_result"
    },
    {
     "data": {
      "image/png": "[encoded data removed]",
      "text/plain": [
       "<Figure size 432x288 with 1 Axes>"
      ]
     },
     "metadata": {
      "needs_background": "light"
     },
     "output_type": "display_data"
    }
   ],
   "source": [
    "sns.boxplot(y='Age',x='Years_Coding',data=Women_df)"
   ]
  },
  {
   "cell_type": "code",
   "execution_count": 179,
   "metadata": {},
   "outputs": [
    {
     "data": {
      "text/plain": [
       "<AxesSubplot:xlabel='Years_Coding', ylabel='Age'>"
      ]
     },
     "execution_count": 179,
     "metadata": {},
     "output_type": "execute_result"
    },
    {
     "data": {
      "image/png": "[encoded data removed]",
      "text/plain": [
       "<Figure size 432x288 with 1 Axes>"
      ]
     },
     "metadata": {
      "needs_background": "light"
     },
     "output_type": "display_data"
    }
   ],
   "source": [
    "sns.boxplot(y='Age',x='Years_Coding',data=Men_df)"
   ]
  },
  {
   "cell_type": "code",
   "execution_count": 180,
   "metadata": {},
   "outputs": [
    {
     "data": {
      "text/plain": [
       "<AxesSubplot:xlabel='Years_Coding', ylabel='Salary'>"
      ]
     },
     "execution_count": 180,
     "metadata": {},
     "output_type": "execute_result"
    },
    {
     "data": {
      "image/png": "[encoded data removed]",
      "text/plain": [
       "<Figure size 432x288 with 1 Axes>"
      ]
     },
     "metadata": {
      "needs_background": "light"
     },
     "output_type": "display_data"
    }
   ],
   "source": [
    "sns.boxplot(y='Salary',x='Years_Coding',data=Women_df)"
   ]
  },
  {
   "cell_type": "code",
   "execution_count": 181,
   "metadata": {},
   "outputs": [
    {
     "data": {
      "text/plain": [
       "<AxesSubplot:xlabel='Years_Coding', ylabel='Salary'>"
      ]
     },
     "execution_count": 181,
     "metadata": {},
     "output_type": "execute_result"
    },
    {
     "data": {
      "image/png": "[encoded data removed]",
      "text/plain": [
       "<Figure size 432x288 with 1 Axes>"
      ]
     },
     "metadata": {
      "needs_background": "light"
     },
     "output_type": "display_data"
    }
   ],
   "source": [
    "sns.boxplot(y='Salary',x='Years_Coding',data=Men_df)"
   ]
  },
  {
   "cell_type": "markdown",
   "metadata": {},
   "source": [
    "# Multiple Linear Regression Model for Both Women and Men"
   ]
  },
  {
   "cell_type": "markdown",
   "metadata": {},
   "source": [
    "Only using the US\n",
    "Independent variable: Salary\n",
    "Dependent Variables: Age, Years coding, Formal Education, and Position."
   ]
  },
  {
   "cell_type": "code",
   "execution_count": 341,
   "metadata": {},
   "outputs": [
    {
     "data": {
      "text/html": [
       "<div>\n",
       "<style scoped>\n",
       "    .dataframe tbody tr th:only-of-type {\n",
       "        vertical-align: middle;\n",
       "    }\n",
       "\n",
       "    .dataframe tbody tr th {\n",
       "        vertical-align: top;\n",
       "    }\n",
       "\n",
       "    .dataframe thead th {\n",
       "        text-align: right;\n",
       "    }\n",
       "</style>\n",
       "<table border=\"1\" class=\"dataframe\">\n",
       "  <thead>\n",
       "    <tr style=\"text-align: right;\">\n",
       "      <th></th>\n",
       "      <th>Age</th>\n",
       "      <th>Years_Coding</th>\n",
       "      <th>Formal_Education</th>\n",
       "      <th>Position</th>\n",
       "    </tr>\n",
       "  </thead>\n",
       "  <tbody>\n",
       "    <tr>\n",
       "      <th>5</th>\n",
       "      <td>23.0</td>\n",
       "      <td>5.0</td>\n",
       "      <td>3</td>\n",
       "      <td>Data Scientist</td>\n",
       "    </tr>\n",
       "    <tr>\n",
       "      <th>9</th>\n",
       "      <td>52.0</td>\n",
       "      <td>20.0</td>\n",
       "      <td>4</td>\n",
       "      <td>Data Analyst</td>\n",
       "    </tr>\n",
       "    <tr>\n",
       "      <th>19</th>\n",
       "      <td>32.0</td>\n",
       "      <td>10.0</td>\n",
       "      <td>4</td>\n",
       "      <td>Research Scientist</td>\n",
       "    </tr>\n",
       "    <tr>\n",
       "      <th>24</th>\n",
       "      <td>32.0</td>\n",
       "      <td>20.0</td>\n",
       "      <td>4</td>\n",
       "      <td>Product/Project Manager</td>\n",
       "    </tr>\n",
       "    <tr>\n",
       "      <th>54</th>\n",
       "      <td>32.0</td>\n",
       "      <td>5.0</td>\n",
       "      <td>4</td>\n",
       "      <td>Data Engineer</td>\n",
       "    </tr>\n",
       "    <tr>\n",
       "      <th>...</th>\n",
       "      <td>...</td>\n",
       "      <td>...</td>\n",
       "      <td>...</td>\n",
       "      <td>...</td>\n",
       "    </tr>\n",
       "    <tr>\n",
       "      <th>18143</th>\n",
       "      <td>27.0</td>\n",
       "      <td>2.0</td>\n",
       "      <td>4</td>\n",
       "      <td>Data Scientist</td>\n",
       "    </tr>\n",
       "    <tr>\n",
       "      <th>18157</th>\n",
       "      <td>27.0</td>\n",
       "      <td>2.0</td>\n",
       "      <td>4</td>\n",
       "      <td>Data Scientist</td>\n",
       "    </tr>\n",
       "    <tr>\n",
       "      <th>18167</th>\n",
       "      <td>32.0</td>\n",
       "      <td>10.0</td>\n",
       "      <td>4</td>\n",
       "      <td>Data Scientist</td>\n",
       "    </tr>\n",
       "    <tr>\n",
       "      <th>18302</th>\n",
       "      <td>47.0</td>\n",
       "      <td>20.0</td>\n",
       "      <td>4</td>\n",
       "      <td>Data Analyst</td>\n",
       "    </tr>\n",
       "    <tr>\n",
       "      <th>18319</th>\n",
       "      <td>27.0</td>\n",
       "      <td>5.0</td>\n",
       "      <td>4</td>\n",
       "      <td>Research Scientist</td>\n",
       "    </tr>\n",
       "  </tbody>\n",
       "</table>\n",
       "<p>642 rows × 4 columns</p>\n",
       "</div>"
      ],
      "text/plain": [
       "        Age  Years_Coding Formal_Education                 Position\n",
       "5      23.0           5.0                3           Data Scientist\n",
       "9      52.0          20.0                4             Data Analyst\n",
       "19     32.0          10.0                4       Research Scientist\n",
       "24     32.0          20.0                4  Product/Project Manager\n",
       "54     32.0           5.0                4            Data Engineer\n",
       "...     ...           ...              ...                      ...\n",
       "18143  27.0           2.0                4           Data Scientist\n",
       "18157  27.0           2.0                4           Data Scientist\n",
       "18167  32.0          10.0                4           Data Scientist\n",
       "18302  47.0          20.0                4             Data Analyst\n",
       "18319  27.0           5.0                4       Research Scientist\n",
       "\n",
       "[642 rows x 4 columns]"
      ]
     },
     "execution_count": 341,
     "metadata": {},
     "output_type": "execute_result"
    }
   ],
   "source": [
    "Women_X = Women_df[['Age', 'Years_Coding','Formal_Education','Position']]\n",
    "Women_X"
   ]
  },
  {
   "cell_type": "code",
   "execution_count": 342,
   "metadata": {},
   "outputs": [
    {
     "data": {
      "text/html": [
       "<div>\n",
       "<style scoped>\n",
       "    .dataframe tbody tr th:only-of-type {\n",
       "        vertical-align: middle;\n",
       "    }\n",
       "\n",
       "    .dataframe tbody tr th {\n",
       "        vertical-align: top;\n",
       "    }\n",
       "\n",
       "    .dataframe thead th {\n",
       "        text-align: right;\n",
       "    }\n",
       "</style>\n",
       "<table border=\"1\" class=\"dataframe\">\n",
       "  <thead>\n",
       "    <tr style=\"text-align: right;\">\n",
       "      <th></th>\n",
       "      <th>Age</th>\n",
       "      <th>Years_Coding</th>\n",
       "      <th>Formal_Education</th>\n",
       "      <th>Position</th>\n",
       "    </tr>\n",
       "  </thead>\n",
       "  <tbody>\n",
       "    <tr>\n",
       "      <th>8</th>\n",
       "      <td>32.0</td>\n",
       "      <td>5.0</td>\n",
       "      <td>4</td>\n",
       "      <td>Product/Project Manager</td>\n",
       "    </tr>\n",
       "    <tr>\n",
       "      <th>12</th>\n",
       "      <td>37.0</td>\n",
       "      <td>10.0</td>\n",
       "      <td>3</td>\n",
       "      <td>Other</td>\n",
       "    </tr>\n",
       "    <tr>\n",
       "      <th>32</th>\n",
       "      <td>37.0</td>\n",
       "      <td>10.0</td>\n",
       "      <td>3</td>\n",
       "      <td>Data Scientist</td>\n",
       "    </tr>\n",
       "    <tr>\n",
       "      <th>37</th>\n",
       "      <td>32.0</td>\n",
       "      <td>5.0</td>\n",
       "      <td>4</td>\n",
       "      <td>Other</td>\n",
       "    </tr>\n",
       "    <tr>\n",
       "      <th>39</th>\n",
       "      <td>32.0</td>\n",
       "      <td>5.0</td>\n",
       "      <td>3</td>\n",
       "      <td>Data Analyst</td>\n",
       "    </tr>\n",
       "    <tr>\n",
       "      <th>...</th>\n",
       "      <td>...</td>\n",
       "      <td>...</td>\n",
       "      <td>...</td>\n",
       "      <td>...</td>\n",
       "    </tr>\n",
       "    <tr>\n",
       "      <th>26108</th>\n",
       "      <td>32.0</td>\n",
       "      <td>20.0</td>\n",
       "      <td>4</td>\n",
       "      <td>Data Scientist</td>\n",
       "    </tr>\n",
       "    <tr>\n",
       "      <th>26114</th>\n",
       "      <td>37.0</td>\n",
       "      <td>20.0</td>\n",
       "      <td>3</td>\n",
       "      <td>Software Engineer</td>\n",
       "    </tr>\n",
       "    <tr>\n",
       "      <th>26115</th>\n",
       "      <td>32.0</td>\n",
       "      <td>5.0</td>\n",
       "      <td>Some college/university study without earning ...</td>\n",
       "      <td>Other</td>\n",
       "    </tr>\n",
       "    <tr>\n",
       "      <th>26131</th>\n",
       "      <td>57.0</td>\n",
       "      <td>5.0</td>\n",
       "      <td>4</td>\n",
       "      <td>Data Scientist</td>\n",
       "    </tr>\n",
       "    <tr>\n",
       "      <th>26155</th>\n",
       "      <td>47.0</td>\n",
       "      <td>20.0</td>\n",
       "      <td>3</td>\n",
       "      <td>Software Engineer</td>\n",
       "    </tr>\n",
       "  </tbody>\n",
       "</table>\n",
       "<p>3903 rows × 4 columns</p>\n",
       "</div>"
      ],
      "text/plain": [
       "        Age  Years_Coding                                   Formal_Education  \\\n",
       "8      32.0           5.0                                                  4   \n",
       "12     37.0          10.0                                                  3   \n",
       "32     37.0          10.0                                                  3   \n",
       "37     32.0           5.0                                                  4   \n",
       "39     32.0           5.0                                                  3   \n",
       "...     ...           ...                                                ...   \n",
       "26108  32.0          20.0                                                  4   \n",
       "26114  37.0          20.0                                                  3   \n",
       "26115  32.0           5.0  Some college/university study without earning ...   \n",
       "26131  57.0           5.0                                                  4   \n",
       "26155  47.0          20.0                                                  3   \n",
       "\n",
       "                      Position  \n",
       "8      Product/Project Manager  \n",
       "12                       Other  \n",
       "32              Data Scientist  \n",
       "37                       Other  \n",
       "39                Data Analyst  \n",
       "...                        ...  \n",
       "26108           Data Scientist  \n",
       "26114        Software Engineer  \n",
       "26115                    Other  \n",
       "26131           Data Scientist  \n",
       "26155        Software Engineer  \n",
       "\n",
       "[3903 rows x 4 columns]"
      ]
     },
     "execution_count": 342,
     "metadata": {},
     "output_type": "execute_result"
    }
   ],
   "source": [
    "Men_X = Men_df[['Age', 'Years_Coding','Formal_Education','Position']]\n",
    "Men_X"
   ]
  },
  {
   "cell_type": "code",
   "execution_count": 184,
   "metadata": {},
   "outputs": [
    {
     "data": {
      "text/html": [
       "<div>\n",
       "<style scoped>\n",
       "    .dataframe tbody tr th:only-of-type {\n",
       "        vertical-align: middle;\n",
       "    }\n",
       "\n",
       "    .dataframe tbody tr th {\n",
       "        vertical-align: top;\n",
       "    }\n",
       "\n",
       "    .dataframe thead th {\n",
       "        text-align: right;\n",
       "    }\n",
       "</style>\n",
       "<table border=\"1\" class=\"dataframe\">\n",
       "  <thead>\n",
       "    <tr style=\"text-align: right;\">\n",
       "      <th></th>\n",
       "      <th>Age</th>\n",
       "      <th>Years_Coding</th>\n",
       "      <th>Formal_Education_Doctoral degree</th>\n",
       "      <th>Formal_Education_Master’s degree</th>\n",
       "      <th>Formal_Education_Professional degree</th>\n",
       "      <th>Formal_Education_Some college/university study without earning a bachelor’s degree</th>\n",
       "      <th>Position_DBA/Database Engineer</th>\n",
       "      <th>Position_Data Analyst</th>\n",
       "      <th>Position_Data Engineer</th>\n",
       "      <th>Position_Data Scientist</th>\n",
       "      <th>Position_Other</th>\n",
       "      <th>Position_Product/Project Manager</th>\n",
       "      <th>Position_Research Scientist</th>\n",
       "      <th>Position_Software Engineer</th>\n",
       "      <th>Position_Statistician</th>\n",
       "    </tr>\n",
       "  </thead>\n",
       "  <tbody>\n",
       "    <tr>\n",
       "      <th>5</th>\n",
       "      <td>23.0</td>\n",
       "      <td>5.0</td>\n",
       "      <td>0</td>\n",
       "      <td>0</td>\n",
       "      <td>0</td>\n",
       "      <td>0</td>\n",
       "      <td>0</td>\n",
       "      <td>0</td>\n",
       "      <td>0</td>\n",
       "      <td>1</td>\n",
       "      <td>0</td>\n",
       "      <td>0</td>\n",
       "      <td>0</td>\n",
       "      <td>0</td>\n",
       "      <td>0</td>\n",
       "    </tr>\n",
       "    <tr>\n",
       "      <th>9</th>\n",
       "      <td>52.0</td>\n",
       "      <td>20.0</td>\n",
       "      <td>0</td>\n",
       "      <td>1</td>\n",
       "      <td>0</td>\n",
       "      <td>0</td>\n",
       "      <td>0</td>\n",
       "      <td>1</td>\n",
       "      <td>0</td>\n",
       "      <td>0</td>\n",
       "      <td>0</td>\n",
       "      <td>0</td>\n",
       "      <td>0</td>\n",
       "      <td>0</td>\n",
       "      <td>0</td>\n",
       "    </tr>\n",
       "    <tr>\n",
       "      <th>19</th>\n",
       "      <td>32.0</td>\n",
       "      <td>10.0</td>\n",
       "      <td>0</td>\n",
       "      <td>1</td>\n",
       "      <td>0</td>\n",
       "      <td>0</td>\n",
       "      <td>0</td>\n",
       "      <td>0</td>\n",
       "      <td>0</td>\n",
       "      <td>0</td>\n",
       "      <td>0</td>\n",
       "      <td>0</td>\n",
       "      <td>1</td>\n",
       "      <td>0</td>\n",
       "      <td>0</td>\n",
       "    </tr>\n",
       "    <tr>\n",
       "      <th>24</th>\n",
       "      <td>32.0</td>\n",
       "      <td>20.0</td>\n",
       "      <td>1</td>\n",
       "      <td>0</td>\n",
       "      <td>0</td>\n",
       "      <td>0</td>\n",
       "      <td>0</td>\n",
       "      <td>0</td>\n",
       "      <td>0</td>\n",
       "      <td>0</td>\n",
       "      <td>0</td>\n",
       "      <td>1</td>\n",
       "      <td>0</td>\n",
       "      <td>0</td>\n",
       "      <td>0</td>\n",
       "    </tr>\n",
       "    <tr>\n",
       "      <th>54</th>\n",
       "      <td>32.0</td>\n",
       "      <td>5.0</td>\n",
       "      <td>0</td>\n",
       "      <td>1</td>\n",
       "      <td>0</td>\n",
       "      <td>0</td>\n",
       "      <td>0</td>\n",
       "      <td>0</td>\n",
       "      <td>1</td>\n",
       "      <td>0</td>\n",
       "      <td>0</td>\n",
       "      <td>0</td>\n",
       "      <td>0</td>\n",
       "      <td>0</td>\n",
       "      <td>0</td>\n",
       "    </tr>\n",
       "  </tbody>\n",
       "</table>\n",
       "</div>"
      ],
      "text/plain": [
       "     Age  Years_Coding  Formal_Education_Doctoral degree  \\\n",
       "5   23.0           5.0                                 0   \n",
       "9   52.0          20.0                                 0   \n",
       "19  32.0          10.0                                 0   \n",
       "24  32.0          20.0                                 1   \n",
       "54  32.0           5.0                                 0   \n",
       "\n",
       "    Formal_Education_Master’s degree  Formal_Education_Professional degree  \\\n",
       "5                                  0                                     0   \n",
       "9                                  1                                     0   \n",
       "19                                 1                                     0   \n",
       "24                                 0                                     0   \n",
       "54                                 1                                     0   \n",
       "\n",
       "    Formal_Education_Some college/university study without earning a bachelor’s degree  \\\n",
       "5                                                   0                                    \n",
       "9                                                   0                                    \n",
       "19                                                  0                                    \n",
       "24                                                  0                                    \n",
       "54                                                  0                                    \n",
       "\n",
       "    Position_DBA/Database Engineer  Position_Data Analyst  \\\n",
       "5                                0                      0   \n",
       "9                                0                      1   \n",
       "19                               0                      0   \n",
       "24                               0                      0   \n",
       "54                               0                      0   \n",
       "\n",
       "    Position_Data Engineer  Position_Data Scientist  Position_Other  \\\n",
       "5                        0                        1               0   \n",
       "9                        0                        0               0   \n",
       "19                       0                        0               0   \n",
       "24                       0                        0               0   \n",
       "54                       1                        0               0   \n",
       "\n",
       "    Position_Product/Project Manager  Position_Research Scientist  \\\n",
       "5                                  0                            0   \n",
       "9                                  0                            0   \n",
       "19                                 0                            1   \n",
       "24                                 1                            0   \n",
       "54                                 0                            0   \n",
       "\n",
       "    Position_Software Engineer  Position_Statistician  \n",
       "5                            0                      0  \n",
       "9                            0                      0  \n",
       "19                           0                      0  \n",
       "24                           0                      0  \n",
       "54                           0                      0  "
      ]
     },
     "execution_count": 184,
     "metadata": {},
     "output_type": "execute_result"
    }
   ],
   "source": [
    "# Create dummy variables for categorical data (Gender, Country, Position, Education)\n",
    "Women_X = pd.get_dummies(data=Women_X, drop_first=True)\n",
    "Women_X.head()"
   ]
  },
  {
   "cell_type": "code",
   "execution_count": 185,
   "metadata": {},
   "outputs": [
    {
     "data": {
      "text/html": [
       "<div>\n",
       "<style scoped>\n",
       "    .dataframe tbody tr th:only-of-type {\n",
       "        vertical-align: middle;\n",
       "    }\n",
       "\n",
       "    .dataframe tbody tr th {\n",
       "        vertical-align: top;\n",
       "    }\n",
       "\n",
       "    .dataframe thead th {\n",
       "        text-align: right;\n",
       "    }\n",
       "</style>\n",
       "<table border=\"1\" class=\"dataframe\">\n",
       "  <thead>\n",
       "    <tr style=\"text-align: right;\">\n",
       "      <th></th>\n",
       "      <th>Age</th>\n",
       "      <th>Years_Coding</th>\n",
       "      <th>Formal_Education_Doctoral degree</th>\n",
       "      <th>Formal_Education_I prefer not to answer</th>\n",
       "      <th>Formal_Education_Master’s degree</th>\n",
       "      <th>Formal_Education_No formal education past high school</th>\n",
       "      <th>Formal_Education_Professional degree</th>\n",
       "      <th>Formal_Education_Some college/university study without earning a bachelor’s degree</th>\n",
       "      <th>Position_DBA/Database Engineer</th>\n",
       "      <th>Position_Data Analyst</th>\n",
       "      <th>Position_Data Engineer</th>\n",
       "      <th>Position_Data Scientist</th>\n",
       "      <th>Position_Machine Learning Engineer</th>\n",
       "      <th>Position_Other</th>\n",
       "      <th>Position_Product/Project Manager</th>\n",
       "      <th>Position_Research Scientist</th>\n",
       "      <th>Position_Software Engineer</th>\n",
       "      <th>Position_Statistician</th>\n",
       "    </tr>\n",
       "  </thead>\n",
       "  <tbody>\n",
       "    <tr>\n",
       "      <th>8</th>\n",
       "      <td>32.0</td>\n",
       "      <td>5.0</td>\n",
       "      <td>0</td>\n",
       "      <td>0</td>\n",
       "      <td>1</td>\n",
       "      <td>0</td>\n",
       "      <td>0</td>\n",
       "      <td>0</td>\n",
       "      <td>0</td>\n",
       "      <td>0</td>\n",
       "      <td>0</td>\n",
       "      <td>0</td>\n",
       "      <td>0</td>\n",
       "      <td>0</td>\n",
       "      <td>1</td>\n",
       "      <td>0</td>\n",
       "      <td>0</td>\n",
       "      <td>0</td>\n",
       "    </tr>\n",
       "    <tr>\n",
       "      <th>12</th>\n",
       "      <td>37.0</td>\n",
       "      <td>10.0</td>\n",
       "      <td>0</td>\n",
       "      <td>0</td>\n",
       "      <td>0</td>\n",
       "      <td>0</td>\n",
       "      <td>0</td>\n",
       "      <td>0</td>\n",
       "      <td>0</td>\n",
       "      <td>0</td>\n",
       "      <td>0</td>\n",
       "      <td>0</td>\n",
       "      <td>0</td>\n",
       "      <td>1</td>\n",
       "      <td>0</td>\n",
       "      <td>0</td>\n",
       "      <td>0</td>\n",
       "      <td>0</td>\n",
       "    </tr>\n",
       "    <tr>\n",
       "      <th>32</th>\n",
       "      <td>37.0</td>\n",
       "      <td>10.0</td>\n",
       "      <td>0</td>\n",
       "      <td>0</td>\n",
       "      <td>0</td>\n",
       "      <td>0</td>\n",
       "      <td>0</td>\n",
       "      <td>0</td>\n",
       "      <td>0</td>\n",
       "      <td>0</td>\n",
       "      <td>0</td>\n",
       "      <td>1</td>\n",
       "      <td>0</td>\n",
       "      <td>0</td>\n",
       "      <td>0</td>\n",
       "      <td>0</td>\n",
       "      <td>0</td>\n",
       "      <td>0</td>\n",
       "    </tr>\n",
       "    <tr>\n",
       "      <th>37</th>\n",
       "      <td>32.0</td>\n",
       "      <td>5.0</td>\n",
       "      <td>0</td>\n",
       "      <td>0</td>\n",
       "      <td>1</td>\n",
       "      <td>0</td>\n",
       "      <td>0</td>\n",
       "      <td>0</td>\n",
       "      <td>0</td>\n",
       "      <td>0</td>\n",
       "      <td>0</td>\n",
       "      <td>0</td>\n",
       "      <td>0</td>\n",
       "      <td>1</td>\n",
       "      <td>0</td>\n",
       "      <td>0</td>\n",
       "      <td>0</td>\n",
       "      <td>0</td>\n",
       "    </tr>\n",
       "    <tr>\n",
       "      <th>39</th>\n",
       "      <td>32.0</td>\n",
       "      <td>5.0</td>\n",
       "      <td>0</td>\n",
       "      <td>0</td>\n",
       "      <td>0</td>\n",
       "      <td>0</td>\n",
       "      <td>0</td>\n",
       "      <td>0</td>\n",
       "      <td>0</td>\n",
       "      <td>1</td>\n",
       "      <td>0</td>\n",
       "      <td>0</td>\n",
       "      <td>0</td>\n",
       "      <td>0</td>\n",
       "      <td>0</td>\n",
       "      <td>0</td>\n",
       "      <td>0</td>\n",
       "      <td>0</td>\n",
       "    </tr>\n",
       "  </tbody>\n",
       "</table>\n",
       "</div>"
      ],
      "text/plain": [
       "     Age  Years_Coding  Formal_Education_Doctoral degree  \\\n",
       "8   32.0           5.0                                 0   \n",
       "12  37.0          10.0                                 0   \n",
       "32  37.0          10.0                                 0   \n",
       "37  32.0           5.0                                 0   \n",
       "39  32.0           5.0                                 0   \n",
       "\n",
       "    Formal_Education_I prefer not to answer  Formal_Education_Master’s degree  \\\n",
       "8                                         0                                 1   \n",
       "12                                        0                                 0   \n",
       "32                                        0                                 0   \n",
       "37                                        0                                 1   \n",
       "39                                        0                                 0   \n",
       "\n",
       "    Formal_Education_No formal education past high school  \\\n",
       "8                                                   0       \n",
       "12                                                  0       \n",
       "32                                                  0       \n",
       "37                                                  0       \n",
       "39                                                  0       \n",
       "\n",
       "    Formal_Education_Professional degree  \\\n",
       "8                                      0   \n",
       "12                                     0   \n",
       "32                                     0   \n",
       "37                                     0   \n",
       "39                                     0   \n",
       "\n",
       "    Formal_Education_Some college/university study without earning a bachelor’s degree  \\\n",
       "8                                                   0                                    \n",
       "12                                                  0                                    \n",
       "32                                                  0                                    \n",
       "37                                                  0                                    \n",
       "39                                                  0                                    \n",
       "\n",
       "    Position_DBA/Database Engineer  Position_Data Analyst  \\\n",
       "8                                0                      0   \n",
       "12                               0                      0   \n",
       "32                               0                      0   \n",
       "37                               0                      0   \n",
       "39                               0                      1   \n",
       "\n",
       "    Position_Data Engineer  Position_Data Scientist  \\\n",
       "8                        0                        0   \n",
       "12                       0                        0   \n",
       "32                       0                        1   \n",
       "37                       0                        0   \n",
       "39                       0                        0   \n",
       "\n",
       "    Position_Machine Learning Engineer  Position_Other  \\\n",
       "8                                    0               0   \n",
       "12                                   0               1   \n",
       "32                                   0               0   \n",
       "37                                   0               1   \n",
       "39                                   0               0   \n",
       "\n",
       "    Position_Product/Project Manager  Position_Research Scientist  \\\n",
       "8                                  1                            0   \n",
       "12                                 0                            0   \n",
       "32                                 0                            0   \n",
       "37                                 0                            0   \n",
       "39                                 0                            0   \n",
       "\n",
       "    Position_Software Engineer  Position_Statistician  \n",
       "8                            0                      0  \n",
       "12                           0                      0  \n",
       "32                           0                      0  \n",
       "37                           0                      0  \n",
       "39                           0                      0  "
      ]
     },
     "execution_count": 185,
     "metadata": {},
     "output_type": "execute_result"
    }
   ],
   "source": [
    "# Create dummy variables for categorical data (Gender, Country, Position, Education)\n",
    "Men_X = pd.get_dummies(data=Men_X, drop_first=True)\n",
    "Men_X.head()"
   ]
  },
  {
   "cell_type": "code",
   "execution_count": 186,
   "metadata": {},
   "outputs": [],
   "source": [
    "Women_Y = Women_df['Salary']\n",
    "Men_Y = Men_df['Salary']"
   ]
  },
  {
   "cell_type": "code",
   "execution_count": 187,
   "metadata": {},
   "outputs": [
    {
     "name": "stdout",
     "output_type": "stream",
     "text": [
      "(481, 15)\n",
      "(161, 15)\n",
      "(481,)\n",
      "(161,)\n"
     ]
    }
   ],
   "source": [
    "from sklearn.model_selection import train_test_split\n",
    "Women_X_train, Women_X_test, Women_y_train, Women_y_test = train_test_split(Women_X, Women_Y, test_size=0.25, random_state=101)\n",
    "print(Women_X_train.shape)\n",
    "print(Women_X_test.shape)\n",
    "print(Women_y_train.shape)\n",
    "print(Women_y_test.shape)"
   ]
  },
  {
   "cell_type": "code",
   "execution_count": 188,
   "metadata": {},
   "outputs": [
    {
     "name": "stdout",
     "output_type": "stream",
     "text": [
      "(2927, 18)\n",
      "(976, 18)\n",
      "(2927,)\n",
      "(976,)\n"
     ]
    }
   ],
   "source": [
    "from sklearn.model_selection import train_test_split\n",
    "Men_X_train, Men_X_test, Men_y_train, Men_y_test = train_test_split(Men_X, Men_Y, test_size=0.25, random_state=101)\n",
    "print(Men_X_train.shape)\n",
    "print(Men_X_test.shape)\n",
    "print(Men_y_train.shape)\n",
    "print(Men_y_test.shape)"
   ]
  },
  {
   "cell_type": "code",
   "execution_count": 189,
   "metadata": {},
   "outputs": [
    {
     "data": {
      "text/plain": [
       "LinearRegression()"
      ]
     },
     "execution_count": 189,
     "metadata": {},
     "output_type": "execute_result"
    }
   ],
   "source": [
    "from sklearn.linear_model import LinearRegression\n",
    "Women_model = LinearRegression()\n",
    "Women_model.fit(Women_X_train,Women_y_train)"
   ]
  },
  {
   "cell_type": "code",
   "execution_count": 190,
   "metadata": {},
   "outputs": [
    {
     "data": {
      "text/plain": [
       "LinearRegression()"
      ]
     },
     "execution_count": 190,
     "metadata": {},
     "output_type": "execute_result"
    }
   ],
   "source": [
    "from sklearn.linear_model import LinearRegression\n",
    "Men_model = LinearRegression()\n",
    "Men_model.fit(Men_X_train,Men_y_train)"
   ]
  },
  {
   "cell_type": "code",
   "execution_count": 191,
   "metadata": {},
   "outputs": [
    {
     "name": "stdout",
     "output_type": "stream",
     "text": [
      "93725.11886464505\n"
     ]
    }
   ],
   "source": [
    "# print the intercept\n",
    "print(Women_model.intercept_)"
   ]
  },
  {
   "cell_type": "code",
   "execution_count": 192,
   "metadata": {},
   "outputs": [
    {
     "name": "stdout",
     "output_type": "stream",
     "text": [
      "51273.285340274015\n"
     ]
    }
   ],
   "source": [
    "# print the intercept\n",
    "print(Men_model.intercept_)"
   ]
  },
  {
   "cell_type": "code",
   "execution_count": 193,
   "metadata": {},
   "outputs": [
    {
     "data": {
      "text/html": [
       "<div>\n",
       "<style scoped>\n",
       "    .dataframe tbody tr th:only-of-type {\n",
       "        vertical-align: middle;\n",
       "    }\n",
       "\n",
       "    .dataframe tbody tr th {\n",
       "        vertical-align: top;\n",
       "    }\n",
       "\n",
       "    .dataframe thead th {\n",
       "        text-align: right;\n",
       "    }\n",
       "</style>\n",
       "<table border=\"1\" class=\"dataframe\">\n",
       "  <thead>\n",
       "    <tr style=\"text-align: right;\">\n",
       "      <th></th>\n",
       "      <th>Coefficient</th>\n",
       "    </tr>\n",
       "  </thead>\n",
       "  <tbody>\n",
       "    <tr>\n",
       "      <th>Age</th>\n",
       "      <td>-98.437480</td>\n",
       "    </tr>\n",
       "    <tr>\n",
       "      <th>Years_Coding</th>\n",
       "      <td>3644.841017</td>\n",
       "    </tr>\n",
       "    <tr>\n",
       "      <th>Formal_Education_Doctoral degree</th>\n",
       "      <td>1554.542230</td>\n",
       "    </tr>\n",
       "    <tr>\n",
       "      <th>Formal_Education_Master’s degree</th>\n",
       "      <td>5106.599319</td>\n",
       "    </tr>\n",
       "    <tr>\n",
       "      <th>Formal_Education_Professional degree</th>\n",
       "      <td>58838.831828</td>\n",
       "    </tr>\n",
       "    <tr>\n",
       "      <th>Formal_Education_Some college/university study without earning a bachelor’s degree</th>\n",
       "      <td>-35736.875883</td>\n",
       "    </tr>\n",
       "    <tr>\n",
       "      <th>Position_DBA/Database Engineer</th>\n",
       "      <td>-27683.468235</td>\n",
       "    </tr>\n",
       "    <tr>\n",
       "      <th>Position_Data Analyst</th>\n",
       "      <td>-33414.633419</td>\n",
       "    </tr>\n",
       "    <tr>\n",
       "      <th>Position_Data Engineer</th>\n",
       "      <td>-25515.566575</td>\n",
       "    </tr>\n",
       "    <tr>\n",
       "      <th>Position_Data Scientist</th>\n",
       "      <td>-2802.488983</td>\n",
       "    </tr>\n",
       "    <tr>\n",
       "      <th>Position_Other</th>\n",
       "      <td>-22893.079113</td>\n",
       "    </tr>\n",
       "    <tr>\n",
       "      <th>Position_Product/Project Manager</th>\n",
       "      <td>-18444.514120</td>\n",
       "    </tr>\n",
       "    <tr>\n",
       "      <th>Position_Research Scientist</th>\n",
       "      <td>-26722.894289</td>\n",
       "    </tr>\n",
       "    <tr>\n",
       "      <th>Position_Software Engineer</th>\n",
       "      <td>-38802.615067</td>\n",
       "    </tr>\n",
       "    <tr>\n",
       "      <th>Position_Statistician</th>\n",
       "      <td>16734.447744</td>\n",
       "    </tr>\n",
       "  </tbody>\n",
       "</table>\n",
       "</div>"
      ],
      "text/plain": [
       "                                                     Coefficient\n",
       "Age                                                   -98.437480\n",
       "Years_Coding                                         3644.841017\n",
       "Formal_Education_Doctoral degree                     1554.542230\n",
       "Formal_Education_Master’s degree                     5106.599319\n",
       "Formal_Education_Professional degree                58838.831828\n",
       "Formal_Education_Some college/university study ... -35736.875883\n",
       "Position_DBA/Database Engineer                     -27683.468235\n",
       "Position_Data Analyst                              -33414.633419\n",
       "Position_Data Engineer                             -25515.566575\n",
       "Position_Data Scientist                             -2802.488983\n",
       "Position_Other                                     -22893.079113\n",
       "Position_Product/Project Manager                   -18444.514120\n",
       "Position_Research Scientist                        -26722.894289\n",
       "Position_Software Engineer                         -38802.615067\n",
       "Position_Statistician                               16734.447744"
      ]
     },
     "execution_count": 193,
     "metadata": {},
     "output_type": "execute_result"
    }
   ],
   "source": [
    "Women_coeff_parameter = pd.DataFrame(Women_model.coef_,Women_X.columns,columns=['Coefficient'])\n",
    "Women_coeff_parameter"
   ]
  },
  {
   "cell_type": "code",
   "execution_count": 194,
   "metadata": {},
   "outputs": [
    {
     "data": {
      "text/html": [
       "<div>\n",
       "<style scoped>\n",
       "    .dataframe tbody tr th:only-of-type {\n",
       "        vertical-align: middle;\n",
       "    }\n",
       "\n",
       "    .dataframe tbody tr th {\n",
       "        vertical-align: top;\n",
       "    }\n",
       "\n",
       "    .dataframe thead th {\n",
       "        text-align: right;\n",
       "    }\n",
       "</style>\n",
       "<table border=\"1\" class=\"dataframe\">\n",
       "  <thead>\n",
       "    <tr style=\"text-align: right;\">\n",
       "      <th></th>\n",
       "      <th>Coefficient</th>\n",
       "    </tr>\n",
       "  </thead>\n",
       "  <tbody>\n",
       "    <tr>\n",
       "      <th>Age</th>\n",
       "      <td>821.719112</td>\n",
       "    </tr>\n",
       "    <tr>\n",
       "      <th>Years_Coding</th>\n",
       "      <td>2827.679292</td>\n",
       "    </tr>\n",
       "    <tr>\n",
       "      <th>Formal_Education_Doctoral degree</th>\n",
       "      <td>-107.236264</td>\n",
       "    </tr>\n",
       "    <tr>\n",
       "      <th>Formal_Education_I prefer not to answer</th>\n",
       "      <td>-12189.525280</td>\n",
       "    </tr>\n",
       "    <tr>\n",
       "      <th>Formal_Education_Master’s degree</th>\n",
       "      <td>-288.570153</td>\n",
       "    </tr>\n",
       "    <tr>\n",
       "      <th>Formal_Education_No formal education past high school</th>\n",
       "      <td>-15827.063959</td>\n",
       "    </tr>\n",
       "    <tr>\n",
       "      <th>Formal_Education_Professional degree</th>\n",
       "      <td>25147.102420</td>\n",
       "    </tr>\n",
       "    <tr>\n",
       "      <th>Formal_Education_Some college/university study without earning a bachelor’s degree</th>\n",
       "      <td>-20794.589608</td>\n",
       "    </tr>\n",
       "    <tr>\n",
       "      <th>Position_DBA/Database Engineer</th>\n",
       "      <td>-4236.746993</td>\n",
       "    </tr>\n",
       "    <tr>\n",
       "      <th>Position_Data Analyst</th>\n",
       "      <td>-8997.485689</td>\n",
       "    </tr>\n",
       "    <tr>\n",
       "      <th>Position_Data Engineer</th>\n",
       "      <td>14297.336003</td>\n",
       "    </tr>\n",
       "    <tr>\n",
       "      <th>Position_Data Scientist</th>\n",
       "      <td>34666.326124</td>\n",
       "    </tr>\n",
       "    <tr>\n",
       "      <th>Position_Machine Learning Engineer</th>\n",
       "      <td>41816.578801</td>\n",
       "    </tr>\n",
       "    <tr>\n",
       "      <th>Position_Other</th>\n",
       "      <td>25417.097330</td>\n",
       "    </tr>\n",
       "    <tr>\n",
       "      <th>Position_Product/Project Manager</th>\n",
       "      <td>27680.174404</td>\n",
       "    </tr>\n",
       "    <tr>\n",
       "      <th>Position_Research Scientist</th>\n",
       "      <td>3302.268792</td>\n",
       "    </tr>\n",
       "    <tr>\n",
       "      <th>Position_Software Engineer</th>\n",
       "      <td>23100.455966</td>\n",
       "    </tr>\n",
       "    <tr>\n",
       "      <th>Position_Statistician</th>\n",
       "      <td>-10504.693849</td>\n",
       "    </tr>\n",
       "  </tbody>\n",
       "</table>\n",
       "</div>"
      ],
      "text/plain": [
       "                                                     Coefficient\n",
       "Age                                                   821.719112\n",
       "Years_Coding                                         2827.679292\n",
       "Formal_Education_Doctoral degree                     -107.236264\n",
       "Formal_Education_I prefer not to answer            -12189.525280\n",
       "Formal_Education_Master’s degree                     -288.570153\n",
       "Formal_Education_No formal education past high ... -15827.063959\n",
       "Formal_Education_Professional degree                25147.102420\n",
       "Formal_Education_Some college/university study ... -20794.589608\n",
       "Position_DBA/Database Engineer                      -4236.746993\n",
       "Position_Data Analyst                               -8997.485689\n",
       "Position_Data Engineer                              14297.336003\n",
       "Position_Data Scientist                             34666.326124\n",
       "Position_Machine Learning Engineer                  41816.578801\n",
       "Position_Other                                      25417.097330\n",
       "Position_Product/Project Manager                    27680.174404\n",
       "Position_Research Scientist                          3302.268792\n",
       "Position_Software Engineer                          23100.455966\n",
       "Position_Statistician                              -10504.693849"
      ]
     },
     "execution_count": 194,
     "metadata": {},
     "output_type": "execute_result"
    }
   ],
   "source": [
    "Men_coeff_parameter = pd.DataFrame(Men_model.coef_,Men_X.columns,columns=['Coefficient'])\n",
    "Men_coeff_parameter"
   ]
  },
  {
   "cell_type": "code",
   "execution_count": 195,
   "metadata": {},
   "outputs": [
    {
     "data": {
      "text/plain": [
       "array([125775.5829209 , 111989.37224498, 111595.62232503, 162223.99309011,\n",
       "       111103.43492508,  66037.36452249,  80983.4778889 ,  80131.48155517,\n",
       "        78522.54088917, 111989.37224498,  78601.75954494, 100661.09927426,\n",
       "       113685.61487301,  95062.31255563, 105407.23470378, 111595.62232503,\n",
       "       162223.99309011, 106489.02300634, 106614.56241773, 136827.02558436,\n",
       "        71819.06880911,  94101.08365482, 101855.17761499,  60313.13970264,\n",
       "        71312.07751109, 123762.93000634, 159763.05609038,  98223.30817362,\n",
       "       126267.77032084,  75103.30884104,  37758.28434345,  93608.89625488,\n",
       "       111989.37224498,  79586.13434483, 123762.93000634, 142078.59778706,\n",
       "       138303.5877842 , 164299.48797906, 109641.37038427, 165283.86277896,\n",
       "        93819.7013256 ,  81721.75898882,  87183.02961917, 138926.32132779,\n",
       "       101362.99021504,  79586.13434483, 111595.62232503,  71312.07751109,\n",
       "       111595.62232503, 137319.21298431, 111595.62232503,  84034.69933769,\n",
       "       105996.83560639,  87183.02961917, 106489.02300634, 114398.11130823,\n",
       "       110447.41696815, 126866.70300996,  69556.76743819,  74971.72242609,\n",
       "        87898.16993318, 105407.23470378, 137319.21298431, 104915.04730383,\n",
       "        74118.93404115,  91505.03219549,  74118.93404115,  71227.17802222,\n",
       "        67095.83043846,  76270.62849017,  80491.29048896, 129819.82740963,\n",
       "       111989.37224498,  68572.3926383 , 107551.37783629, 160747.43089027,\n",
       "       161239.61829022, 161731.80569017,  98223.30817362,  99207.68297351,\n",
       "       166117.60216238,  69556.76743819,  70048.95483814, 128835.45260974,\n",
       "        80491.29048896,  91909.65893865,  88882.54473307, 146581.96795343,\n",
       "       101855.17761499,  74298.88420219, 106489.02300634,  93819.7013256 ,\n",
       "       104915.04730383,  33767.64623961,  71227.17802222, 111595.62232503,\n",
       "       143224.52304963, 131132.55905249, 107059.19043634,  73188.63687956,\n",
       "        28221.10483676,  93819.7013256 , 111595.62232503, 164791.67537901,\n",
       "       129819.82740963, 125775.5829209 , 129327.64000969,  74303.18066539,\n",
       "       164791.67537901, 110611.24752513, 130135.28645415,  64660.97319022,\n",
       "       164791.67537901, 161239.61829022, 129643.0990542 , 100661.09927426,\n",
       "       108043.56523624,  80983.4778889 ,  69556.76743819,  89106.85192687,\n",
       "       126267.77032084, 124255.11740629, 162576.83207925,  98692.34967448,\n",
       "       111595.62232503, 111595.62232503,  80491.29048896, 161731.80569017,\n",
       "        86398.4328768 , 125775.5829209 , 106882.7729263 , 180284.36761773,\n",
       "       137319.21298431, 124713.22809095, 159763.05609038, 124791.208121  ,\n",
       "        96880.42673894, 137319.21298431,  75103.30884104,  99326.5598406 ,\n",
       "       127358.8904099 , 163807.30057912,  71150.90420612, 198925.50515892,\n",
       "       111595.62232503, 114398.11130823, 111595.62232503, 114398.11130823,\n",
       "        76740.69396835, 125775.5829209 ,  99207.68297351, 108579.01555432,\n",
       "       129819.82740963,  98715.49557356,  92702.50148504,  94712.14792186,\n",
       "       163807.30057912,  95062.31255563, 106882.7729263 ,  66037.36452249,\n",
       "        88390.35733313])"
      ]
     },
     "execution_count": 195,
     "metadata": {},
     "output_type": "execute_result"
    }
   ],
   "source": [
    "Women_predictions = Women_model.predict(Women_X_test)"
   ]
  },
  {
   "cell_type": "code",
   "execution_count": 196,
   "metadata": {},
   "outputs": [
    {
     "data": {
      "text/plain": [
       "array([121394.2834353 , 172608.23430508, 114252.73245747, 135263.54648256,\n",
       "       124786.56494532, 126084.44936694, 159431.74383805, 148440.03694959,\n",
       "       150267.69486663, 113492.81592974, 151830.26823543,  67001.32482461,\n",
       "       138410.23605282, 104532.15728846, 121975.85380498, 121682.85358825,\n",
       "       160720.5176607 , 151770.26421751, 168499.63874311, 142339.07389565,\n",
       "       140404.17971483, 120931.63875962, 136114.2502637 , 116835.22057271,\n",
       "       177476.74639477,  99795.73308862, 165803.41647348, 101606.86368403,\n",
       "        82420.63755355, 123024.34048565, 195386.84378503, 189042.61655292,\n",
       "       121682.85358825, 185115.35488013, 132179.64239061, 135239.38773939,\n",
       "        61175.33923624, 175973.36234968, 101926.94577159,  98828.98759613,\n",
       "       144331.44138763, 210369.69356433, 167467.60107281,  93381.22794767,\n",
       "       104133.98656616, 193935.31131648, 168499.63874311, 129584.0291559 ,\n",
       "       163647.57566379, 165332.29359805, 188219.3581751 ,  78600.61214454,\n",
       "       113492.81592974,  86263.38636421, 173368.15083281, 189223.95044209,\n",
       "       126084.44936694, 118688.97735541, 118977.54750835, 172789.56819424,\n",
       "       116835.22057271, 171576.19663477, 177005.40001998, 156636.40989904,\n",
       "        73937.59967832, 109824.05480796, 118627.17477074,  92593.6114836 ,\n",
       "       125839.23003234, 135082.2125934 ,  87598.09783359, 112726.62501075,\n",
       "       105556.51970133, 124729.71399471,  81676.89249879, 141270.20917758,\n",
       "       101895.43383698, 136114.2502637 , 137813.75674988, 148621.37083875,\n",
       "       145534.10642343, 145534.10642343, 108352.18269748, 140222.84582566,\n",
       "       113773.71082526,  98121.15531587, 152971.65440886, 156347.83974609,\n",
       "       110432.70704846,  78312.04199159, 118977.54750835, 110494.50963312,\n",
       "       132262.39085409, 110112.6249609 , 179974.72164786, 130973.61703144,\n",
       "       104931.52682009, 117102.01182209,  73937.59967832,  82601.97144272,\n",
       "       137162.73694438, 121975.85380498,  75313.73569497, 107123.10719725,\n",
       "       113148.71794402, 165150.95970888, 122264.42395792, 104931.52682009,\n",
       "        82935.08536737, 140404.17971483, 120401.93731803, 149642.70198539,\n",
       "        82154.79080224, 136402.82041665, 195386.84378503,  98876.79870497,\n",
       "       141453.88522882, 160456.43530806, 161223.69803608, 137633.85981981,\n",
       "       109040.12238205, 135821.25004697, 110446.94200176, 152548.63251155,\n",
       "       105896.79313516, 126265.7832561 , 103743.9099285 , 112184.7461941 ,\n",
       "       126084.44936694, 153751.29754735, 185956.28110164, 107378.26018843,\n",
       "       179974.72164786, 141453.88522882, 119853.85570472, 101606.86368403,\n",
       "       167648.93496197, 122264.42395792,  99099.26647984, 134035.79373955,\n",
       "       137631.86775878, 140222.84582566,  75025.16554202,  65757.36690933,\n",
       "       186244.85125459, 124835.82692973,  78841.8821474 ,  82154.79080224,\n",
       "       140222.84582566, 113015.1951637 , 119386.86779912,  82443.36095519,\n",
       "        90943.23029079, 168680.97263228,  96329.20111784,  95233.15974191,\n",
       "       104776.2251362 ,  55100.36969708, 136114.2502637 , 173368.15083281,\n",
       "       121261.50365598,  87598.09783359, 156981.48246749,  96052.62258159,\n",
       "       121394.2834353 ,  82935.08536737, 117574.25802628, 116033.8302957 ,\n",
       "        83741.07084901, 159538.98010183, 140511.41597861, 183867.08254397,\n",
       "        93381.22794767, 180825.425429  , 125052.41169664, 136402.82041665,\n",
       "       126373.01951989, 104532.15728846, 149671.07635275, 165439.52986183,\n",
       "       140222.84582566, 135821.25004697, 189331.18670587, 148440.03694959,\n",
       "       145378.80473954,  78312.04199159, 128656.97566751, 172789.56819424,\n",
       "       179758.48698201, 140404.17971483, 175684.79219673, 127049.64201879,\n",
       "       118688.97735541, 114518.57920878, 144512.77527679, 144512.77527679,\n",
       "        78735.29672949,  86817.80326846, 172608.23430508, 140222.84582566,\n",
       "        90611.7964722 , 128656.97566751,  87324.92002263, 165150.95970888,\n",
       "       140404.17971483,  91599.45713177, 125999.93650479, 137161.61361561,\n",
       "       189042.61655292, 161938.2525888 , 185115.35488013,  82420.63755355,\n",
       "       136114.2502637 , 136114.2502637 , 144512.77527679, 140404.17971483,\n",
       "        86529.23311552, 177476.74639477,  99160.42141471, 102215.51592453,\n",
       "       110698.55379977, 126084.44936694, 167467.60107281, 157678.55922015,\n",
       "       127496.82265926, 151070.1771799 , 140222.84582566, 101926.94577159,\n",
       "       100956.71068594, 140222.84582566, 172789.56819424, 185222.59114391,\n",
       "       136288.23795257, 112967.38405485, 137342.94750478, 113492.81592974,\n",
       "       110144.13689551, 121975.85380498, 154192.1843403 , 177947.8692702 ,\n",
       "       128656.97566751, 145534.10642343, 171757.53052394, 130193.0449289 ,\n",
       "       153751.29754735,  61175.33923624, 144331.44138763, 120142.42585767,\n",
       "       141453.88522882, 122264.42395792, 186137.6149908 , 117123.79072566,\n",
       "        98928.63947496, 148419.21877512,  98182.95790054, 176898.1637562 ,\n",
       "       144512.77527679, 113492.81592974, 122651.25747056, 181113.99558195,\n",
       "       118832.45089487, 126084.44936694, 124548.38010555, 110205.93948017,\n",
       "       102617.62408125, 137609.70107664, 136402.82041665,  82709.2077065 ,\n",
       "       135239.38773939, 107123.10719725, 140511.41597861,  70519.68242602,\n",
       "       189223.95044209, 164565.03087002, 159250.40994889, 181006.75931816,\n",
       "       165622.08258431, 176898.1637562 , 144620.01154057, 113015.1951637 ,\n",
       "       152102.2148502 , 106359.0020146 , 181113.99558195,  78312.04199159,\n",
       "       120142.42585767, 168680.97263228,  86418.68804809, 116814.56499791,\n",
       "       180825.425429  , 105449.61249468, 122264.42395792, 117123.79072566,\n",
       "       185956.28110164,  90611.7964722 , 135853.22979859, 122157.18769414,\n",
       "       173368.15083281, 172608.23430508,  91124.56417995, 109665.1152633 ,\n",
       "       177005.40001998, 121975.85380498, 126084.44936694, 145562.48079079,\n",
       "       129740.10939881, 140222.84582566, 128945.54582045, 124039.41000456,\n",
       "       165332.29359805,  96559.03401228, 169259.55527084,  85529.52187868,\n",
       "        82420.63755355, 189223.95044209, 112967.38405485, 128944.42249169,\n",
       "       161330.93429987, 125298.14934406,  78312.04199159,  98928.63947496,\n",
       "       128944.42249169, 101895.43383698, 144331.44138763, 115022.61079987,\n",
       "       189042.61655292, 189223.95044209, 118977.54750835, 110205.93948017,\n",
       "       114518.57920878, 109728.31871413, 153751.29754735, 116835.22057271,\n",
       "       123035.07227059, 121550.07380892, 108352.18269748, 171576.19663477,\n",
       "       118977.54750835,  43160.09131854, 141425.51086146, 156347.83974609,\n",
       "       188219.3581751 ,  70117.5742693 , 165332.29359805, 149959.6465057 ,\n",
       "       108533.51658664, 140222.84582566, 115278.27223716, 167648.93496197,\n",
       "       132765.57122947, 181006.75931816,  75313.73569497,  78600.61214454,\n",
       "       105556.51970133, 148997.49628724, 169548.12542379, 133236.6941049 ,\n",
       "       171757.53052394, 144512.77527679, 127230.97590795, 136114.2502637 ,\n",
       "       128838.30955667, 125340.98184958, 128838.30955667, 183639.63973771,\n",
       "       116569.3738214 , 119642.24428965, 121975.85380498, 172789.56819424,\n",
       "       143299.40371732, 167648.93496197, 180825.425429  , 193935.31131648,\n",
       "       169259.55527084, 114807.14936173, 188219.3581751 , 106506.66420898,\n",
       "       165332.29359805, 130952.96145663, 108858.78849289, 140404.17971483,\n",
       "       160827.75392448, 145562.48079079, 110409.98364682, 148440.03694959,\n",
       "       121335.67298546, 130374.37881806, 185115.35488013, 176898.1637562 ,\n",
       "       121975.85380498, 172608.23430508,  94901.72592333,  87309.52768065,\n",
       "        91289.97181175,  82709.2077065 ,  86529.23311552, 121710.00705367,\n",
       "        78312.04199159,  78312.04199159, 117257.31350598, 181006.75931816,\n",
       "       195494.08004881, 130193.0449289 , 161694.82091151, 150034.48992295,\n",
       "       126084.44936694, 177947.8692702 , 133208.31973754, 165150.95970888,\n",
       "       137941.90818075, 133236.6941049 , 108352.18269748, 144331.44138763,\n",
       "       192084.2736679 , 164022.78645226, 195386.84378503, 144620.01154057,\n",
       "       140222.84582566, 140222.84582566, 179793.3877587 , 126084.44936694,\n",
       "       172608.23430508, 164022.78645226, 176716.82986704, 161513.48702235,\n",
       "       188264.24825888,  78600.61214454,  90637.82867748, 128895.16050729,\n",
       "       169548.12542379, 146159.09930467, 124729.71399471, 130973.61703144,\n",
       "       141271.33250634, 157859.89310931, 165439.52986183, 126084.44936694,\n",
       "       148753.53581597, 164022.78645226, 168788.20889606, 161223.69803608,\n",
       "       129584.0291559 ,  82601.97144272, 195386.84378503, 173656.72098575,\n",
       "       132216.00454211, 180825.425429  , 104546.39224176, 185115.35488013,\n",
       "       167648.93496197, 171864.76678772, 151723.03197165, 110205.93948017,\n",
       "       175831.22530921, 120764.1897227 , 122758.49373434, 195205.50989587,\n",
       "       126084.44936694, 117601.4114917 , 121550.07380892,  98928.63947496,\n",
       "        78312.04199159, 180825.425429  , 134590.21064381,  66830.69781973,\n",
       "       165150.95970888, 173839.27370824, 176716.82986704, 149642.70198539,\n",
       "        69829.00411636, 101895.43383698, 139479.37830831, 112460.77825944,\n",
       "       126373.01951989, 171576.19663477,  98640.06932202, 139944.33490721,\n",
       "        78841.8821474 , 125052.41169664, 174836.51977492, 110205.93948017,\n",
       "       172608.23430508, 182056.46483216, 104931.52682009,  78312.04199159,\n",
       "       189223.95044209, 164853.60102296, 160456.43530806, 121975.85380498,\n",
       "       156347.83974609, 105578.42991207, 133450.93670972, 110205.93948017,\n",
       "       113674.14981891, 189223.95044209, 141558.77933052, 175125.08992787,\n",
       "       122264.42395792,  75539.61335584,  96559.03401228, 130193.0449289 ,\n",
       "       129232.99264464, 121975.85380498,  92450.43845032, 148440.03694959,\n",
       "       113781.38608269, 154376.29042859, 136114.2502637 , 108640.75285042,\n",
       "       125340.98184958,  90793.13036137,  85529.52187868,  96559.03401228,\n",
       "       175575.21600914, 140222.84582566, 121365.90906794, 104750.19293093,\n",
       "       163647.57566379, 189042.61655292, 101704.47799672, 157859.89310931,\n",
       "        87598.09783359, 137941.90818075, 167469.65865106, 122735.77033271,\n",
       "       114252.73245747, 159538.98010183, 126844.36589467, 152862.13137793,\n",
       "       141425.51086146, 113781.38608269, 121975.85380498, 110205.93948017,\n",
       "       159250.40994889, 113492.81592974, 119853.85570472, 120859.30327253,\n",
       "       130374.37881806,  66830.69781973, 105845.08985428, 156838.56196268,\n",
       "        95233.15974191, 121550.07380892, 160720.5176607 , 164565.03087002,\n",
       "       176898.1637562 , 121975.85380498, 118977.54750835,  86529.23311552,\n",
       "       107519.62440639, 164565.03087002, 128071.04682864, 128944.42249169,\n",
       "        82709.2077065 , 104535.66045682, 121975.85380498, 163647.57566379,\n",
       "       113674.14981891, 180825.425429  , 164022.78645226, 152548.63251155,\n",
       "       144512.77527679, 114518.57920878, 139479.37830831, 137055.5006806 ,\n",
       "        80395.97622858, 116569.3738214 ,  86418.68804809, 119386.86779912,\n",
       "       164022.78645226, 140404.17971483, 161330.93429987,  74118.93356748,\n",
       "       172789.56819424, 189223.95044209, 121975.85380498, 144331.44138763,\n",
       "        78312.04199159, 121975.85380498, 127049.64201879, 139190.80815536,\n",
       "       106324.11148649, 160456.43530806,  82154.79080224, 141425.51086146,\n",
       "       176898.1637562 , 113492.81592974, 145534.10642343, 115278.27223716,\n",
       "       172608.23430508, 113148.71794402, 138410.23605282, 136114.2502637 ,\n",
       "       106035.54133355,  78312.04199159, 111713.62331867, 168680.97263228,\n",
       "       156838.56196268, 106035.54133355,  90943.23029079, 115278.27223716,\n",
       "       150267.69486663, 165150.95970888, 114807.14936173, 148440.03694959,\n",
       "       167713.33872023, 117601.4114917 , 128071.04682864, 120035.18959388,\n",
       "       137316.9152995 , 144331.44138763, 140511.41597861, 189223.95044209,\n",
       "       112993.41626013, 106359.0020146 , 144331.44138763, 104777.34846497,\n",
       "       101963.90412652, 106805.41967595, 142700.16550395, 137161.61361561,\n",
       "        73937.59967832, 181113.99558195,  61914.61809868, 123421.13581296,\n",
       "       117257.31350598, 189042.61655292, 136402.82041665, 152102.2148502 ,\n",
       "       167467.60107281, 103207.8620418 , 176716.82986704,  90793.13036137,\n",
       "       109728.31871413, 141425.51086146, 132468.21254355, 113741.69452966,\n",
       "        94901.72592333, 113674.14981891, 126084.44936694, 135532.67989402,\n",
       "       122264.42395792, 140404.17971483, 144512.77527679,  69829.00411636,\n",
       "        91418.12324261, 135082.2125934 , 113666.80361861,  65757.36690933,\n",
       "       144512.77527679, 151070.1771799 ,  98326.43143999, 104957.55902537,\n",
       "       141164.09624256, 184048.41643314, 115444.70373314, 172789.56819424,\n",
       "       140404.17971483, 118649.89817238,  97232.42137076, 165150.95970888,\n",
       "       130973.61703144, 152102.2148502 , 128944.42249169, 113492.81592974,\n",
       "       140222.84582566, 113492.81592974, 143299.40371732, 164022.78645226,\n",
       "       126373.01951989, 136114.2502637 , 163540.33940001, 172789.56819424,\n",
       "       122264.42395792, 117016.55446188, 136402.82041665,  87598.09783359,\n",
       "        82310.09248613, 184934.02099096, 172789.56819424, 124251.02141963,\n",
       "       156302.43677871, 107227.51260921, 149642.70198539, 143264.50294064,\n",
       "       189042.61655292,  79115.05995836,  89605.51346977, 125340.98184958,\n",
       "       126265.7832561 , 153113.74317594, 182345.03498511, 175684.79219673,\n",
       "       182345.03498511, 112907.95889991, 168680.97263228,  78046.19524028,\n",
       "       110205.93948017, 156483.77066788, 101895.43383698, 167110.05086758,\n",
       "       123206.89320814, 128944.42249169, 118977.54750835, 180825.425429  ,\n",
       "       126084.44936694, 168788.20889606, 119508.59336118, 104957.55902537,\n",
       "       172789.56819424, 126265.7832561 , 143299.40371732,  74226.16983127,\n",
       "       156945.79822646, 168499.63874311, 163133.62028284, 102215.51592453,\n",
       "       128656.97566751, 173368.15083281, 134301.64049086, 140222.84582566,\n",
       "       146961.58161794, 169259.55527084, 126265.7832561 , 132765.57122947,\n",
       "       108884.82069817, 110494.50963312, 168680.97263228, 128945.54582045,\n",
       "       149959.6465057 , 165150.95970888,  93420.54996907, 168680.97263228,\n",
       "       172608.23430508, 133416.03593304, 114723.8553329 , 164853.60102296,\n",
       "       122264.42395792, 173656.72098575, 121682.85358825, 189223.95044209,\n",
       "       168499.63874311, 168499.63874311, 165439.52986183, 149642.70198539,\n",
       "       153751.29754735, 114723.8553329 ,  82420.63755355, 163133.62028284,\n",
       "       129583.10019186, 150215.82381212, 151723.03197165,  92739.00860326,\n",
       "       148728.60710253, 135082.2125934 , 131262.18718438, 127618.54822133,\n",
       "       128359.61698159, 152729.96640071, 110409.98364682,  84737.47328221,\n",
       "       167648.93496197, 172789.56819424, 120677.96938336, 177947.8692702 ,\n",
       "       150215.82381212, 136402.82041665, 107852.50549046, 129951.35692076,\n",
       "       126265.7832561 , 116033.8302957 , 119716.82637079, 169440.88916001,\n",
       "       104777.34846497, 126844.36589467,  66542.12766679, 180081.95791164,\n",
       "       133236.6941049 , 189223.95044209, 184934.02099096, 126084.44936694,\n",
       "       140222.84582566, 121975.85380498, 182056.46483216, 108352.18269748,\n",
       "        96063.35436653,  99143.58995435,  86817.80326846, 114518.57920878,\n",
       "       113148.71794402, 151663.02795372, 113148.71794402,  82420.63755355,\n",
       "        92450.43845032, 126127.80018529, 123206.89320814, 124039.41000456,\n",
       "       122264.42395792, 128656.97566751, 148440.03694959, 136402.82041665,\n",
       "       192903.27364618, 136295.58415287,  87332.25108228, 140404.17971483,\n",
       "       121975.85380498, 152837.2026645 , 188507.92832805, 156347.83974609,\n",
       "       167467.60107281,  66542.12766679, 112726.62501075, 175684.79219673,\n",
       "        83116.41925654, 136295.58415287, 112726.62501075, 183639.63973771,\n",
       "        70117.5742693 , 135082.2125934 ,  99010.32148529, 157222.3387379 ,\n",
       "       100956.71068594, 110698.55379977, 135942.97560903,  75539.61335584,\n",
       "       169730.67814627, 101245.28083889, 122264.42395792,  73937.59967832,\n",
       "       141425.51086146, 126084.44936694, 136295.58415287,  82420.63755355,\n",
       "       120764.1897227 , 140511.41597861,  74226.16983127, 118977.54750835,\n",
       "       120035.18959388, 122941.04645683, 172789.56819424, 131262.18718438,\n",
       "       172608.23430508, 146559.72685747, 132946.90511863,  78312.04199159,\n",
       "       130193.0449289 , 167469.65865106, 119853.85570472,  74118.93356748,\n",
       "       131241.53160958, 118688.97735541, 130193.0449289 ,  84022.65123108,\n",
       "       185115.35488013, 127049.64201879, 183639.63973771, 183928.20989066,\n",
       "       130193.0449289 , 195386.84378503, 164022.78645226, 167467.60107281,\n",
       "       130193.0449289 , 140404.17971483, 144331.44138763, 135239.38773939,\n",
       "       109040.12238205,  82601.97144272, 136295.58415287, 140404.17971483,\n",
       "       157115.10247412,  75025.16554202, 159250.40994889, 164022.78645226,\n",
       "       157115.10247412,  90819.16256664, 161330.93429987, 169767.11396099,\n",
       "       121975.85380498, 121975.85380498,  96100.96018322, 136114.2502637 ,\n",
       "       169548.12542379, 104546.39224176, 132827.37381413, 164022.78645226,\n",
       "       106004.02939894, 160947.15752464, 113781.38608269, 186137.6149908 ,\n",
       "       116569.3738214 , 150267.69486663, 144331.44138763,  98928.63947496,\n",
       "       124251.02141963, 144331.44138763, 177765.31654771, 168499.63874311,\n",
       "       132765.57122947, 110698.55379977, 106035.54133355, 185956.28110164,\n",
       "       160456.43530806,  90527.28361006, 121975.85380498,  66830.69781973,\n",
       "       123866.71517285, 108858.78849289, 139372.14204452, 163647.57566379,\n",
       "       176716.82986704, 149642.70198539, 100667.62957424,  90793.13036137,\n",
       "       177765.31654771, 140222.84582566, 176898.1637562 , 101606.86368403,\n",
       "       109846.77820959, 131134.29534579, 195494.08004881,  86529.23311552,\n",
       "       144331.44138763, 148440.03694959, 137161.61361561, 129951.35692076,\n",
       "       122157.18769414, 195205.50989587, 110205.93948017, 107411.6773502 ,\n",
       "       100667.62957424, 168499.63874311,  73937.59967832, 104535.66045682,\n",
       "       104931.52682009,  84216.00163759, 176898.1637562 ,  75313.73569497,\n",
       "       137633.85981981, 110615.25977094, 178236.43942315, 182056.46483216,\n",
       "       172789.56819424,  99795.73308862, 143722.42561463, 183928.20989066,\n",
       "        84311.22138402, 114518.57920878, 103985.59793664, 110698.55379977,\n",
       "       140404.17971483,  78600.61214454, 185956.28110164,  86529.23311552,\n",
       "       126265.7832561 , 169548.12542379, 153751.29754735, 113015.1951637 ,\n",
       "       133054.14138242,  90819.16256664,  82420.63755355, 168680.97263228,\n",
       "       136402.82041665, 113015.1951637 , 126265.7832561 ,  99099.26647984,\n",
       "        75828.18350879, 122264.42395792,  86529.23311552,  78312.04199159,\n",
       "       165332.29359805,  73937.59967832, 172896.80445802, 169548.12542379,\n",
       "       120718.43090666, 164565.03087002, 172608.23430508, 140404.17971483])"
      ]
     },
     "execution_count": 196,
     "metadata": {},
     "output_type": "execute_result"
    }
   ],
   "source": [
    "Men_predictions = Men_model.predict(Men_X_test)"
   ]
  },
  {
   "cell_type": "code",
   "execution_count": 197,
   "metadata": {},
   "outputs": [
    {
     "data": {
      "text/plain": [
       "<AxesSubplot:xlabel='Salary'>"
      ]
     },
     "execution_count": 197,
     "metadata": {},
     "output_type": "execute_result"
    },
    {
     "data": {
      "image/png": "[encoded data removed]",
      "text/plain": [
       "<Figure size 432x288 with 1 Axes>"
      ]
     },
     "metadata": {
      "needs_background": "light"
     },
     "output_type": "display_data"
    }
   ],
   "source": [
    "sns.regplot(Women_y_test,Women_predictions)"
   ]
  },
  {
   "cell_type": "code",
   "execution_count": 198,
   "metadata": {},
   "outputs": [
    {
     "data": {
      "text/plain": [
       "<AxesSubplot:xlabel='Salary'>"
      ]
     },
     "execution_count": 198,
     "metadata": {},
     "output_type": "execute_result"
    },
    {
     "data": {
      "image/png": "[encoded data removed]",
      "text/plain": [
       "<Figure size 432x288 with 1 Axes>"
      ]
     },
     "metadata": {
      "needs_background": "light"
     },
     "output_type": "display_data"
    }
   ],
   "source": [
    "sns.regplot(Men_y_test,Men_predictions)"
   ]
  },
  {
   "cell_type": "code",
   "execution_count": 199,
   "metadata": {},
   "outputs": [
    {
     "name": "stdout",
     "output_type": "stream",
     "text": [
      "                            OLS Regression Results                            \n",
      "==============================================================================\n",
      "Dep. Variable:                 Salary   R-squared:                       0.300\n",
      "Model:                            OLS   Adj. R-squared:                  0.278\n",
      "Method:                 Least Squares   F-statistic:                     13.31\n",
      "Date:                Wed, 14 Jul 2021   Prob (F-statistic):           5.30e-28\n",
      "Time:                        14:15:35   Log-Likelihood:                -5884.1\n",
      "No. Observations:                 481   AIC:                         1.180e+04\n",
      "Df Residuals:                     465   BIC:                         1.187e+04\n",
      "Df Model:                          15                                         \n",
      "Covariance Type:            nonrobust                                         \n",
      "======================================================================================================================================================\n",
      "                                                                                         coef    std err          t      P>|t|      [0.025      0.975]\n",
      "------------------------------------------------------------------------------------------------------------------------------------------------------\n",
      "const                                                                               9.373e+04   1.72e+04      5.458      0.000       6e+04    1.27e+05\n",
      "Age                                                                                  -98.4375    291.613     -0.338      0.736    -671.479     474.604\n",
      "Years_Coding                                                                        3644.8410    403.371      9.036      0.000    2852.186    4437.496\n",
      "Formal_Education_Doctoral degree                                                    1554.5422   8179.198      0.190      0.849   -1.45e+04    1.76e+04\n",
      "Formal_Education_Master’s degree                                                    5106.5993   6455.942      0.791      0.429   -7579.835    1.78e+04\n",
      "Formal_Education_Professional degree                                                5.884e+04   3.03e+04      1.940      0.053    -771.743    1.18e+05\n",
      "Formal_Education_Some college/university study without earning a bachelor’s degree -3.574e+04   1.61e+04     -2.219      0.027   -6.74e+04   -4092.464\n",
      "Position_DBA/Database Engineer                                                     -2.768e+04   2.81e+04     -0.985      0.325   -8.29e+04    2.76e+04\n",
      "Position_Data Analyst                                                              -3.341e+04   1.37e+04     -2.444      0.015   -6.03e+04   -6549.850\n",
      "Position_Data Engineer                                                             -2.552e+04   1.82e+04     -1.399      0.162   -6.14e+04    1.03e+04\n",
      "Position_Data Scientist                                                            -2802.4890   1.32e+04     -0.212      0.832   -2.88e+04    2.32e+04\n",
      "Position_Other                                                                     -2.289e+04   1.39e+04     -1.648      0.100   -5.02e+04    4401.856\n",
      "Position_Product/Project Manager                                                   -1.844e+04   1.55e+04     -1.191      0.234   -4.89e+04     1.2e+04\n",
      "Position_Research Scientist                                                        -2.672e+04    1.5e+04     -1.779      0.076   -5.62e+04    2790.436\n",
      "Position_Software Engineer                                                          -3.88e+04   1.49e+04     -2.596      0.010   -6.82e+04   -9427.921\n",
      "Position_Statistician                                                               1.673e+04    2.1e+04      0.797      0.426   -2.45e+04     5.8e+04\n",
      "==============================================================================\n",
      "Omnibus:                      224.870   Durbin-Watson:                   1.977\n",
      "Prob(Omnibus):                  0.000   Jarque-Bera (JB):             1795.597\n",
      "Skew:                           1.852   Prob(JB):                         0.00\n",
      "Kurtosis:                      11.711   Cond. No.                         686.\n",
      "==============================================================================\n",
      "\n",
      "Notes:\n",
      "[1] Standard Errors assume that the covariance matrix of the errors is correctly specified.\n"
     ]
    }
   ],
   "source": [
    "import statsmodels.api as sm\n",
    "Woemn_X_train_Sm= sm.add_constant(Women_X_train)\n",
    "Women_X_train_Sm= sm.add_constant(Women_X_train)\n",
    "ls=sm.OLS(Women_y_train,Women_X_train_Sm).fit()\n",
    "print(ls.summary())"
   ]
  },
  {
   "cell_type": "code",
   "execution_count": 200,
   "metadata": {},
   "outputs": [
    {
     "name": "stdout",
     "output_type": "stream",
     "text": [
      "                            OLS Regression Results                            \n",
      "==============================================================================\n",
      "Dep. Variable:                 Salary   R-squared:                       0.197\n",
      "Model:                            OLS   Adj. R-squared:                  0.193\n",
      "Method:                 Least Squares   F-statistic:                     39.75\n",
      "Date:                Wed, 14 Jul 2021   Prob (F-statistic):          1.47e-124\n",
      "Time:                        14:15:35   Log-Likelihood:                -36561.\n",
      "No. Observations:                2927   AIC:                         7.316e+04\n",
      "Df Residuals:                    2908   BIC:                         7.327e+04\n",
      "Df Model:                          18                                         \n",
      "Covariance Type:            nonrobust                                         \n",
      "======================================================================================================================================================\n",
      "                                                                                         coef    std err          t      P>|t|      [0.025      0.975]\n",
      "------------------------------------------------------------------------------------------------------------------------------------------------------\n",
      "const                                                                               5.127e+04   7363.115      6.964      0.000    3.68e+04    6.57e+04\n",
      "Age                                                                                  821.7191    120.842      6.800      0.000     584.775    1058.663\n",
      "Years_Coding                                                                        2827.6793    195.014     14.500      0.000    2445.300    3210.059\n",
      "Formal_Education_Doctoral degree                                                    -107.2363   4082.967     -0.026      0.979   -8113.037    7898.565\n",
      "Formal_Education_I prefer not to answer                                            -1.219e+04    2.3e+04     -0.530      0.596   -5.73e+04    3.29e+04\n",
      "Formal_Education_Master’s degree                                                    -288.5702   3071.542     -0.094      0.925   -6311.188    5734.048\n",
      "Formal_Education_No formal education past high school                              -1.583e+04   2.06e+04     -0.767      0.443   -5.63e+04    2.46e+04\n",
      "Formal_Education_Professional degree                                                2.515e+04   9270.809      2.713      0.007    6969.085    4.33e+04\n",
      "Formal_Education_Some college/university study without earning a bachelor’s degree -2.079e+04   6724.439     -3.092      0.002    -3.4e+04   -7609.444\n",
      "Position_DBA/Database Engineer                                                     -4236.7470   1.33e+04     -0.320      0.749   -3.02e+04    2.17e+04\n",
      "Position_Data Analyst                                                              -8997.4857   6942.492     -1.296      0.195   -2.26e+04    4615.214\n",
      "Position_Data Engineer                                                               1.43e+04   8032.677      1.780      0.075   -1452.977       3e+04\n",
      "Position_Data Scientist                                                             3.467e+04   6394.011      5.422      0.000    2.21e+04    4.72e+04\n",
      "Position_Machine Learning Engineer                                                  4.182e+04   1.07e+04      3.914      0.000    2.09e+04    6.28e+04\n",
      "Position_Other                                                                      2.542e+04   6791.625      3.742      0.000    1.21e+04    3.87e+04\n",
      "Position_Product/Project Manager                                                    2.768e+04   7891.966      3.507      0.000    1.22e+04    4.32e+04\n",
      "Position_Research Scientist                                                         3302.2688   7438.349      0.444      0.657   -1.13e+04    1.79e+04\n",
      "Position_Software Engineer                                                           2.31e+04   6808.437      3.393      0.001    9750.608    3.65e+04\n",
      "Position_Statistician                                                               -1.05e+04   1.12e+04     -0.935      0.350   -3.25e+04    1.15e+04\n",
      "==============================================================================\n",
      "Omnibus:                      839.995   Durbin-Watson:                   2.004\n",
      "Prob(Omnibus):                  0.000   Jarque-Bera (JB):             2881.525\n",
      "Skew:                           1.415   Prob(JB):                         0.00\n",
      "Kurtosis:                       6.952   Cond. No.                         803.\n",
      "==============================================================================\n",
      "\n",
      "Notes:\n",
      "[1] Standard Errors assume that the covariance matrix of the errors is correctly specified.\n"
     ]
    }
   ],
   "source": [
    "import statsmodels.api as sm\n",
    "Men_X_train_Sm= sm.add_constant(Men_X_train)\n",
    "Men_X_train_Sm= sm.add_constant(Men_X_train)\n",
    "ls=sm.OLS(Men_y_train,Men_X_train_Sm).fit()\n",
    "print(ls.summary())"
   ]
  },
  {
   "cell_type": "markdown",
   "metadata": {},
   "source": [
    "# Linear Regression using single variables one at a time"
   ]
  },
  {
   "cell_type": "markdown",
   "metadata": {},
   "source": [
    "## Salary vs Age"
   ]
  },
  {
   "cell_type": "code",
   "execution_count": 201,
   "metadata": {},
   "outputs": [
    {
     "data": {
      "image/png": "[encoded data removed]",
      "text/plain": [
       "<Figure size 432x288 with 1 Axes>"
      ]
     },
     "metadata": {
      "needs_background": "light"
     },
     "output_type": "display_data"
    }
   ],
   "source": [
    "plt.scatter(Women_df.Age, Women_df.Salary)\n",
    "plt.xlabel('Age in Years')\n",
    "plt.ylabel('Salary in USD')\n",
    "plt.title('Women Age vs Salary')\n",
    "plt.show()"
   ]
  },
  {
   "cell_type": "code",
   "execution_count": 202,
   "metadata": {},
   "outputs": [
    {
     "data": {
      "image/png": "[encoded data removed]",
      "text/plain": [
       "<Figure size 432x288 with 1 Axes>"
      ]
     },
     "metadata": {
      "needs_background": "light"
     },
     "output_type": "display_data"
    }
   ],
   "source": [
    "plt.scatter(Men_df.Age, Men_df.Salary)\n",
    "plt.xlabel('Age in Years')\n",
    "plt.ylabel('Salary in USD')\n",
    "plt.title('Men Age vs Salary')\n",
    "plt.show()"
   ]
  },
  {
   "cell_type": "code",
   "execution_count": null,
   "metadata": {},
   "outputs": [],
   "source": []
  },
  {
   "cell_type": "code",
   "execution_count": 203,
   "metadata": {},
   "outputs": [],
   "source": [
    "Women_X = Women_df['Age']\n",
    "Men_X = Men_df['Age']"
   ]
  },
  {
   "cell_type": "code",
   "execution_count": 204,
   "metadata": {},
   "outputs": [],
   "source": [
    "Women_X = Women_df.Age.values.reshape(-1, 1)\n",
    "Men_X = Men_df.Age.values.reshape(-1, 1)"
   ]
  },
  {
   "cell_type": "code",
   "execution_count": 205,
   "metadata": {},
   "outputs": [],
   "source": [
    "Women_y = Women_df.Salary\n",
    "Men_y = Men_df.Salary"
   ]
  },
  {
   "cell_type": "code",
   "execution_count": 206,
   "metadata": {},
   "outputs": [],
   "source": [
    "Women_model = LinearRegression()\n",
    "Men_model = LinearRegression()"
   ]
  },
  {
   "cell_type": "code",
   "execution_count": 207,
   "metadata": {},
   "outputs": [
    {
     "data": {
      "text/plain": [
       "LinearRegression()"
      ]
     },
     "execution_count": 207,
     "metadata": {},
     "output_type": "execute_result"
    }
   ],
   "source": [
    "Women_model.fit(Women_X, Women_y)"
   ]
  },
  {
   "cell_type": "code",
   "execution_count": 208,
   "metadata": {},
   "outputs": [
    {
     "data": {
      "text/plain": [
       "LinearRegression()"
      ]
     },
     "execution_count": 208,
     "metadata": {},
     "output_type": "execute_result"
    }
   ],
   "source": [
    "Men_model.fit(Men_X, Men_y)"
   ]
  },
  {
   "cell_type": "code",
   "execution_count": 209,
   "metadata": {},
   "outputs": [
    {
     "name": "stdout",
     "output_type": "stream",
     "text": [
      "(642,)\n"
     ]
    }
   ],
   "source": [
    "Women_y_pred = Women_model.predict(Women_X)\n",
    "print(Women_y_pred.shape)"
   ]
  },
  {
   "cell_type": "code",
   "execution_count": 210,
   "metadata": {},
   "outputs": [
    {
     "name": "stdout",
     "output_type": "stream",
     "text": [
      "(3903,)\n"
     ]
    }
   ],
   "source": [
    "Men_y_pred = Men_model.predict(Men_X)\n",
    "print(Men_y_pred.shape)"
   ]
  },
  {
   "cell_type": "code",
   "execution_count": 211,
   "metadata": {},
   "outputs": [
    {
     "data": {
      "image/png": "[encoded data removed]",
      "text/plain": [
       "<Figure size 432x288 with 1 Axes>"
      ]
     },
     "metadata": {
      "needs_background": "light"
     },
     "output_type": "display_data"
    }
   ],
   "source": [
    "plt.scatter(Women_X, Women_y)\n",
    "plt.plot(Women_X, Women_y_pred, color='red')\n",
    "plt.xlabel('Age in Years')\n",
    "plt.ylabel('Salary in USD')\n",
    "plt.title('Women: Salary vs Age')\n",
    "plt.show()"
   ]
  },
  {
   "cell_type": "code",
   "execution_count": 212,
   "metadata": {},
   "outputs": [
    {
     "data": {
      "image/png": "[encoded data removed]",
      "text/plain": [
       "<Figure size 432x288 with 1 Axes>"
      ]
     },
     "metadata": {
      "needs_background": "light"
     },
     "output_type": "display_data"
    }
   ],
   "source": [
    "plt.scatter(Men_X, Men_y)\n",
    "plt.plot(Men_X, Men_y_pred, color='red')\n",
    "plt.xlabel('Age in Years')\n",
    "plt.ylabel('Salary in USD')\n",
    "plt.title('Women: Salary vs Age')\n",
    "plt.show()"
   ]
  },
  {
   "cell_type": "code",
   "execution_count": 213,
   "metadata": {},
   "outputs": [
    {
     "name": "stdout",
     "output_type": "stream",
     "text": [
      "[1407.96884249]\n",
      "59725.86562918209\n"
     ]
    }
   ],
   "source": [
    "print(Women_model.coef_)\n",
    "print(Women_model.intercept_)"
   ]
  },
  {
   "cell_type": "code",
   "execution_count": 214,
   "metadata": {},
   "outputs": [
    {
     "name": "stdout",
     "output_type": "stream",
     "text": [
      "[1639.68849527]\n",
      "68944.7988896175\n"
     ]
    }
   ],
   "source": [
    "print(Men_model.coef_)\n",
    "print(Men_model.intercept_)"
   ]
  },
  {
   "cell_type": "code",
   "execution_count": 215,
   "metadata": {},
   "outputs": [
    {
     "name": "stdout",
     "output_type": "stream",
     "text": [
      "0.051671548594348415 0.050189785389027186\n"
     ]
    }
   ],
   "source": [
    "# compute with statsmodels, by adding intercept manually\n",
    "import statsmodels.api as sm\n",
    "Women_X1 = sm.add_constant(Women_X)\n",
    "result = sm.OLS(Women_y, Women_X1).fit()\n",
    "#print dir(result)\n",
    "print(result.rsquared, result.rsquared_adj)"
   ]
  },
  {
   "cell_type": "code",
   "execution_count": 216,
   "metadata": {},
   "outputs": [
    {
     "name": "stdout",
     "output_type": "stream",
     "text": [
      "0.06905352422189848 0.06881488118786161\n"
     ]
    }
   ],
   "source": [
    "# compute with statsmodels, by adding intercept manually\n",
    "import statsmodels.api as sm\n",
    "Men_X1 = sm.add_constant(Men_X)\n",
    "result = sm.OLS(Men_y, Men_X1).fit()\n",
    "#print dir(result)\n",
    "print(result.rsquared, result.rsquared_adj)"
   ]
  },
  {
   "cell_type": "markdown",
   "metadata": {},
   "source": [
    "# Salary Vs Formal Education"
   ]
  },
  {
   "cell_type": "code",
   "execution_count": 320,
   "metadata": {},
   "outputs": [
    {
     "data": {
      "image/png": "[encoded data removed]",
      "text/plain": [
       "<Figure size 432x288 with 1 Axes>"
      ]
     },
     "metadata": {
      "needs_background": "light"
     },
     "output_type": "display_data"
    }
   ],
   "source": [
    "plt.scatter(Women_df.Formal_Education, Women_df.Salary)\n",
    "plt.xlabel('Education Level')\n",
    "plt.xticks(rotation=45)\n",
    "plt.ylabel('Salary in USD')\n",
    "plt.title('Women: Education vs Salary')\n",
    "plt.show()"
   ]
  },
  {
   "cell_type": "code",
   "execution_count": 321,
   "metadata": {},
   "outputs": [
    {
     "data": {
      "image/png": "[encoded data removed]",
      "text/plain": [
       "<Figure size 432x288 with 1 Axes>"
      ]
     },
     "metadata": {
      "needs_background": "light"
     },
     "output_type": "display_data"
    }
   ],
   "source": [
    "plt.scatter(Men_df.Formal_Education, Men_df.Salary)\n",
    "plt.xlabel('Education Level')\n",
    "plt.xticks(rotation=45)\n",
    "plt.ylabel('Salary in USD')\n",
    "plt.title('Men: Education vs Salary')\n",
    "plt.show()"
   ]
  },
  {
   "cell_type": "code",
   "execution_count": 322,
   "metadata": {},
   "outputs": [],
   "source": [
    "Women_X = Women_df['Formal_Education']\n",
    "Men_X = Men_df['Formal_Education']"
   ]
  },
  {
   "cell_type": "code",
   "execution_count": 323,
   "metadata": {},
   "outputs": [],
   "source": [
    "# no_education = []\n",
    "# for x in US_df['Formal_Education']:\n",
    "#     no_education.append(x.replace('No formal education past high school','0'))\n",
    "# US_df['Formal_Education'] = no_education\n",
    "\n",
    "# some = []\n",
    "# for x in US_df['Formal_Education']:\n",
    "#     some.append(x.replace('Some college/university study without earning a bachelor degree','1'))\n",
    "# US_df['Formal_Education'] = some\n",
    "\n",
    "# PD = []\n",
    "# for x in US_df['Formal_Education']:\n",
    "#     PD.append(x.replace('Professional degree','2'))\n",
    "# US_df['Formal_Education'] = PD\n",
    "\n",
    "# BD = []\n",
    "# for x in US_df['Formal_Education']:\n",
    "#     BD.append(x.replace('Bachelor degree','3'))\n",
    "# US_df['Formal_Education'] = BD\n",
    "\n",
    "# MD = []\n",
    "# for x in US_df['Formal_Education']:\n",
    "#     MD.append(x.replace('Master degree','4'))\n",
    "# US_df['Formal_Education'] = MD\n",
    "\n",
    "# DD = []\n",
    "# for x in US_df['Formal_Education']:\n",
    "#     DD.append(x.replace('Doctoral degree','4'))\n",
    "# US_df['Formal_Education'] = DD\n",
    "\n"
   ]
  },
  {
   "cell_type": "code",
   "execution_count": 337,
   "metadata": {},
   "outputs": [
    {
     "data": {
      "text/html": [
       "<div>\n",
       "<style scoped>\n",
       "    .dataframe tbody tr th:only-of-type {\n",
       "        vertical-align: middle;\n",
       "    }\n",
       "\n",
       "    .dataframe tbody tr th {\n",
       "        vertical-align: top;\n",
       "    }\n",
       "\n",
       "    .dataframe thead th {\n",
       "        text-align: right;\n",
       "    }\n",
       "</style>\n",
       "<table border=\"1\" class=\"dataframe\">\n",
       "  <thead>\n",
       "    <tr style=\"text-align: right;\">\n",
       "      <th></th>\n",
       "      <th>Age</th>\n",
       "      <th>Gender</th>\n",
       "      <th>Country</th>\n",
       "      <th>Formal_Education</th>\n",
       "      <th>Position</th>\n",
       "      <th>Years_Coding</th>\n",
       "      <th>Salary</th>\n",
       "    </tr>\n",
       "  </thead>\n",
       "  <tbody>\n",
       "    <tr>\n",
       "      <th>5</th>\n",
       "      <td>23.0</td>\n",
       "      <td>Female</td>\n",
       "      <td>United States of America</td>\n",
       "      <td>3</td>\n",
       "      <td>Data Scientist</td>\n",
       "      <td>5.0</td>\n",
       "      <td>84999.5</td>\n",
       "    </tr>\n",
       "    <tr>\n",
       "      <th>8</th>\n",
       "      <td>32.0</td>\n",
       "      <td>Male</td>\n",
       "      <td>United States of America</td>\n",
       "      <td>4</td>\n",
       "      <td>Product/Project Manager</td>\n",
       "      <td>5.0</td>\n",
       "      <td>94999.5</td>\n",
       "    </tr>\n",
       "    <tr>\n",
       "      <th>9</th>\n",
       "      <td>52.0</td>\n",
       "      <td>Female</td>\n",
       "      <td>United States of America</td>\n",
       "      <td>4</td>\n",
       "      <td>Data Analyst</td>\n",
       "      <td>20.0</td>\n",
       "      <td>137499.5</td>\n",
       "    </tr>\n",
       "    <tr>\n",
       "      <th>12</th>\n",
       "      <td>37.0</td>\n",
       "      <td>Male</td>\n",
       "      <td>United States of America</td>\n",
       "      <td>3</td>\n",
       "      <td>Other</td>\n",
       "      <td>10.0</td>\n",
       "      <td>137499.5</td>\n",
       "    </tr>\n",
       "    <tr>\n",
       "      <th>19</th>\n",
       "      <td>32.0</td>\n",
       "      <td>Female</td>\n",
       "      <td>United States of America</td>\n",
       "      <td>4</td>\n",
       "      <td>Research Scientist</td>\n",
       "      <td>10.0</td>\n",
       "      <td>174999.5</td>\n",
       "    </tr>\n",
       "  </tbody>\n",
       "</table>\n",
       "</div>"
      ],
      "text/plain": [
       "     Age  Gender                   Country Formal_Education  \\\n",
       "5   23.0  Female  United States of America                3   \n",
       "8   32.0    Male  United States of America                4   \n",
       "9   52.0  Female  United States of America                4   \n",
       "12  37.0    Male  United States of America                3   \n",
       "19  32.0  Female  United States of America                4   \n",
       "\n",
       "                   Position  Years_Coding    Salary  \n",
       "5            Data Scientist           5.0   84999.5  \n",
       "8   Product/Project Manager           5.0   94999.5  \n",
       "9              Data Analyst          20.0  137499.5  \n",
       "12                    Other          10.0  137499.5  \n",
       "19       Research Scientist          10.0  174999.5  "
      ]
     },
     "execution_count": 337,
     "metadata": {},
     "output_type": "execute_result"
    }
   ],
   "source": [
    "# US_df['Formal_Education'] = pd.to_numeric(US_df['Formal_Education'], errors = 'coerce')\n",
    "US_df.head()"
   ]
  },
  {
   "cell_type": "code",
   "execution_count": 339,
   "metadata": {},
   "outputs": [
    {
     "data": {
      "text/plain": [
       "5        Bachelor’s degree\n",
       "9          Master’s degree\n",
       "19         Master’s degree\n",
       "24         Doctoral degree\n",
       "54         Master’s degree\n",
       "               ...        \n",
       "18143      Master’s degree\n",
       "18157      Master’s degree\n",
       "18167      Doctoral degree\n",
       "18302      Doctoral degree\n",
       "18319      Master’s degree\n",
       "Name: Formal_Education, Length: 642, dtype: object"
      ]
     },
     "execution_count": 339,
     "metadata": {},
     "output_type": "execute_result"
    }
   ],
   "source": [
    "Women_X"
   ]
  },
  {
   "cell_type": "code",
   "execution_count": 326,
   "metadata": {},
   "outputs": [],
   "source": [
    "# Men_X = pd.get_dummies(data=Men_X, drop_first=True)\n",
    "# Men_X.head()"
   ]
  },
  {
   "cell_type": "code",
   "execution_count": 327,
   "metadata": {},
   "outputs": [],
   "source": [
    "Women_y = Women_df.Salary\n",
    "Men_y = Men_df.Salary"
   ]
  },
  {
   "cell_type": "code",
   "execution_count": 328,
   "metadata": {},
   "outputs": [],
   "source": [
    "Women_model = LinearRegression()\n",
    "Men_model = LinearRegression()"
   ]
  },
  {
   "cell_type": "code",
   "execution_count": 329,
   "metadata": {},
   "outputs": [
    {
     "ename": "ValueError",
     "evalue": "could not convert string to float: 'Bachelor’s degree'",
     "output_type": "error",
     "traceback": [
      "\u001b[1;31m---------------------------------------------------------------------------\u001b[0m",
      "\u001b[1;31mValueError\u001b[0m                                Traceback (most recent call last)",
      "\u001b[1;32m<ipython-input-329-e05b92a9a666>\u001b[0m in \u001b[0;36m<module>\u001b[1;34m\u001b[0m\n\u001b[1;32m----> 1\u001b[1;33m \u001b[0mWomen_model\u001b[0m\u001b[1;33m.\u001b[0m\u001b[0mfit\u001b[0m\u001b[1;33m(\u001b[0m\u001b[0mWomen_X\u001b[0m\u001b[1;33m,\u001b[0m \u001b[0mWomen_y\u001b[0m\u001b[1;33m)\u001b[0m\u001b[1;33m\u001b[0m\u001b[1;33m\u001b[0m\u001b[0m\n\u001b[0m",
      "\u001b[1;32m~\\anaconda3\\envs\\PythonData\\lib\\site-packages\\sklearn\\linear_model\\_base.py\u001b[0m in \u001b[0;36mfit\u001b[1;34m(self, X, y, sample_weight)\u001b[0m\n\u001b[0;32m    504\u001b[0m         \u001b[0mn_jobs_\u001b[0m \u001b[1;33m=\u001b[0m \u001b[0mself\u001b[0m\u001b[1;33m.\u001b[0m\u001b[0mn_jobs\u001b[0m\u001b[1;33m\u001b[0m\u001b[1;33m\u001b[0m\u001b[0m\n\u001b[0;32m    505\u001b[0m         X, y = self._validate_data(X, y, accept_sparse=['csr', 'csc', 'coo'],\n\u001b[1;32m--> 506\u001b[1;33m                                    y_numeric=True, multi_output=True)\n\u001b[0m\u001b[0;32m    507\u001b[0m \u001b[1;33m\u001b[0m\u001b[0m\n\u001b[0;32m    508\u001b[0m         \u001b[1;32mif\u001b[0m \u001b[0msample_weight\u001b[0m \u001b[1;32mis\u001b[0m \u001b[1;32mnot\u001b[0m \u001b[1;32mNone\u001b[0m\u001b[1;33m:\u001b[0m\u001b[1;33m\u001b[0m\u001b[1;33m\u001b[0m\u001b[0m\n",
      "\u001b[1;32m~\\anaconda3\\envs\\PythonData\\lib\\site-packages\\sklearn\\base.py\u001b[0m in \u001b[0;36m_validate_data\u001b[1;34m(self, X, y, reset, validate_separately, **check_params)\u001b[0m\n\u001b[0;32m    430\u001b[0m                 \u001b[0my\u001b[0m \u001b[1;33m=\u001b[0m \u001b[0mcheck_array\u001b[0m\u001b[1;33m(\u001b[0m\u001b[0my\u001b[0m\u001b[1;33m,\u001b[0m \u001b[1;33m**\u001b[0m\u001b[0mcheck_y_params\u001b[0m\u001b[1;33m)\u001b[0m\u001b[1;33m\u001b[0m\u001b[1;33m\u001b[0m\u001b[0m\n\u001b[0;32m    431\u001b[0m             \u001b[1;32melse\u001b[0m\u001b[1;33m:\u001b[0m\u001b[1;33m\u001b[0m\u001b[1;33m\u001b[0m\u001b[0m\n\u001b[1;32m--> 432\u001b[1;33m                 \u001b[0mX\u001b[0m\u001b[1;33m,\u001b[0m \u001b[0my\u001b[0m \u001b[1;33m=\u001b[0m \u001b[0mcheck_X_y\u001b[0m\u001b[1;33m(\u001b[0m\u001b[0mX\u001b[0m\u001b[1;33m,\u001b[0m \u001b[0my\u001b[0m\u001b[1;33m,\u001b[0m \u001b[1;33m**\u001b[0m\u001b[0mcheck_params\u001b[0m\u001b[1;33m)\u001b[0m\u001b[1;33m\u001b[0m\u001b[1;33m\u001b[0m\u001b[0m\n\u001b[0m\u001b[0;32m    433\u001b[0m             \u001b[0mout\u001b[0m \u001b[1;33m=\u001b[0m \u001b[0mX\u001b[0m\u001b[1;33m,\u001b[0m \u001b[0my\u001b[0m\u001b[1;33m\u001b[0m\u001b[1;33m\u001b[0m\u001b[0m\n\u001b[0;32m    434\u001b[0m \u001b[1;33m\u001b[0m\u001b[0m\n",
      "\u001b[1;32m~\\anaconda3\\envs\\PythonData\\lib\\site-packages\\sklearn\\utils\\validation.py\u001b[0m in \u001b[0;36minner_f\u001b[1;34m(*args, **kwargs)\u001b[0m\n\u001b[0;32m     70\u001b[0m                           FutureWarning)\n\u001b[0;32m     71\u001b[0m         \u001b[0mkwargs\u001b[0m\u001b[1;33m.\u001b[0m\u001b[0mupdate\u001b[0m\u001b[1;33m(\u001b[0m\u001b[1;33m{\u001b[0m\u001b[0mk\u001b[0m\u001b[1;33m:\u001b[0m \u001b[0marg\u001b[0m \u001b[1;32mfor\u001b[0m \u001b[0mk\u001b[0m\u001b[1;33m,\u001b[0m \u001b[0marg\u001b[0m \u001b[1;32min\u001b[0m \u001b[0mzip\u001b[0m\u001b[1;33m(\u001b[0m\u001b[0msig\u001b[0m\u001b[1;33m.\u001b[0m\u001b[0mparameters\u001b[0m\u001b[1;33m,\u001b[0m \u001b[0margs\u001b[0m\u001b[1;33m)\u001b[0m\u001b[1;33m}\u001b[0m\u001b[1;33m)\u001b[0m\u001b[1;33m\u001b[0m\u001b[1;33m\u001b[0m\u001b[0m\n\u001b[1;32m---> 72\u001b[1;33m         \u001b[1;32mreturn\u001b[0m \u001b[0mf\u001b[0m\u001b[1;33m(\u001b[0m\u001b[1;33m**\u001b[0m\u001b[0mkwargs\u001b[0m\u001b[1;33m)\u001b[0m\u001b[1;33m\u001b[0m\u001b[1;33m\u001b[0m\u001b[0m\n\u001b[0m\u001b[0;32m     73\u001b[0m     \u001b[1;32mreturn\u001b[0m \u001b[0minner_f\u001b[0m\u001b[1;33m\u001b[0m\u001b[1;33m\u001b[0m\u001b[0m\n\u001b[0;32m     74\u001b[0m \u001b[1;33m\u001b[0m\u001b[0m\n",
      "\u001b[1;32m~\\anaconda3\\envs\\PythonData\\lib\\site-packages\\sklearn\\utils\\validation.py\u001b[0m in \u001b[0;36mcheck_X_y\u001b[1;34m(X, y, accept_sparse, accept_large_sparse, dtype, order, copy, force_all_finite, ensure_2d, allow_nd, multi_output, ensure_min_samples, ensure_min_features, y_numeric, estimator)\u001b[0m\n\u001b[0;32m    800\u001b[0m                     \u001b[0mensure_min_samples\u001b[0m\u001b[1;33m=\u001b[0m\u001b[0mensure_min_samples\u001b[0m\u001b[1;33m,\u001b[0m\u001b[1;33m\u001b[0m\u001b[1;33m\u001b[0m\u001b[0m\n\u001b[0;32m    801\u001b[0m                     \u001b[0mensure_min_features\u001b[0m\u001b[1;33m=\u001b[0m\u001b[0mensure_min_features\u001b[0m\u001b[1;33m,\u001b[0m\u001b[1;33m\u001b[0m\u001b[1;33m\u001b[0m\u001b[0m\n\u001b[1;32m--> 802\u001b[1;33m                     estimator=estimator)\n\u001b[0m\u001b[0;32m    803\u001b[0m     \u001b[1;32mif\u001b[0m \u001b[0mmulti_output\u001b[0m\u001b[1;33m:\u001b[0m\u001b[1;33m\u001b[0m\u001b[1;33m\u001b[0m\u001b[0m\n\u001b[0;32m    804\u001b[0m         y = check_array(y, accept_sparse='csr', force_all_finite=True,\n",
      "\u001b[1;32m~\\anaconda3\\envs\\PythonData\\lib\\site-packages\\sklearn\\utils\\validation.py\u001b[0m in \u001b[0;36minner_f\u001b[1;34m(*args, **kwargs)\u001b[0m\n\u001b[0;32m     70\u001b[0m                           FutureWarning)\n\u001b[0;32m     71\u001b[0m         \u001b[0mkwargs\u001b[0m\u001b[1;33m.\u001b[0m\u001b[0mupdate\u001b[0m\u001b[1;33m(\u001b[0m\u001b[1;33m{\u001b[0m\u001b[0mk\u001b[0m\u001b[1;33m:\u001b[0m \u001b[0marg\u001b[0m \u001b[1;32mfor\u001b[0m \u001b[0mk\u001b[0m\u001b[1;33m,\u001b[0m \u001b[0marg\u001b[0m \u001b[1;32min\u001b[0m \u001b[0mzip\u001b[0m\u001b[1;33m(\u001b[0m\u001b[0msig\u001b[0m\u001b[1;33m.\u001b[0m\u001b[0mparameters\u001b[0m\u001b[1;33m,\u001b[0m \u001b[0margs\u001b[0m\u001b[1;33m)\u001b[0m\u001b[1;33m}\u001b[0m\u001b[1;33m)\u001b[0m\u001b[1;33m\u001b[0m\u001b[1;33m\u001b[0m\u001b[0m\n\u001b[1;32m---> 72\u001b[1;33m         \u001b[1;32mreturn\u001b[0m \u001b[0mf\u001b[0m\u001b[1;33m(\u001b[0m\u001b[1;33m**\u001b[0m\u001b[0mkwargs\u001b[0m\u001b[1;33m)\u001b[0m\u001b[1;33m\u001b[0m\u001b[1;33m\u001b[0m\u001b[0m\n\u001b[0m\u001b[0;32m     73\u001b[0m     \u001b[1;32mreturn\u001b[0m \u001b[0minner_f\u001b[0m\u001b[1;33m\u001b[0m\u001b[1;33m\u001b[0m\u001b[0m\n\u001b[0;32m     74\u001b[0m \u001b[1;33m\u001b[0m\u001b[0m\n",
      "\u001b[1;32m~\\anaconda3\\envs\\PythonData\\lib\\site-packages\\sklearn\\utils\\validation.py\u001b[0m in \u001b[0;36mcheck_array\u001b[1;34m(array, accept_sparse, accept_large_sparse, dtype, order, copy, force_all_finite, ensure_2d, allow_nd, ensure_min_samples, ensure_min_features, estimator)\u001b[0m\n\u001b[0;32m    596\u001b[0m                     \u001b[0marray\u001b[0m \u001b[1;33m=\u001b[0m \u001b[0marray\u001b[0m\u001b[1;33m.\u001b[0m\u001b[0mastype\u001b[0m\u001b[1;33m(\u001b[0m\u001b[0mdtype\u001b[0m\u001b[1;33m,\u001b[0m \u001b[0mcasting\u001b[0m\u001b[1;33m=\u001b[0m\u001b[1;34m\"unsafe\"\u001b[0m\u001b[1;33m,\u001b[0m \u001b[0mcopy\u001b[0m\u001b[1;33m=\u001b[0m\u001b[1;32mFalse\u001b[0m\u001b[1;33m)\u001b[0m\u001b[1;33m\u001b[0m\u001b[1;33m\u001b[0m\u001b[0m\n\u001b[0;32m    597\u001b[0m                 \u001b[1;32melse\u001b[0m\u001b[1;33m:\u001b[0m\u001b[1;33m\u001b[0m\u001b[1;33m\u001b[0m\u001b[0m\n\u001b[1;32m--> 598\u001b[1;33m                     \u001b[0marray\u001b[0m \u001b[1;33m=\u001b[0m \u001b[0mnp\u001b[0m\u001b[1;33m.\u001b[0m\u001b[0masarray\u001b[0m\u001b[1;33m(\u001b[0m\u001b[0marray\u001b[0m\u001b[1;33m,\u001b[0m \u001b[0morder\u001b[0m\u001b[1;33m=\u001b[0m\u001b[0morder\u001b[0m\u001b[1;33m,\u001b[0m \u001b[0mdtype\u001b[0m\u001b[1;33m=\u001b[0m\u001b[0mdtype\u001b[0m\u001b[1;33m)\u001b[0m\u001b[1;33m\u001b[0m\u001b[1;33m\u001b[0m\u001b[0m\n\u001b[0m\u001b[0;32m    599\u001b[0m             \u001b[1;32mexcept\u001b[0m \u001b[0mComplexWarning\u001b[0m\u001b[1;33m:\u001b[0m\u001b[1;33m\u001b[0m\u001b[1;33m\u001b[0m\u001b[0m\n\u001b[0;32m    600\u001b[0m                 raise ValueError(\"Complex data not supported\\n\"\n",
      "\u001b[1;32m~\\anaconda3\\envs\\PythonData\\lib\\site-packages\\numpy\\core\\_asarray.py\u001b[0m in \u001b[0;36masarray\u001b[1;34m(a, dtype, order)\u001b[0m\n\u001b[0;32m     81\u001b[0m \u001b[1;33m\u001b[0m\u001b[0m\n\u001b[0;32m     82\u001b[0m     \"\"\"\n\u001b[1;32m---> 83\u001b[1;33m     \u001b[1;32mreturn\u001b[0m \u001b[0marray\u001b[0m\u001b[1;33m(\u001b[0m\u001b[0ma\u001b[0m\u001b[1;33m,\u001b[0m \u001b[0mdtype\u001b[0m\u001b[1;33m,\u001b[0m \u001b[0mcopy\u001b[0m\u001b[1;33m=\u001b[0m\u001b[1;32mFalse\u001b[0m\u001b[1;33m,\u001b[0m \u001b[0morder\u001b[0m\u001b[1;33m=\u001b[0m\u001b[0morder\u001b[0m\u001b[1;33m)\u001b[0m\u001b[1;33m\u001b[0m\u001b[1;33m\u001b[0m\u001b[0m\n\u001b[0m\u001b[0;32m     84\u001b[0m \u001b[1;33m\u001b[0m\u001b[0m\n\u001b[0;32m     85\u001b[0m \u001b[1;33m\u001b[0m\u001b[0m\n",
      "\u001b[1;32m~\\anaconda3\\envs\\PythonData\\lib\\site-packages\\pandas\\core\\series.py\u001b[0m in \u001b[0;36m__array__\u001b[1;34m(self, dtype)\u001b[0m\n\u001b[0;32m    795\u001b[0m               dtype='datetime64[ns]')\n\u001b[0;32m    796\u001b[0m         \"\"\"\n\u001b[1;32m--> 797\u001b[1;33m         \u001b[1;32mreturn\u001b[0m \u001b[0mnp\u001b[0m\u001b[1;33m.\u001b[0m\u001b[0masarray\u001b[0m\u001b[1;33m(\u001b[0m\u001b[0mself\u001b[0m\u001b[1;33m.\u001b[0m\u001b[0marray\u001b[0m\u001b[1;33m,\u001b[0m \u001b[0mdtype\u001b[0m\u001b[1;33m)\u001b[0m\u001b[1;33m\u001b[0m\u001b[1;33m\u001b[0m\u001b[0m\n\u001b[0m\u001b[0;32m    798\u001b[0m \u001b[1;33m\u001b[0m\u001b[0m\n\u001b[0;32m    799\u001b[0m     \u001b[1;31m# ----------------------------------------------------------------------\u001b[0m\u001b[1;33m\u001b[0m\u001b[1;33m\u001b[0m\u001b[1;33m\u001b[0m\u001b[0m\n",
      "\u001b[1;32m~\\anaconda3\\envs\\PythonData\\lib\\site-packages\\numpy\\core\\_asarray.py\u001b[0m in \u001b[0;36masarray\u001b[1;34m(a, dtype, order)\u001b[0m\n\u001b[0;32m     81\u001b[0m \u001b[1;33m\u001b[0m\u001b[0m\n\u001b[0;32m     82\u001b[0m     \"\"\"\n\u001b[1;32m---> 83\u001b[1;33m     \u001b[1;32mreturn\u001b[0m \u001b[0marray\u001b[0m\u001b[1;33m(\u001b[0m\u001b[0ma\u001b[0m\u001b[1;33m,\u001b[0m \u001b[0mdtype\u001b[0m\u001b[1;33m,\u001b[0m \u001b[0mcopy\u001b[0m\u001b[1;33m=\u001b[0m\u001b[1;32mFalse\u001b[0m\u001b[1;33m,\u001b[0m \u001b[0morder\u001b[0m\u001b[1;33m=\u001b[0m\u001b[0morder\u001b[0m\u001b[1;33m)\u001b[0m\u001b[1;33m\u001b[0m\u001b[1;33m\u001b[0m\u001b[0m\n\u001b[0m\u001b[0;32m     84\u001b[0m \u001b[1;33m\u001b[0m\u001b[0m\n\u001b[0;32m     85\u001b[0m \u001b[1;33m\u001b[0m\u001b[0m\n",
      "\u001b[1;32m~\\anaconda3\\envs\\PythonData\\lib\\site-packages\\pandas\\core\\arrays\\numpy_.py\u001b[0m in \u001b[0;36m__array__\u001b[1;34m(self, dtype)\u001b[0m\n\u001b[0;32m    209\u001b[0m \u001b[1;33m\u001b[0m\u001b[0m\n\u001b[0;32m    210\u001b[0m     \u001b[1;32mdef\u001b[0m \u001b[0m__array__\u001b[0m\u001b[1;33m(\u001b[0m\u001b[0mself\u001b[0m\u001b[1;33m,\u001b[0m \u001b[0mdtype\u001b[0m\u001b[1;33m=\u001b[0m\u001b[1;32mNone\u001b[0m\u001b[1;33m)\u001b[0m \u001b[1;33m->\u001b[0m \u001b[0mnp\u001b[0m\u001b[1;33m.\u001b[0m\u001b[0mndarray\u001b[0m\u001b[1;33m:\u001b[0m\u001b[1;33m\u001b[0m\u001b[1;33m\u001b[0m\u001b[0m\n\u001b[1;32m--> 211\u001b[1;33m         \u001b[1;32mreturn\u001b[0m \u001b[0mnp\u001b[0m\u001b[1;33m.\u001b[0m\u001b[0masarray\u001b[0m\u001b[1;33m(\u001b[0m\u001b[0mself\u001b[0m\u001b[1;33m.\u001b[0m\u001b[0m_ndarray\u001b[0m\u001b[1;33m,\u001b[0m \u001b[0mdtype\u001b[0m\u001b[1;33m=\u001b[0m\u001b[0mdtype\u001b[0m\u001b[1;33m)\u001b[0m\u001b[1;33m\u001b[0m\u001b[1;33m\u001b[0m\u001b[0m\n\u001b[0m\u001b[0;32m    212\u001b[0m \u001b[1;33m\u001b[0m\u001b[0m\n\u001b[0;32m    213\u001b[0m     \u001b[0m_HANDLED_TYPES\u001b[0m \u001b[1;33m=\u001b[0m \u001b[1;33m(\u001b[0m\u001b[0mnp\u001b[0m\u001b[1;33m.\u001b[0m\u001b[0mndarray\u001b[0m\u001b[1;33m,\u001b[0m \u001b[0mnumbers\u001b[0m\u001b[1;33m.\u001b[0m\u001b[0mNumber\u001b[0m\u001b[1;33m)\u001b[0m\u001b[1;33m\u001b[0m\u001b[1;33m\u001b[0m\u001b[0m\n",
      "\u001b[1;32m~\\anaconda3\\envs\\PythonData\\lib\\site-packages\\numpy\\core\\_asarray.py\u001b[0m in \u001b[0;36masarray\u001b[1;34m(a, dtype, order)\u001b[0m\n\u001b[0;32m     81\u001b[0m \u001b[1;33m\u001b[0m\u001b[0m\n\u001b[0;32m     82\u001b[0m     \"\"\"\n\u001b[1;32m---> 83\u001b[1;33m     \u001b[1;32mreturn\u001b[0m \u001b[0marray\u001b[0m\u001b[1;33m(\u001b[0m\u001b[0ma\u001b[0m\u001b[1;33m,\u001b[0m \u001b[0mdtype\u001b[0m\u001b[1;33m,\u001b[0m \u001b[0mcopy\u001b[0m\u001b[1;33m=\u001b[0m\u001b[1;32mFalse\u001b[0m\u001b[1;33m,\u001b[0m \u001b[0morder\u001b[0m\u001b[1;33m=\u001b[0m\u001b[0morder\u001b[0m\u001b[1;33m)\u001b[0m\u001b[1;33m\u001b[0m\u001b[1;33m\u001b[0m\u001b[0m\n\u001b[0m\u001b[0;32m     84\u001b[0m \u001b[1;33m\u001b[0m\u001b[0m\n\u001b[0;32m     85\u001b[0m \u001b[1;33m\u001b[0m\u001b[0m\n",
      "\u001b[1;31mValueError\u001b[0m: could not convert string to float: 'Bachelor’s degree'"
     ]
    }
   ],
   "source": [
    "Women_model.fit(Women_X, Women_y)"
   ]
  },
  {
   "cell_type": "code",
   "execution_count": 283,
   "metadata": {},
   "outputs": [
    {
     "data": {
      "text/plain": [
       "LinearRegression()"
      ]
     },
     "execution_count": 283,
     "metadata": {},
     "output_type": "execute_result"
    }
   ],
   "source": [
    "Men_model.fit(Men_X, Men_y)"
   ]
  },
  {
   "cell_type": "code",
   "execution_count": 284,
   "metadata": {},
   "outputs": [
    {
     "ename": "ValueError",
     "evalue": "x and y must be the same size",
     "output_type": "error",
     "traceback": [
      "\u001b[1;31m---------------------------------------------------------------------------\u001b[0m",
      "\u001b[1;31mValueError\u001b[0m                                Traceback (most recent call last)",
      "\u001b[1;32m<ipython-input-284-54d6bd99bb50>\u001b[0m in \u001b[0;36m<module>\u001b[1;34m\u001b[0m\n\u001b[1;32m----> 1\u001b[1;33m \u001b[0mplt\u001b[0m\u001b[1;33m.\u001b[0m\u001b[0mscatter\u001b[0m\u001b[1;33m(\u001b[0m\u001b[0mWomen_X\u001b[0m\u001b[1;33m,\u001b[0m \u001b[0mWomen_y\u001b[0m\u001b[1;33m)\u001b[0m\u001b[1;33m\u001b[0m\u001b[1;33m\u001b[0m\u001b[0m\n\u001b[0m\u001b[0;32m      2\u001b[0m \u001b[0mplt\u001b[0m\u001b[1;33m.\u001b[0m\u001b[0mplot\u001b[0m\u001b[1;33m(\u001b[0m\u001b[0mWomen_X\u001b[0m\u001b[1;33m,\u001b[0m \u001b[0mWomen_y_pred\u001b[0m\u001b[1;33m,\u001b[0m \u001b[0mcolor\u001b[0m\u001b[1;33m=\u001b[0m\u001b[1;34m'red'\u001b[0m\u001b[1;33m)\u001b[0m\u001b[1;33m\u001b[0m\u001b[1;33m\u001b[0m\u001b[0m\n\u001b[0;32m      3\u001b[0m \u001b[0mplt\u001b[0m\u001b[1;33m.\u001b[0m\u001b[0mxlabel\u001b[0m\u001b[1;33m(\u001b[0m\u001b[1;34m'Formal Education'\u001b[0m\u001b[1;33m)\u001b[0m\u001b[1;33m\u001b[0m\u001b[1;33m\u001b[0m\u001b[0m\n\u001b[0;32m      4\u001b[0m \u001b[0mplt\u001b[0m\u001b[1;33m.\u001b[0m\u001b[0mxticks\u001b[0m\u001b[1;33m(\u001b[0m\u001b[0mrotation\u001b[0m\u001b[1;33m=\u001b[0m\u001b[1;36m45\u001b[0m\u001b[1;33m)\u001b[0m\u001b[1;33m\u001b[0m\u001b[1;33m\u001b[0m\u001b[0m\n\u001b[0;32m      5\u001b[0m \u001b[0mplt\u001b[0m\u001b[1;33m.\u001b[0m\u001b[0mylabel\u001b[0m\u001b[1;33m(\u001b[0m\u001b[1;34m'Salary in USD'\u001b[0m\u001b[1;33m)\u001b[0m\u001b[1;33m\u001b[0m\u001b[1;33m\u001b[0m\u001b[0m\n",
      "\u001b[1;32m~\\anaconda3\\envs\\PythonData\\lib\\site-packages\\matplotlib\\pyplot.py\u001b[0m in \u001b[0;36mscatter\u001b[1;34m(x, y, s, c, marker, cmap, norm, vmin, vmax, alpha, linewidths, verts, edgecolors, plotnonfinite, data, **kwargs)\u001b[0m\n\u001b[0;32m   2893\u001b[0m         \u001b[0mverts\u001b[0m\u001b[1;33m=\u001b[0m\u001b[0mverts\u001b[0m\u001b[1;33m,\u001b[0m \u001b[0medgecolors\u001b[0m\u001b[1;33m=\u001b[0m\u001b[0medgecolors\u001b[0m\u001b[1;33m,\u001b[0m\u001b[1;33m\u001b[0m\u001b[1;33m\u001b[0m\u001b[0m\n\u001b[0;32m   2894\u001b[0m         \u001b[0mplotnonfinite\u001b[0m\u001b[1;33m=\u001b[0m\u001b[0mplotnonfinite\u001b[0m\u001b[1;33m,\u001b[0m\u001b[1;33m\u001b[0m\u001b[1;33m\u001b[0m\u001b[0m\n\u001b[1;32m-> 2895\u001b[1;33m         **({\"data\": data} if data is not None else {}), **kwargs)\n\u001b[0m\u001b[0;32m   2896\u001b[0m     \u001b[0msci\u001b[0m\u001b[1;33m(\u001b[0m\u001b[0m__ret\u001b[0m\u001b[1;33m)\u001b[0m\u001b[1;33m\u001b[0m\u001b[1;33m\u001b[0m\u001b[0m\n\u001b[0;32m   2897\u001b[0m     \u001b[1;32mreturn\u001b[0m \u001b[0m__ret\u001b[0m\u001b[1;33m\u001b[0m\u001b[1;33m\u001b[0m\u001b[0m\n",
      "\u001b[1;32m~\\anaconda3\\envs\\PythonData\\lib\\site-packages\\matplotlib\\__init__.py\u001b[0m in \u001b[0;36minner\u001b[1;34m(ax, data, *args, **kwargs)\u001b[0m\n\u001b[0;32m   1436\u001b[0m     \u001b[1;32mdef\u001b[0m \u001b[0minner\u001b[0m\u001b[1;33m(\u001b[0m\u001b[0max\u001b[0m\u001b[1;33m,\u001b[0m \u001b[1;33m*\u001b[0m\u001b[0margs\u001b[0m\u001b[1;33m,\u001b[0m \u001b[0mdata\u001b[0m\u001b[1;33m=\u001b[0m\u001b[1;32mNone\u001b[0m\u001b[1;33m,\u001b[0m \u001b[1;33m**\u001b[0m\u001b[0mkwargs\u001b[0m\u001b[1;33m)\u001b[0m\u001b[1;33m:\u001b[0m\u001b[1;33m\u001b[0m\u001b[1;33m\u001b[0m\u001b[0m\n\u001b[0;32m   1437\u001b[0m         \u001b[1;32mif\u001b[0m \u001b[0mdata\u001b[0m \u001b[1;32mis\u001b[0m \u001b[1;32mNone\u001b[0m\u001b[1;33m:\u001b[0m\u001b[1;33m\u001b[0m\u001b[1;33m\u001b[0m\u001b[0m\n\u001b[1;32m-> 1438\u001b[1;33m             \u001b[1;32mreturn\u001b[0m \u001b[0mfunc\u001b[0m\u001b[1;33m(\u001b[0m\u001b[0max\u001b[0m\u001b[1;33m,\u001b[0m \u001b[1;33m*\u001b[0m\u001b[0mmap\u001b[0m\u001b[1;33m(\u001b[0m\u001b[0msanitize_sequence\u001b[0m\u001b[1;33m,\u001b[0m \u001b[0margs\u001b[0m\u001b[1;33m)\u001b[0m\u001b[1;33m,\u001b[0m \u001b[1;33m**\u001b[0m\u001b[0mkwargs\u001b[0m\u001b[1;33m)\u001b[0m\u001b[1;33m\u001b[0m\u001b[1;33m\u001b[0m\u001b[0m\n\u001b[0m\u001b[0;32m   1439\u001b[0m \u001b[1;33m\u001b[0m\u001b[0m\n\u001b[0;32m   1440\u001b[0m         \u001b[0mbound\u001b[0m \u001b[1;33m=\u001b[0m \u001b[0mnew_sig\u001b[0m\u001b[1;33m.\u001b[0m\u001b[0mbind\u001b[0m\u001b[1;33m(\u001b[0m\u001b[0max\u001b[0m\u001b[1;33m,\u001b[0m \u001b[1;33m*\u001b[0m\u001b[0margs\u001b[0m\u001b[1;33m,\u001b[0m \u001b[1;33m**\u001b[0m\u001b[0mkwargs\u001b[0m\u001b[1;33m)\u001b[0m\u001b[1;33m\u001b[0m\u001b[1;33m\u001b[0m\u001b[0m\n",
      "\u001b[1;32m~\\anaconda3\\envs\\PythonData\\lib\\site-packages\\matplotlib\\cbook\\deprecation.py\u001b[0m in \u001b[0;36mwrapper\u001b[1;34m(*inner_args, **inner_kwargs)\u001b[0m\n\u001b[0;32m    409\u001b[0m                          \u001b[1;32melse\u001b[0m \u001b[0mdeprecation_addendum\u001b[0m\u001b[1;33m,\u001b[0m\u001b[1;33m\u001b[0m\u001b[1;33m\u001b[0m\u001b[0m\n\u001b[0;32m    410\u001b[0m                 **kwargs)\n\u001b[1;32m--> 411\u001b[1;33m         \u001b[1;32mreturn\u001b[0m \u001b[0mfunc\u001b[0m\u001b[1;33m(\u001b[0m\u001b[1;33m*\u001b[0m\u001b[0minner_args\u001b[0m\u001b[1;33m,\u001b[0m \u001b[1;33m**\u001b[0m\u001b[0minner_kwargs\u001b[0m\u001b[1;33m)\u001b[0m\u001b[1;33m\u001b[0m\u001b[1;33m\u001b[0m\u001b[0m\n\u001b[0m\u001b[0;32m    412\u001b[0m \u001b[1;33m\u001b[0m\u001b[0m\n\u001b[0;32m    413\u001b[0m     \u001b[1;32mreturn\u001b[0m \u001b[0mwrapper\u001b[0m\u001b[1;33m\u001b[0m\u001b[1;33m\u001b[0m\u001b[0m\n",
      "\u001b[1;32m~\\anaconda3\\envs\\PythonData\\lib\\site-packages\\matplotlib\\axes\\_axes.py\u001b[0m in \u001b[0;36mscatter\u001b[1;34m(self, x, y, s, c, marker, cmap, norm, vmin, vmax, alpha, linewidths, verts, edgecolors, plotnonfinite, **kwargs)\u001b[0m\n\u001b[0;32m   4439\u001b[0m         \u001b[0my\u001b[0m \u001b[1;33m=\u001b[0m \u001b[0mnp\u001b[0m\u001b[1;33m.\u001b[0m\u001b[0mma\u001b[0m\u001b[1;33m.\u001b[0m\u001b[0mravel\u001b[0m\u001b[1;33m(\u001b[0m\u001b[0my\u001b[0m\u001b[1;33m)\u001b[0m\u001b[1;33m\u001b[0m\u001b[1;33m\u001b[0m\u001b[0m\n\u001b[0;32m   4440\u001b[0m         \u001b[1;32mif\u001b[0m \u001b[0mx\u001b[0m\u001b[1;33m.\u001b[0m\u001b[0msize\u001b[0m \u001b[1;33m!=\u001b[0m \u001b[0my\u001b[0m\u001b[1;33m.\u001b[0m\u001b[0msize\u001b[0m\u001b[1;33m:\u001b[0m\u001b[1;33m\u001b[0m\u001b[1;33m\u001b[0m\u001b[0m\n\u001b[1;32m-> 4441\u001b[1;33m             \u001b[1;32mraise\u001b[0m \u001b[0mValueError\u001b[0m\u001b[1;33m(\u001b[0m\u001b[1;34m\"x and y must be the same size\"\u001b[0m\u001b[1;33m)\u001b[0m\u001b[1;33m\u001b[0m\u001b[1;33m\u001b[0m\u001b[0m\n\u001b[0m\u001b[0;32m   4442\u001b[0m \u001b[1;33m\u001b[0m\u001b[0m\n\u001b[0;32m   4443\u001b[0m         \u001b[1;32mif\u001b[0m \u001b[0ms\u001b[0m \u001b[1;32mis\u001b[0m \u001b[1;32mNone\u001b[0m\u001b[1;33m:\u001b[0m\u001b[1;33m\u001b[0m\u001b[1;33m\u001b[0m\u001b[0m\n",
      "\u001b[1;31mValueError\u001b[0m: x and y must be the same size"
     ]
    },
    {
     "data": {
      "image/png": "[encoded data removed]",
      "text/plain": [
       "<Figure size 432x288 with 1 Axes>"
      ]
     },
     "metadata": {
      "needs_background": "light"
     },
     "output_type": "display_data"
    }
   ],
   "source": [
    "plt.scatter(Women_X, Women_y)\n",
    "plt.plot(Women_X, Women_y_pred, color='red')\n",
    "plt.xlabel('Formal Education')\n",
    "plt.xticks(rotation=45)\n",
    "plt.ylabel('Salary in USD')\n",
    "plt.title('Women: Education vs Salary')\n",
    "plt.show()"
   ]
  },
  {
   "cell_type": "code",
   "execution_count": 228,
   "metadata": {},
   "outputs": [
    {
     "data": {
      "image/png": "[encoded data removed]",
      "text/plain": [
       "<Figure size 432x288 with 1 Axes>"
      ]
     },
     "metadata": {
      "needs_background": "light"
     },
     "output_type": "display_data"
    }
   ],
   "source": [
    "plt.scatter(Men_X, Men_y)\n",
    "plt.plot(Men_X, Men_y_pred, color='red')\n",
    "plt.xlabel('Formal Education')\n",
    "plt.xticks(rotation=45)\n",
    "plt.ylabel('Salary in USD')\n",
    "plt.title('Men: Education vs Salary')\n",
    "plt.show()"
   ]
  },
  {
   "cell_type": "code",
   "execution_count": 285,
   "metadata": {},
   "outputs": [
    {
     "name": "stdout",
     "output_type": "stream",
     "text": [
      "[ 35506.13354232  16559.76062253  76118.18181818 -36998.48484848]\n",
      "92631.31818181818\n"
     ]
    }
   ],
   "source": [
    "print(Women_model.coef_)\n",
    "print(Women_model.intercept_)"
   ]
  },
  {
   "cell_type": "code",
   "execution_count": 286,
   "metadata": {},
   "outputs": [
    {
     "name": "stdout",
     "output_type": "stream",
     "text": [
      "[ 22587.08552319 -13073.76811738   4894.08671744  -4760.83105444\n",
      "  36988.55666268  -8179.56462551]\n",
      "124664.1772082879\n"
     ]
    }
   ],
   "source": [
    "print(Men_model.coef_)\n",
    "print(Men_model.intercept_)"
   ]
  },
  {
   "cell_type": "code",
   "execution_count": 287,
   "metadata": {},
   "outputs": [
    {
     "name": "stdout",
     "output_type": "stream",
     "text": [
      "0.0610649644797977 0.05516898309505547\n"
     ]
    }
   ],
   "source": [
    "# compute with statsmodels, by adding intercept manually\n",
    "import statsmodels.api as sm\n",
    "Women_X1 = sm.add_constant(Women_X)\n",
    "result = sm.OLS(Women_y, Women_X1).fit()\n",
    "#print dir(result)\n",
    "print(result.rsquared, result.rsquared_adj)"
   ]
  },
  {
   "cell_type": "code",
   "execution_count": 288,
   "metadata": {},
   "outputs": [
    {
     "name": "stdout",
     "output_type": "stream",
     "text": [
      "0.017806927883285195 0.01629431021575445\n"
     ]
    }
   ],
   "source": [
    "# compute with statsmodels, by adding intercept manually\n",
    "import statsmodels.api as sm\n",
    "Men_X1 = sm.add_constant(Men_X)\n",
    "result = sm.OLS(Men_y, Men_X1).fit()\n",
    "#print dir(result)\n",
    "print(result.rsquared, result.rsquared_adj)"
   ]
  },
  {
   "cell_type": "code",
   "execution_count": null,
   "metadata": {},
   "outputs": [],
   "source": []
  }
 ],
 "metadata": {
  "kernelspec": {
   "display_name": "Python 3",
   "language": "python",
   "name": "python3"
  },
  "language_info": {
   "codemirror_mode": {
    "name": "ipython",
    "version": 3
   },
   "file_extension": ".py",
   "mimetype": "text/x-python",
   "name": "python",
   "nbconvert_exporter": "python",
   "pygments_lexer": "ipython3",
   "version": "3.7.9"
  }
 },
 "nbformat": 4,
 "nbformat_minor": 4
}
